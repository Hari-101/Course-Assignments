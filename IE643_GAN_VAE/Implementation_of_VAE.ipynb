{
  "nbformat": 4,
  "nbformat_minor": 0,
  "metadata": {
    "colab": {
      "name": "IE643_203170005_assignment2_Ex2.ipynb",
      "provenance": [],
      "collapsed_sections": []
    },
    "kernelspec": {
      "name": "python3",
      "display_name": "Python 3"
    },
    "language_info": {
      "name": "python"
    },
    "accelerator": "GPU"
  },
  "cells": [
    {
      "cell_type": "code",
      "metadata": {
        "id": "3Vv-ahrjwaAa"
      },
      "source": [
        "import torch\n",
        "import torch.utils.data\n",
        "from torch import nn, optim\n",
        "from torch.nn import functional as F\n",
        "from torchvision import datasets, transforms\n",
        "import torchvision\n",
        "from torch.autograd import Variable\n",
        "import numpy as np\n",
        "import matplotlib.pyplot as plt\n",
        "\n",
        "from torchvision.datasets import ImageFolder\n",
        "import torchvision.utils as vutils"
      ],
      "execution_count": 46,
      "outputs": []
    },
    {
      "cell_type": "code",
      "metadata": {
        "id": "XxTaGj0uZLKF"
      },
      "source": [
        ""
      ],
      "execution_count": null,
      "outputs": []
    },
    {
      "cell_type": "code",
      "metadata": {
        "id": "OvM1KKK9waAl"
      },
      "source": [
        "# Class to print string in bold\n",
        "class color:\n",
        "   PURPLE = '\\033[95m'\n",
        "   CYAN = '\\033[96m'\n",
        "   DARKCYAN = '\\033[36m'\n",
        "   BLUE = '\\033[94m'\n",
        "   GREEN = '\\033[92m'\n",
        "   YELLOW = '\\033[93m'\n",
        "   RED = '\\033[91m'\n",
        "   BOLD = '\\033[1m'\n",
        "   UNDERLINE = '\\033[4m'\n",
        "   END = '\\033[0m'"
      ],
      "execution_count": 2,
      "outputs": []
    },
    {
      "cell_type": "code",
      "metadata": {
        "id": "OVla9GpDwaAs",
        "colab": {
          "base_uri": "https://localhost:8080/"
        },
        "outputId": "2350ff02-c2ed-43ca-aa18-5dfe8592529e"
      },
      "source": [
        "cuda = torch.cuda.is_available()\n",
        "device = torch.device(\"cuda\" if cuda else \"cpu\")\n",
        "print (device)"
      ],
      "execution_count": 3,
      "outputs": [
        {
          "output_type": "stream",
          "name": "stdout",
          "text": [
            "cpu\n"
          ]
        }
      ]
    },
    {
      "cell_type": "code",
      "metadata": {
        "id": "cIPf0YNDwaAu"
      },
      "source": [
        "# functions to show an image\n",
        "\n",
        "def imshow(img, title = False):\n",
        "\n",
        "    plt.imshow(np.transpose(img, (1, 2, 0)))\n",
        "    if(title):\n",
        "        plt.title(\"{}\".format(title))\n",
        "    plt.show()\n"
      ],
      "execution_count": 4,
      "outputs": []
    },
    {
      "cell_type": "code",
      "metadata": {
        "colab": {
          "base_uri": "https://localhost:8080/"
        },
        "id": "lgShJxUdZMz_",
        "outputId": "d81f685a-45d3-4cf1-80e1-ac3f76833cd2"
      },
      "source": [
        "from google.colab import drive\n",
        "drive.mount('/content/drive')"
      ],
      "execution_count": 5,
      "outputs": [
        {
          "output_type": "stream",
          "name": "stdout",
          "text": [
            "Mounted at /content/drive\n"
          ]
        }
      ]
    },
    {
      "cell_type": "code",
      "metadata": {
        "id": "Vc4_EqXbZMaA"
      },
      "source": [
        ""
      ],
      "execution_count": null,
      "outputs": []
    },
    {
      "cell_type": "code",
      "metadata": {
        "id": "aVh3u1pIq_qe"
      },
      "source": [
        "base_dir = '/content/drive/MyDrive/IE643_Assignment2/Folder_Labelled'\n",
        "transformer = torchvision.transforms.Compose(\n",
        "    [  # Applying Augmentation\n",
        "        transforms.Resize((64, 64)),\n",
        "        transforms.ToTensor(),\n",
        "        transforms.Normalize(\n",
        "            mean=[0.5, 0.5, 0.5], std=[0.5, 0.5, 0.5]\n",
        "        ),\n",
        "    ]\n",
        ")\n",
        "dataset = ImageFolder(base_dir, transform=transformer)"
      ],
      "execution_count": 6,
      "outputs": []
    },
    {
      "cell_type": "code",
      "metadata": {
        "colab": {
          "base_uri": "https://localhost:8080/"
        },
        "id": "q4N6DiD4ZN8Q",
        "outputId": "5a42a65f-5d1d-4f98-de99-0db3945af3e6"
      },
      "source": [
        "#Only class-5 (class numbering starts from 0,1,2..) is selected. This roughly appears to be sunflower category.\n",
        "\n",
        "mb_size = 4   #Mini-batch size\n",
        "\n",
        "def get_indices(dataset, k):\n",
        "    indices =  []\n",
        "    sub_data = []\n",
        "    for i in range(len(dataset.targets)):  #use train_labels if error with tragets \n",
        "        if dataset.targets[i] == k :  # or dataset.targets[i] == 4 or dataset.targets[i] == 6:\n",
        "            indices.append(i)   #indices of data with labels 2, 4 or 6\n",
        "            sub_data.append(dataset[i])\n",
        "    return indices, sub_data\n",
        "\n",
        "idx, sub_data = get_indices(dataset, 5)       #Class-5 is selected for training purpose.\n",
        "print(len(idx))\n",
        "\n",
        "from sklearn.model_selection import train_test_split\n",
        "idx_train, idx_test = train_test_split(idx, test_size=0.1, random_state=42)\n",
        "\n",
        "train_loader = torch.utils.data.DataLoader(dataset,batch_size=mb_size, \n",
        "                                          sampler = torch.utils.data.sampler.SubsetRandomSampler(idx_train))"
      ],
      "execution_count": 7,
      "outputs": [
        {
          "output_type": "stream",
          "name": "stdout",
          "text": [
            "80\n"
          ]
        }
      ]
    },
    {
      "cell_type": "markdown",
      "metadata": {
        "id": "EGfqdTnEwaAz"
      },
      "source": [
        "# VAE Model"
      ]
    },
    {
      "cell_type": "code",
      "metadata": {
        "id": "m3whCzAJwaA1"
      },
      "source": [
        "class VAE(nn.Module):\n",
        "    def __init__(self,  image_size = 64, channel_num = 3, kernel_num = 128, z_size = 8):\n",
        "        # configurations\n",
        "        super().__init__()\n",
        "        self.image_size = image_size\n",
        "        self.channel_num = channel_num\n",
        "        self.kernel_num = kernel_num\n",
        "        self.z_size = z_size\n",
        "\n",
        "        self.num_encoder_layers = 2\n",
        "        \n",
        "        # encoder\n",
        "        self.encoder = nn.Sequential(\n",
        "            self._conv(channel_num, kernel_num // 2),\n",
        "\n",
        "            self._conv(kernel_num // 2, kernel_num)\n",
        "        )\n",
        "\n",
        "        # encoded feature's size and volume\n",
        "        self.feature_size = image_size // (2**self.num_encoder_layers)\n",
        "        self.feature_volume = kernel_num * (self.feature_size ** 2)\n",
        "\n",
        "        self.q_mean = self._linear(self.feature_volume, z_size, relu=False)\n",
        "        self.q_logvar = self._linear(self.feature_volume, z_size, relu=False)\n",
        "\n",
        "        # projection\n",
        "        self.project = self._linear(z_size, self.feature_volume, relu=False)\n",
        "\n",
        "        \n",
        "        # decoder\n",
        "        self.decoder = nn.Sequential(\n",
        "            self._deconv(kernel_num, kernel_num // 2),\n",
        "\n",
        "            self._deconv(kernel_num // 2, channel_num),\n",
        "            \n",
        "        \n",
        "            nn.ReLU()\n",
        "        )\n",
        "\n",
        "        \n",
        "    def forward(self, x):\n",
        "        # encode x\n",
        "        encoded = self.encoder(x)\n",
        "\n",
        "        mean, logvar = self.q(encoded)\n",
        "        z = self.z(mean, logvar)\n",
        "        z_projected = self.project(z).view(\n",
        "            -1, self.kernel_num,\n",
        "            self.feature_size,\n",
        "            self.feature_size,\n",
        "        )\n",
        "        # reconstruct x from z\n",
        "        x_reconstructed = self.decoder(z_projected)\n",
        "        return (mean, logvar, x_reconstructed)\n",
        "\n",
        "    # ==============\n",
        "    # VAE components\n",
        "    # ==============\n",
        "\n",
        "    def q(self, encoded):\n",
        "        unrolled = encoded.view(-1, self.feature_volume)\n",
        "        return self.q_mean(unrolled), self.q_logvar(unrolled)\n",
        "\n",
        "    def z(self, mean, logvar):\n",
        "        std = logvar.mul(0.5).exp_()\n",
        "        eps = (\n",
        "            Variable(torch.randn(std.size())).to(device)\n",
        "        )\n",
        "        return eps.mul(std).add_(mean)\n",
        "\n",
        "    def reconstruction_loss(self, x_reconstructed, x):\n",
        "        return nn.MSELoss(size_average=False)(x_reconstructed, x)/ x.size(0)\n",
        "    def kl_divergence_loss(self, mean, logvar):\n",
        "        return ((mean**2 + logvar.exp() - 1 - logvar) / 2).mean()\n",
        "    \n",
        "\n",
        "    # ======\n",
        "    # Layers\n",
        "    # ======\n",
        "\n",
        "    def _conv(self, channel_size, kernel_num):\n",
        "        return nn.Sequential(\n",
        "            nn.Conv2d(\n",
        "                channel_size, kernel_num,\n",
        "                kernel_size=4, stride=2, padding=1,\n",
        "            ),\n",
        "            nn.ReLU(),\n",
        "        )\n",
        "\n",
        "    def _deconv(self, channel_num, kernel_num):\n",
        "        return nn.Sequential(\n",
        "            nn.ConvTranspose2d(\n",
        "                channel_num, kernel_num,\n",
        "                kernel_size=4, stride=2, padding=1,\n",
        "            ),\n",
        "            nn.ReLU(),\n",
        "        )\n",
        "\n",
        "    def _linear(self, in_size, out_size, relu=True):\n",
        "        return nn.Sequential(\n",
        "            nn.Linear(in_size, out_size),\n",
        "            nn.ReLU(),\n",
        "        ) if relu else nn.Linear(in_size, out_size)\n",
        "\n"
      ],
      "execution_count": 22,
      "outputs": []
    },
    {
      "cell_type": "code",
      "metadata": {
        "id": "KsgwsrNgwaA5"
      },
      "source": [
        "model = VAE().to(device)\n",
        "optimizer_vae = optim.Adam(model.parameters(), lr=1e-3, weight_decay=1e-3)"
      ],
      "execution_count": 51,
      "outputs": []
    },
    {
      "cell_type": "markdown",
      "metadata": {
        "id": "wP0qjIgXwaA8"
      },
      "source": [
        "# Train Function"
      ]
    },
    {
      "cell_type": "code",
      "metadata": {
        "id": "rHsU5Uw2waA-"
      },
      "source": [
        "epoch_list=[]\n",
        "kl_loss_list=[]\n",
        "rec_loss_list=[]\n",
        "train_obj_list=[]\n",
        "epochs = 300\n",
        "for epoch in range(1, epochs + 1):\n",
        "    train_loss = 0\n",
        "    recon_loss = 0\n",
        "    kl_loss = 0\n",
        "    recon_batch = None\n",
        "    for batch_idx, (data, classes) in enumerate(train_loader):\n",
        "            data, classes = data.to(device), classes.to(device)\n",
        "            optimizer_vae.zero_grad()\n",
        "            mu, logvar, recon_batch = model(data)\n",
        "\n",
        "\n",
        "            reconstruction_loss = model.reconstruction_loss(recon_batch, data)\n",
        "            kl_divergence_loss = model.kl_divergence_loss(mu, logvar)\n",
        "            recon_loss += reconstruction_loss.item()\n",
        "            loss = reconstruction_loss + kl_divergence_loss #+ 100*quantile_loss\n",
        "            kl_loss += kl_divergence_loss.item()\n",
        "            loss.backward()\n",
        "            train_loss += loss.item()\n",
        "            optimizer_vae.step()\n",
        "    \n",
        "    epoch_list.append(epoch)\n",
        "    kl_loss_list.append(kl_loss / (len(train_loader)*20))\n",
        "    rec_loss_list.append(recon_loss / (len(train_loader)*20))\n",
        "    train_obj_list.append(train_loss / (len(train_loader)*20))\n",
        "            \n",
        "    print('====> Epoch: {} Average loss: {:.4f}'.format(\n",
        "        epoch, train_loss / (len(train_loader)*20)))\n",
        "    print('====> Epoch: {} Average Reconstruction loss: {:.4f}'.format(\n",
        "        epoch, recon_loss / (len(train_loader)*20)))\n",
        "    print('====> Epoch: {} Average KL loss: {:.4f}'.format(\n",
        "        epoch, kl_loss / (len(train_loader)*20)))\n",
        "    \n",
        "    if (True):#(epoch % 10 == 0): \n",
        "        print(color.BOLD + 'Original Samples:' + color.END)\n",
        "        imshow(torchvision.utils.make_grid(data.cpu(), padding=2, normalize=True))\n",
        "        print(color.BOLD + 'Generated Generated:' + color.END)\n",
        "        imshow(torchvision.utils.make_grid(recon_batch.view(-1,3,64,64).detach().cpu(), padding=2, normalize=True))\n"
      ],
      "execution_count": null,
      "outputs": []
    },
    {
      "cell_type": "code",
      "metadata": {
        "colab": {
          "base_uri": "https://localhost:8080/",
          "height": 295
        },
        "id": "jqtQLdhHfacr",
        "outputId": "f97391f1-4b42-45e7-fca8-62441f01084e"
      },
      "source": [
        "plt.plot(epoch_list, kl_loss_list, 'g', label='KL loss')\n",
        "plt.plot(epoch_list, rec_loss_list, 'b', label='Reconstruction loss')\n",
        "plt.plot(epoch_list, train_obj_list, 'y', label='Training loss')\n",
        "plt.title('Reconstruction and KL loss')\n",
        "plt.xlabel('Epochs')\n",
        "plt.ylabel('Loss')\n",
        "plt.legend()\n",
        "plt.show()"
      ],
      "execution_count": 58,
      "outputs": [
        {
          "output_type": "display_data",
          "data": {
            "image/png": "[encoded data removed]",
            "text/plain": [
              "<Figure size 432x288 with 1 Axes>"
            ]
          },
          "metadata": {
            "needs_background": "light"
          }
        }
      ]
    },
    {
      "cell_type": "markdown",
      "metadata": {
        "id": "UHH7AFO5xLIj"
      },
      "source": [
        "In the process of encoding the input image into a smaller sized vector and further decoding it to reconstruct our initial image, we are trying to project the image into a smaller but meaningful latent space."
      ]
    },
    {
      "cell_type": "code",
      "metadata": {
        "id": "o1TTYRbbzaDN"
      },
      "source": [
        "z=torch.randn(10, model.z_size)\n",
        "\n",
        "z_projected = model.project(z).view(-1, model.kernel_num, model.feature_size, model.feature_size)\n",
        "\n",
        "samples = model.decoder(z_projected).data"
      ],
      "execution_count": 54,
      "outputs": []
    },
    {
      "cell_type": "code",
      "metadata": {
        "colab": {
          "base_uri": "https://localhost:8080/",
          "height": 136
        },
        "id": "hiHDcuMC2KNA",
        "outputId": "6f59f633-4a07-434b-e134-11507d5396e7"
      },
      "source": [
        "imshow(torchvision.utils.make_grid(samples.view(-1,3,64,64).detach().cpu(), padding=2, normalize=True))"
      ],
      "execution_count": 55,
      "outputs": [
        {
          "output_type": "display_data",
          "data": {
            "image/png": "[encoded data removed]",
            "text/plain": [
              "<Figure size 432x288 with 1 Axes>"
            ]
          },
          "metadata": {
            "needs_background": "light"
          }
        }
      ]
    },
    {
      "cell_type": "code",
      "metadata": {
        "colab": {
          "base_uri": "https://localhost:8080/"
        },
        "id": "zQNokOCf2G6A",
        "outputId": "d9625e03-759f-4f8d-bf0c-9d54a9989409"
      },
      "source": [
        "list_0=[]\n",
        "list_1=[]\n",
        "list_2=[]\n",
        "list_3=[]\n",
        "list_4=[]\n",
        "list_5=[]\n",
        "list_6=[]\n",
        "list_7=[]\n",
        "list_8=[]\n",
        "list_9=[]\n",
        "\n",
        "for i in range(len(sub_data)):\n",
        "  list_0.append(nn.MSELoss(size_average=True)(sub_data[i][0], samples[0]))\n",
        "  list_1.append(nn.MSELoss(size_average=True)(sub_data[i][0], samples[1]))\n",
        "  list_2.append(nn.MSELoss(size_average=True)(sub_data[i][0], samples[2]))\n",
        "  list_3.append(nn.MSELoss(size_average=True)(sub_data[i][0], samples[3]))\n",
        "  list_4.append(nn.MSELoss(size_average=True)(sub_data[i][0], samples[4]))\n",
        "  list_5.append(nn.MSELoss(size_average=True)(sub_data[i][0], samples[5]))\n",
        "  list_6.append(nn.MSELoss(size_average=True)(sub_data[i][0], samples[6]))\n",
        "  list_7.append(nn.MSELoss(size_average=True)(sub_data[i][0], samples[7]))\n",
        "  list_8.append(nn.MSELoss(size_average=True)(sub_data[i][0], samples[8]))\n",
        "  list_9.append(nn.MSELoss(size_average=True)(sub_data[i][0], samples[9]))"
      ],
      "execution_count": 56,
      "outputs": [
        {
          "output_type": "stream",
          "name": "stderr",
          "text": [
            "/usr/local/lib/python3.7/dist-packages/torch/nn/_reduction.py:42: UserWarning: size_average and reduce args will be deprecated, please use reduction='mean' instead.\n",
            "  warnings.warn(warning.format(ret))\n"
          ]
        }
      ]
    },
    {
      "cell_type": "code",
      "metadata": {
        "id": "gtlUpX6f5dtD"
      },
      "source": [
        "fig, axs = plt.subplots(10, 6, figsize=(10,10))\n",
        "\n",
        "for i in range(10):\n",
        "  axs[i,0].imshow(np.transpose(vutils.make_grid(samples[i], normalize=True).cpu(),(1,2,0)))\n",
        "\n",
        "for j in range(1,6):\n",
        "    \n",
        "    axs[0,j].imshow(np.transpose(vutils.make_grid(sub_data[np.argsort(np.array(list_0))[j-1]][0], normalize=True).cpu(),(1,2,0)))\n",
        "    axs[1,j].imshow(np.transpose(vutils.make_grid(sub_data[np.argsort(np.array(list_1))[j-1]][0], normalize=True).cpu(),(1,2,0)))\n",
        "    axs[2,j].imshow(np.transpose(vutils.make_grid(sub_data[np.argsort(np.array(list_2))[j-1]][0], normalize=True).cpu(),(1,2,0)))\n",
        "    axs[3,j].imshow(np.transpose(vutils.make_grid(sub_data[np.argsort(np.array(list_3))[j-1]][0], normalize=True).cpu(),(1,2,0)))\n",
        "    axs[4,j].imshow(np.transpose(vutils.make_grid(sub_data[np.argsort(np.array(list_4))[j-1]][0], normalize=True).cpu(),(1,2,0)))\n",
        "    axs[5,j].imshow(np.transpose(vutils.make_grid(sub_data[np.argsort(np.array(list_5))[j-1]][0], normalize=True).cpu(),(1,2,0)))\n",
        "    axs[6,j].imshow(np.transpose(vutils.make_grid(sub_data[np.argsort(np.array(list_6))[j-1]][0], normalize=True).cpu(),(1,2,0)))\n",
        "    axs[7,j].imshow(np.transpose(vutils.make_grid(sub_data[np.argsort(np.array(list_7))[j-1]][0], normalize=True).cpu(),(1,2,0)))\n",
        "    axs[8,j].imshow(np.transpose(vutils.make_grid(sub_data[np.argsort(np.array(list_8))[j-1]][0], normalize=True).cpu(),(1,2,0)))\n",
        "    axs[9,j].imshow(np.transpose(vutils.make_grid(sub_data[np.argsort(np.array(list_9))[j-1]][0], normalize=True).cpu(),(1,2,0)))\n",
        "\n",
        "    axs[i,j].axis('off')"
      ],
      "execution_count": null,
      "outputs": []
    }
  ]
}