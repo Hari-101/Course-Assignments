{
  "nbformat": 4,
  "nbformat_minor": 0,
  "metadata": {
    "colab": {
      "name": "203170005_EE769_ProgAssgn_2_checking.ipynb",
      "provenance": [],
      "collapsed_sections": []
    },
    "kernelspec": {
      "name": "python3",
      "display_name": "Python 3"
    },
    "widgets": {
      "application/vnd.jupyter.widget-state+json": {
        "5f0e2d0fec2a4eff83cbdbd5bb6222ff": {
          "model_module": "catboost-widget",
          "model_name": "CatboostWidgetModel",
          "model_module_version": "^1.0.0",
          "state": {
            "_dom_classes": [],
            "_model_module": "catboost-widget",
            "_model_module_version": "^1.0.0",
            "_model_name": "CatboostWidgetModel",
            "_view_count": null,
            "_view_module": "catboost-widget",
            "_view_module_version": "^1.0.0",
            "_view_name": "CatboostWidgetView",
            "data": {
              "catboost_info": {
                "path": "catboost_info",
                "name": "catboost_info",
                "content": {
                  "passed_iterations": 49,
                  "total_iterations": 50,
                  "data": {
                    "iterations": [
                      {
                        "learn": [
                          0.7349837227,
                          1.02406066
                        ],
                        "iteration": 0,
                        "passed_time": 0.7000694841,
                        "remaining_time": 34.30340472,
                        "test": [
                          0.7233119105,
                          1.024929376
                        ]
                      },
                      {
                        "learn": [
                          0.7396701606,
                          0.9655011636
                        ],
                        "iteration": 1,
                        "passed_time": 1.448837545,
                        "remaining_time": 34.77210108,
                        "test": [
                          0.729905684,
                          0.9670683566
                        ]
                      },
                      {
                        "learn": [
                          0.7390977713,
                          0.9178505027
                        ],
                        "iteration": 2,
                        "passed_time": 2.031132625,
                        "remaining_time": 31.8210778,
                        "test": [
                          0.7289040982,
                          0.9193380377
                        ]
                      },
                      {
                        "learn": [
                          0.7407076164,
                          0.8780150572
                        ],
                        "iteration": 3,
                        "passed_time": 2.599612247,
                        "remaining_time": 29.89554083,
                        "test": [
                          0.7274851849,
                          0.8804662188
                        ]
                      },
                      {
                        "learn": [
                          0.7419597181,
                          0.8447688306
                        ],
                        "iteration": 4,
                        "passed_time": 3.310195447,
                        "remaining_time": 29.79175902,
                        "test": [
                          0.7320757867,
                          0.8484683185
                        ]
                      },
                      {
                        "learn": [
                          0.7412442314,
                          0.8161039357
                        ],
                        "iteration": 5,
                        "passed_time": 4.881568674,
                        "remaining_time": 35.79817027,
                        "test": [
                          0.7334112345,
                          0.820094627
                        ]
                      },
                      {
                        "learn": [
                          0.7437484349,
                          0.7901348265
                        ],
                        "iteration": 6,
                        "passed_time": 6.607009893,
                        "remaining_time": 40.58591792,
                        "test": [
                          0.7323261831,
                          0.794927088
                        ]
                      },
                      {
                        "learn": [
                          0.7470754481,
                          0.765740354
                        ],
                        "iteration": 7,
                        "passed_time": 7.704015678,
                        "remaining_time": 40.44608231,
                        "test": [
                          0.7363325265,
                          0.7724044786
                        ]
                      },
                      {
                        "learn": [
                          0.7506171073,
                          0.7447826811
                        ],
                        "iteration": 8,
                        "passed_time": 9.374070653,
                        "remaining_time": 42.70409964,
                        "test": [
                          0.7391703531,
                          0.753016805
                        ]
                      },
                      {
                        "learn": [
                          0.7530855364,
                          0.7257389687
                        ],
                        "iteration": 9,
                        "passed_time": 10.54848461,
                        "remaining_time": 42.19393844,
                        "test": [
                          0.7409231283,
                          0.7360840506
                        ]
                      },
                      {
                        "learn": [
                          0.7562694523,
                          0.7085422023
                        ],
                        "iteration": 10,
                        "passed_time": 11.52963544,
                        "remaining_time": 40.87779838,
                        "test": [
                          0.7417577832,
                          0.7208083131
                        ]
                      },
                      {
                        "learn": [
                          0.7583801381,
                          0.6937778339
                        ],
                        "iteration": 11,
                        "passed_time": 12.53562544,
                        "remaining_time": 39.69614723,
                        "test": [
                          0.7438444203,
                          0.7073651686
                        ]
                      },
                      {
                        "learn": [
                          0.7626015097,
                          0.6798103628
                        ],
                        "iteration": 12,
                        "passed_time": 13.7623472,
                        "remaining_time": 39.16975743,
                        "test": [
                          0.7476003672,
                          0.6954247372
                        ]
                      },
                      {
                        "learn": [
                          0.7652845848,
                          0.6670949228
                        ],
                        "iteration": 13,
                        "passed_time": 15.00444425,
                        "remaining_time": 38.58285666,
                        "test": [
                          0.7501043319,
                          0.6846005247
                        ]
                      },
                      {
                        "learn": [
                          0.7665366866,
                          0.6569760893
                        ],
                        "iteration": 14,
                        "passed_time": 15.99162698,
                        "remaining_time": 37.31379628,
                        "test": [
                          0.7507720558,
                          0.6757265215
                        ]
                      },
                      {
                        "learn": [
                          0.768611598,
                          0.6470459475
                        ],
                        "iteration": 15,
                        "passed_time": 16.97966164,
                        "remaining_time": 36.08178099,
                        "test": [
                          0.7501043319,
                          0.6676531736
                        ]
                      },
                      {
                        "learn": [
                          0.768504275,
                          0.6383108263
                        ],
                        "iteration": 16,
                        "passed_time": 17.96379831,
                        "remaining_time": 34.8709026,
                        "test": [
                          0.7495200734,
                          0.6598701531
                        ]
                      },
                      {
                        "learn": [
                          0.7698994741,
                          0.6307077254
                        ],
                        "iteration": 17,
                        "passed_time": 19.00343283,
                        "remaining_time": 33.78388059,
                        "test": [
                          0.7518571071,
                          0.6541915936
                        ]
                      },
                      {
                        "learn": [
                          0.7702214431,
                          0.6239714865
                        ],
                        "iteration": 18,
                        "passed_time": 20.06778048,
                        "remaining_time": 32.74216815,
                        "test": [
                          0.752190969,
                          0.6478497054
                        ]
                      },
                      {
                        "learn": [
                          0.7710084785,
                          0.6169437168
                        ],
                        "iteration": 19,
                        "passed_time": 21.15148561,
                        "remaining_time": 31.72722842,
                        "test": [
                          0.7517736416,
                          0.6422178221
                        ]
                      },
                      {
                        "learn": [
                          0.7716881909,
                          0.6101296958
                        ],
                        "iteration": 20,
                        "passed_time": 22.19297733,
                        "remaining_time": 30.64744488,
                        "test": [
                          0.7526082965,
                          0.6366557152
                        ]
                      },
                      {
                        "learn": [
                          0.7729045183,
                          0.6041258592
                        ],
                        "iteration": 21,
                        "passed_time": 23.22459852,
                        "remaining_time": 29.55857993,
                        "test": [
                          0.7513563142,
                          0.6319243841
                        ]
                      },
                      {
                        "learn": [
                          0.7737631024,
                          0.5984670499
                        ],
                        "iteration": 22,
                        "passed_time": 24.41769786,
                        "remaining_time": 28.66425401,
                        "test": [
                          0.7539437443,
                          0.6280804649
                        ]
                      },
                      {
                        "learn": [
                          0.7740850714,
                          0.593932275
                        ],
                        "iteration": 23,
                        "passed_time": 25.76506404,
                        "remaining_time": 27.91215271,
                        "test": [
                          0.7537768133,
                          0.6250754138
                        ]
                      },
                      {
                        "learn": [
                          0.7744070404,
                          0.5897448524
                        ],
                        "iteration": 24,
                        "passed_time": 27.13950123,
                        "remaining_time": 27.13950123,
                        "test": [
                          0.7538602788,
                          0.6216530446
                        ]
                      },
                      {
                        "learn": [
                          0.7751940758,
                          0.5849870164
                        ],
                        "iteration": 25,
                        "passed_time": 28.56119129,
                        "remaining_time": 26.36417657,
                        "test": [
                          0.7538602788,
                          0.6183924089
                        ]
                      },
                      {
                        "learn": [
                          0.7759453368,
                          0.5802243672
                        ],
                        "iteration": 26,
                        "passed_time": 29.78638054,
                        "remaining_time": 25.37358342,
                        "test": [
                          0.7544445372,
                          0.6153835344
                        ]
                      },
                      {
                        "learn": [
                          0.7765892749,
                          0.5766163869
                        ],
                        "iteration": 27,
                        "passed_time": 30.84501969,
                        "remaining_time": 24.23537261,
                        "test": [
                          0.7540272097,
                          0.6127542858
                        ]
                      },
                      {
                        "learn": [
                          0.7794512217,
                          0.5710537358
                        ],
                        "iteration": 28,
                        "passed_time": 32.29949042,
                        "remaining_time": 23.38928617,
                        "test": [
                          0.7553626575,
                          0.6087127801
                        ]
                      },
                      {
                        "learn": [
                          0.7809179694,
                          0.566481933
                        ],
                        "iteration": 29,
                        "passed_time": 34.48710277,
                        "remaining_time": 22.99140185,
                        "test": [
                          0.7563642434,
                          0.6054811269
                        ]
                      },
                      {
                        "learn": [
                          0.7817765535,
                          0.5617634323
                        ],
                        "iteration": 30,
                        "passed_time": 35.7082266,
                        "remaining_time": 21.88568727,
                        "test": [
                          0.7576996912,
                          0.6020165425
                        ]
                      },
                      {
                        "learn": [
                          0.7831717526,
                          0.5568430903
                        ],
                        "iteration": 31,
                        "passed_time": 37.04757892,
                        "remaining_time": 20.83926314,
                        "test": [
                          0.759035139,
                          0.5983495507
                        ]
                      },
                      {
                        "learn": [
                          0.78438808,
                          0.5536442734
                        ],
                        "iteration": 32,
                        "passed_time": 38.2050981,
                        "remaining_time": 19.68141417,
                        "test": [
                          0.7594524664,
                          0.5961400433
                        ]
                      },
                      {
                        "learn": [
                          0.785139341,
                          0.5496670346
                        ],
                        "iteration": 33,
                        "passed_time": 39.52934954,
                        "remaining_time": 18.60204684,
                        "test": [
                          0.7602871213,
                          0.5935585016
                        ]
                      },
                      {
                        "learn": [
                          0.7871069295,
                          0.5449705516
                        ],
                        "iteration": 34,
                        "passed_time": 40.60766549,
                        "remaining_time": 17.40328521,
                        "test": [
                          0.7610383107,
                          0.5905524036
                        ]
                      },
                      {
                        "learn": [
                          0.7884305799,
                          0.5419091886
                        ],
                        "iteration": 35,
                        "passed_time": 41.72364675,
                        "remaining_time": 16.22586263,
                        "test": [
                          0.7631249478,
                          0.5884118374
                        ]
                      },
                      {
                        "learn": [
                          0.789825779,
                          0.5388444662
                        ],
                        "iteration": 36,
                        "passed_time": 42.84435335,
                        "remaining_time": 15.05342145,
                        "test": [
                          0.7642099992,
                          0.5863189765
                        ]
                      },
                      {
                        "learn": [
                          0.7915071728,
                          0.5349917814
                        ],
                        "iteration": 37,
                        "passed_time": 43.68526132,
                        "remaining_time": 13.79534568,
                        "test": [
                          0.7645438611,
                          0.5845488503
                        ]
                      },
                      {
                        "learn": [
                          0.7920437878,
                          0.5321287311
                        ],
                        "iteration": 38,
                        "passed_time": 44.24156096,
                        "remaining_time": 12.47838899,
                        "test": [
                          0.7638761372,
                          0.5828421626
                        ]
                      },
                      {
                        "learn": [
                          0.7938325046,
                          0.5293077344
                        ],
                        "iteration": 39,
                        "passed_time": 44.79437732,
                        "remaining_time": 11.19859433,
                        "test": [
                          0.7645438611,
                          0.5811935543
                        ]
                      },
                      {
                        "learn": [
                          0.7942975709,
                          0.5266195086
                        ],
                        "iteration": 40,
                        "passed_time": 45.32182743,
                        "remaining_time": 9.948693827,
                        "test": [
                          0.7649611885,
                          0.5793447697
                        ]
                      },
                      {
                        "learn": [
                          0.795048832,
                          0.5239696291
                        ],
                        "iteration": 41,
                        "passed_time": 45.86246903,
                        "remaining_time": 8.735708387,
                        "test": [
                          0.7658793089,
                          0.5776189081
                        ]
                      },
                      {
                        "learn": [
                          0.7955496727,
                          0.5215118812
                        ],
                        "iteration": 42,
                        "passed_time": 46.40995649,
                        "remaining_time": 7.555109197,
                        "test": [
                          0.7658793089,
                          0.5765431035
                        ]
                      },
                      {
                        "learn": [
                          0.7966944514,
                          0.5187844591
                        ],
                        "iteration": 43,
                        "passed_time": 46.97493718,
                        "remaining_time": 6.405673252,
                        "test": [
                          0.7664635673,
                          0.5754375392
                        ]
                      },
                      {
                        "learn": [
                          0.7965513541,
                          0.5164678761
                        ],
                        "iteration": 44,
                        "passed_time": 47.52652034,
                        "remaining_time": 5.280724482,
                        "test": [
                          0.7667139638,
                          0.5741721649
                        ]
                      },
                      {
                        "learn": [
                          0.7973026151,
                          0.5142554927
                        ],
                        "iteration": 45,
                        "passed_time": 48.10112192,
                        "remaining_time": 4.182706254,
                        "test": [
                          0.7671312912,
                          0.5734960271
                        ]
                      },
                      {
                        "learn": [
                          0.7984473938,
                          0.5112975321
                        ],
                        "iteration": 46,
                        "passed_time": 48.66344253,
                        "remaining_time": 3.106177183,
                        "test": [
                          0.7677155496,
                          0.5727901877
                        ]
                      },
                      {
                        "learn": [
                          0.7996637212,
                          0.5088121489
                        ],
                        "iteration": 47,
                        "passed_time": 49.23098856,
                        "remaining_time": 2.05129119,
                        "test": [
                          0.7672982222,
                          0.5718015059
                        ]
                      },
                      {
                        "learn": [
                          0.8000572389,
                          0.5069995293
                        ],
                        "iteration": 48,
                        "passed_time": 49.7985712,
                        "remaining_time": 1.016297371,
                        "test": [
                          0.7674651532,
                          0.5708953373
                        ]
                      },
                      {
                        "learn": [
                          0.8010946947,
                          0.5046682126
                        ],
                        "iteration": 49,
                        "passed_time": 50.35131011,
                        "remaining_time": 0,
                        "test": [
                          0.7677155496,
                          0.5700943215
                        ]
                      }
                    ],
                    "meta": {
                      "test_sets": [
                        "test"
                      ],
                      "test_metrics": [
                        {
                          "best_value": "Max",
                          "name": "Accuracy"
                        },
                        {
                          "best_value": "Min",
                          "name": "MultiClass"
                        }
                      ],
                      "learn_metrics": [
                        {
                          "best_value": "Max",
                          "name": "Accuracy"
                        },
                        {
                          "best_value": "Min",
                          "name": "MultiClass"
                        }
                      ],
                      "launch_mode": "Train",
                      "parameters": "",
                      "iteration_count": 50,
                      "learn_sets": [
                        "learn"
                      ],
                      "name": "experiment"
                    }
                  }
                }
              }
            },
            "layout": "IPY_MODEL_7947cdb684cb46b98b98d006e14ac0e8",
            "tabbable": null,
            "tooltip": null
          }
        }
      }
    }
  },
  "cells": [
    {
      "cell_type": "code",
      "metadata": {
        "id": "tM4_iHBCouJz"
      },
      "source": [
        "import numpy as np\n",
        "import pandas as pd\n",
        "import matplotlib.pyplot as plt\n",
        "import seaborn as sns\n",
        "import scipy.stats as ss"
      ],
      "execution_count": 118,
      "outputs": []
    },
    {
      "cell_type": "code",
      "metadata": {
        "id": "T_2OWijovYXA",
        "colab": {
          "base_uri": "https://localhost:8080/",
          "height": 661
        },
        "outputId": "94c002cd-b032-42d2-f158-88d6e54e0f03"
      },
      "source": [
        "# Display header and a few rows\n",
        "train_path = '/content/Train.csv'\n",
        "train_df = pd.read_csv( train_path,sep = ',')\n",
        "display(train_df)\n"
      ],
      "execution_count": 119,
      "outputs": [
        {
          "output_type": "display_data",
          "data": {
            "text/plain": [
              "          id  amount_tsh date_recorded                  funder  gps_height  \\\n",
              "0       7411         7.0    2013-03-20         Germany Republi        1203   \n",
              "1      18014         0.0    2011-02-21                    Cdtf        1409   \n",
              "2      26103         0.0    2013-01-04  Government Of Tanzania        1572   \n",
              "3      31140         0.0    2011-04-03        District Council           0   \n",
              "4      12286       300.0    2013-03-08        District Council        1283   \n",
              "...      ...         ...           ...                     ...         ...   \n",
              "44545  43878         0.0    2013-01-23            World Vision           0   \n",
              "44546  50718         0.0    2011-07-25                     Ded           0   \n",
              "44547  67177         0.0    2013-02-23  Government Of Tanzania         969   \n",
              "44548   2744       200.0    2013-03-26                    Adra        1269   \n",
              "44549  10262         0.0    2013-01-26            World Vision           0   \n",
              "\n",
              "                 installer  longitude   latitude           wpt_name  \\\n",
              "0                      CES  37.228664  -3.256505        Kwa Abdalla   \n",
              "1                     CDTF  34.615481  -9.972601               none   \n",
              "2                      DWE  36.658778  -3.321529       Kwa Loishiye   \n",
              "3         District Council  33.628025  -8.860795        Mwanzechele   \n",
              "4         District Council  37.655509  -3.669777         Kwa Kidaya   \n",
              "...                    ...        ...        ...                ...   \n",
              "44545               TAWASA  32.383715  -3.457624        Imalabuluhi   \n",
              "44546                  DED  31.615509  -2.738682  Ilyamchele Center   \n",
              "44547           Government  35.134412 -10.676062    Kwa Mzee Maondo   \n",
              "44548      ADRA/Government  37.886287  -4.390882           Miembeni   \n",
              "44549  Consulting Engineer  32.976560  -4.262149  Itunda A Mkwajuni   \n",
              "\n",
              "       num_private  ... water_quality quality_group      quantity  \\\n",
              "0                0  ...          soft          good        enough   \n",
              "1                0  ...          soft          good        enough   \n",
              "2                0  ...          soft          good  insufficient   \n",
              "3                0  ...          soft          good  insufficient   \n",
              "4                0  ...          soft          good  insufficient   \n",
              "...            ...  ...           ...           ...           ...   \n",
              "44545            0  ...         milky         milky        enough   \n",
              "44546            0  ...          soft          good        enough   \n",
              "44547            0  ...          soft          good      seasonal   \n",
              "44548            0  ...          soft          good  insufficient   \n",
              "44549            0  ...          soft          good        enough   \n",
              "\n",
              "       quantity_group        source   source_type source_class  \\\n",
              "0              enough        spring        spring  groundwater   \n",
              "1              enough        spring        spring  groundwater   \n",
              "2        insufficient        spring        spring  groundwater   \n",
              "3        insufficient         river    river/lake      surface   \n",
              "4        insufficient        spring        spring  groundwater   \n",
              "...               ...           ...           ...          ...   \n",
              "44545          enough  shallow well  shallow well  groundwater   \n",
              "44546          enough      hand dtw      borehole  groundwater   \n",
              "44547        seasonal        spring        spring  groundwater   \n",
              "44548    insufficient        spring        spring  groundwater   \n",
              "44549          enough  shallow well  shallow well  groundwater   \n",
              "\n",
              "          waterpoint_type waterpoint_type_group    status_group  \n",
              "0      communal standpipe    communal standpipe      functional  \n",
              "1      communal standpipe    communal standpipe      functional  \n",
              "2      communal standpipe    communal standpipe  non functional  \n",
              "3      communal standpipe    communal standpipe      functional  \n",
              "4      communal standpipe    communal standpipe      functional  \n",
              "...                   ...                   ...             ...  \n",
              "44545           hand pump             hand pump      functional  \n",
              "44546           hand pump             hand pump  non functional  \n",
              "44547  communal standpipe    communal standpipe      functional  \n",
              "44548  communal standpipe    communal standpipe      functional  \n",
              "44549           hand pump             hand pump      functional  \n",
              "\n",
              "[44550 rows x 41 columns]"
            ],
            "text/html": [
              "\n",
              "  <div id=\"df-1eacb606-5ed4-4c6f-8336-387d49105733\">\n",
              "    <div class=\"colab-df-container\">\n",
              "      <div>\n",
              "<style scoped>\n",
              "    .dataframe tbody tr th:only-of-type {\n",
              "        vertical-align: middle;\n",
              "    }\n",
              "\n",
              "    .dataframe tbody tr th {\n",
              "        vertical-align: top;\n",
              "    }\n",
              "\n",
              "    .dataframe thead th {\n",
              "        text-align: right;\n",
              "    }\n",
              "</style>\n",
              "<table border=\"1\" class=\"dataframe\">\n",
              "  <thead>\n",
              "    <tr style=\"text-align: right;\">\n",
              "      <th></th>\n",
              "      <th>id</th>\n",
              "      <th>amount_tsh</th>\n",
              "      <th>date_recorded</th>\n",
              "      <th>funder</th>\n",
              "      <th>gps_height</th>\n",
              "      <th>installer</th>\n",
              "      <th>longitude</th>\n",
              "      <th>latitude</th>\n",
              "      <th>wpt_name</th>\n",
              "      <th>num_private</th>\n",
              "      <th>...</th>\n",
              "      <th>water_quality</th>\n",
              "      <th>quality_group</th>\n",
              "      <th>quantity</th>\n",
              "      <th>quantity_group</th>\n",
              "      <th>source</th>\n",
              "      <th>source_type</th>\n",
              "      <th>source_class</th>\n",
              "      <th>waterpoint_type</th>\n",
              "      <th>waterpoint_type_group</th>\n",
              "      <th>status_group</th>\n",
              "    </tr>\n",
              "  </thead>\n",
              "  <tbody>\n",
              "    <tr>\n",
              "      <th>0</th>\n",
              "      <td>7411</td>\n",
              "      <td>7.0</td>\n",
              "      <td>2013-03-20</td>\n",
              "      <td>Germany Republi</td>\n",
              "      <td>1203</td>\n",
              "      <td>CES</td>\n",
              "      <td>37.228664</td>\n",
              "      <td>-3.256505</td>\n",
              "      <td>Kwa Abdalla</td>\n",
              "      <td>0</td>\n",
              "      <td>...</td>\n",
              "      <td>soft</td>\n",
              "      <td>good</td>\n",
              "      <td>enough</td>\n",
              "      <td>enough</td>\n",
              "      <td>spring</td>\n",
              "      <td>spring</td>\n",
              "      <td>groundwater</td>\n",
              "      <td>communal standpipe</td>\n",
              "      <td>communal standpipe</td>\n",
              "      <td>functional</td>\n",
              "    </tr>\n",
              "    <tr>\n",
              "      <th>1</th>\n",
              "      <td>18014</td>\n",
              "      <td>0.0</td>\n",
              "      <td>2011-02-21</td>\n",
              "      <td>Cdtf</td>\n",
              "      <td>1409</td>\n",
              "      <td>CDTF</td>\n",
              "      <td>34.615481</td>\n",
              "      <td>-9.972601</td>\n",
              "      <td>none</td>\n",
              "      <td>0</td>\n",
              "      <td>...</td>\n",
              "      <td>soft</td>\n",
              "      <td>good</td>\n",
              "      <td>enough</td>\n",
              "      <td>enough</td>\n",
              "      <td>spring</td>\n",
              "      <td>spring</td>\n",
              "      <td>groundwater</td>\n",
              "      <td>communal standpipe</td>\n",
              "      <td>communal standpipe</td>\n",
              "      <td>functional</td>\n",
              "    </tr>\n",
              "    <tr>\n",
              "      <th>2</th>\n",
              "      <td>26103</td>\n",
              "      <td>0.0</td>\n",
              "      <td>2013-01-04</td>\n",
              "      <td>Government Of Tanzania</td>\n",
              "      <td>1572</td>\n",
              "      <td>DWE</td>\n",
              "      <td>36.658778</td>\n",
              "      <td>-3.321529</td>\n",
              "      <td>Kwa Loishiye</td>\n",
              "      <td>0</td>\n",
              "      <td>...</td>\n",
              "      <td>soft</td>\n",
              "      <td>good</td>\n",
              "      <td>insufficient</td>\n",
              "      <td>insufficient</td>\n",
              "      <td>spring</td>\n",
              "      <td>spring</td>\n",
              "      <td>groundwater</td>\n",
              "      <td>communal standpipe</td>\n",
              "      <td>communal standpipe</td>\n",
              "      <td>non functional</td>\n",
              "    </tr>\n",
              "    <tr>\n",
              "      <th>3</th>\n",
              "      <td>31140</td>\n",
              "      <td>0.0</td>\n",
              "      <td>2011-04-03</td>\n",
              "      <td>District Council</td>\n",
              "      <td>0</td>\n",
              "      <td>District Council</td>\n",
              "      <td>33.628025</td>\n",
              "      <td>-8.860795</td>\n",
              "      <td>Mwanzechele</td>\n",
              "      <td>0</td>\n",
              "      <td>...</td>\n",
              "      <td>soft</td>\n",
              "      <td>good</td>\n",
              "      <td>insufficient</td>\n",
              "      <td>insufficient</td>\n",
              "      <td>river</td>\n",
              "      <td>river/lake</td>\n",
              "      <td>surface</td>\n",
              "      <td>communal standpipe</td>\n",
              "      <td>communal standpipe</td>\n",
              "      <td>functional</td>\n",
              "    </tr>\n",
              "    <tr>\n",
              "      <th>4</th>\n",
              "      <td>12286</td>\n",
              "      <td>300.0</td>\n",
              "      <td>2013-03-08</td>\n",
              "      <td>District Council</td>\n",
              "      <td>1283</td>\n",
              "      <td>District Council</td>\n",
              "      <td>37.655509</td>\n",
              "      <td>-3.669777</td>\n",
              "      <td>Kwa Kidaya</td>\n",
              "      <td>0</td>\n",
              "      <td>...</td>\n",
              "      <td>soft</td>\n",
              "      <td>good</td>\n",
              "      <td>insufficient</td>\n",
              "      <td>insufficient</td>\n",
              "      <td>spring</td>\n",
              "      <td>spring</td>\n",
              "      <td>groundwater</td>\n",
              "      <td>communal standpipe</td>\n",
              "      <td>communal standpipe</td>\n",
              "      <td>functional</td>\n",
              "    </tr>\n",
              "    <tr>\n",
              "      <th>...</th>\n",
              "      <td>...</td>\n",
              "      <td>...</td>\n",
              "      <td>...</td>\n",
              "      <td>...</td>\n",
              "      <td>...</td>\n",
              "      <td>...</td>\n",
              "      <td>...</td>\n",
              "      <td>...</td>\n",
              "      <td>...</td>\n",
              "      <td>...</td>\n",
              "      <td>...</td>\n",
              "      <td>...</td>\n",
              "      <td>...</td>\n",
              "      <td>...</td>\n",
              "      <td>...</td>\n",
              "      <td>...</td>\n",
              "      <td>...</td>\n",
              "      <td>...</td>\n",
              "      <td>...</td>\n",
              "      <td>...</td>\n",
              "      <td>...</td>\n",
              "    </tr>\n",
              "    <tr>\n",
              "      <th>44545</th>\n",
              "      <td>43878</td>\n",
              "      <td>0.0</td>\n",
              "      <td>2013-01-23</td>\n",
              "      <td>World Vision</td>\n",
              "      <td>0</td>\n",
              "      <td>TAWASA</td>\n",
              "      <td>32.383715</td>\n",
              "      <td>-3.457624</td>\n",
              "      <td>Imalabuluhi</td>\n",
              "      <td>0</td>\n",
              "      <td>...</td>\n",
              "      <td>milky</td>\n",
              "      <td>milky</td>\n",
              "      <td>enough</td>\n",
              "      <td>enough</td>\n",
              "      <td>shallow well</td>\n",
              "      <td>shallow well</td>\n",
              "      <td>groundwater</td>\n",
              "      <td>hand pump</td>\n",
              "      <td>hand pump</td>\n",
              "      <td>functional</td>\n",
              "    </tr>\n",
              "    <tr>\n",
              "      <th>44546</th>\n",
              "      <td>50718</td>\n",
              "      <td>0.0</td>\n",
              "      <td>2011-07-25</td>\n",
              "      <td>Ded</td>\n",
              "      <td>0</td>\n",
              "      <td>DED</td>\n",
              "      <td>31.615509</td>\n",
              "      <td>-2.738682</td>\n",
              "      <td>Ilyamchele Center</td>\n",
              "      <td>0</td>\n",
              "      <td>...</td>\n",
              "      <td>soft</td>\n",
              "      <td>good</td>\n",
              "      <td>enough</td>\n",
              "      <td>enough</td>\n",
              "      <td>hand dtw</td>\n",
              "      <td>borehole</td>\n",
              "      <td>groundwater</td>\n",
              "      <td>hand pump</td>\n",
              "      <td>hand pump</td>\n",
              "      <td>non functional</td>\n",
              "    </tr>\n",
              "    <tr>\n",
              "      <th>44547</th>\n",
              "      <td>67177</td>\n",
              "      <td>0.0</td>\n",
              "      <td>2013-02-23</td>\n",
              "      <td>Government Of Tanzania</td>\n",
              "      <td>969</td>\n",
              "      <td>Government</td>\n",
              "      <td>35.134412</td>\n",
              "      <td>-10.676062</td>\n",
              "      <td>Kwa Mzee Maondo</td>\n",
              "      <td>0</td>\n",
              "      <td>...</td>\n",
              "      <td>soft</td>\n",
              "      <td>good</td>\n",
              "      <td>seasonal</td>\n",
              "      <td>seasonal</td>\n",
              "      <td>spring</td>\n",
              "      <td>spring</td>\n",
              "      <td>groundwater</td>\n",
              "      <td>communal standpipe</td>\n",
              "      <td>communal standpipe</td>\n",
              "      <td>functional</td>\n",
              "    </tr>\n",
              "    <tr>\n",
              "      <th>44548</th>\n",
              "      <td>2744</td>\n",
              "      <td>200.0</td>\n",
              "      <td>2013-03-26</td>\n",
              "      <td>Adra</td>\n",
              "      <td>1269</td>\n",
              "      <td>ADRA/Government</td>\n",
              "      <td>37.886287</td>\n",
              "      <td>-4.390882</td>\n",
              "      <td>Miembeni</td>\n",
              "      <td>0</td>\n",
              "      <td>...</td>\n",
              "      <td>soft</td>\n",
              "      <td>good</td>\n",
              "      <td>insufficient</td>\n",
              "      <td>insufficient</td>\n",
              "      <td>spring</td>\n",
              "      <td>spring</td>\n",
              "      <td>groundwater</td>\n",
              "      <td>communal standpipe</td>\n",
              "      <td>communal standpipe</td>\n",
              "      <td>functional</td>\n",
              "    </tr>\n",
              "    <tr>\n",
              "      <th>44549</th>\n",
              "      <td>10262</td>\n",
              "      <td>0.0</td>\n",
              "      <td>2013-01-26</td>\n",
              "      <td>World Vision</td>\n",
              "      <td>0</td>\n",
              "      <td>Consulting Engineer</td>\n",
              "      <td>32.976560</td>\n",
              "      <td>-4.262149</td>\n",
              "      <td>Itunda A Mkwajuni</td>\n",
              "      <td>0</td>\n",
              "      <td>...</td>\n",
              "      <td>soft</td>\n",
              "      <td>good</td>\n",
              "      <td>enough</td>\n",
              "      <td>enough</td>\n",
              "      <td>shallow well</td>\n",
              "      <td>shallow well</td>\n",
              "      <td>groundwater</td>\n",
              "      <td>hand pump</td>\n",
              "      <td>hand pump</td>\n",
              "      <td>functional</td>\n",
              "    </tr>\n",
              "  </tbody>\n",
              "</table>\n",
              "<p>44550 rows × 41 columns</p>\n",
              "</div>\n",
              "      <button class=\"colab-df-convert\" onclick=\"convertToInteractive('df-1eacb606-5ed4-4c6f-8336-387d49105733')\"\n",
              "              title=\"Convert this dataframe to an interactive table.\"\n",
              "              style=\"display:none;\">\n",
              "        \n",
              "  <svg xmlns=\"http://www.w3.org/2000/svg\" height=\"24px\"viewBox=\"0 0 24 24\"\n",
              "       width=\"24px\">\n",
              "    <path d=\"M0 0h24v24H0V0z\" fill=\"none\"/>\n",
              "    <path d=\"M18.56 5.44l.94 2.06.94-2.06 2.06-.94-2.06-.94-.94-2.06-.94 2.06-2.06.94zm-11 1L8.5 8.5l.94-2.06 2.06-.94-2.06-.94L8.5 2.5l-.94 2.06-2.06.94zm10 10l.94 2.06.94-2.06 2.06-.94-2.06-.94-.94-2.06-.94 2.06-2.06.94z\"/><path d=\"M17.41 7.96l-1.37-1.37c-.4-.4-.92-.59-1.43-.59-.52 0-1.04.2-1.43.59L10.3 9.45l-7.72 7.72c-.78.78-.78 2.05 0 2.83L4 21.41c.39.39.9.59 1.41.59.51 0 1.02-.2 1.41-.59l7.78-7.78 2.81-2.81c.8-.78.8-2.07 0-2.86zM5.41 20L4 18.59l7.72-7.72 1.47 1.35L5.41 20z\"/>\n",
              "  </svg>\n",
              "      </button>\n",
              "      \n",
              "  <style>\n",
              "    .colab-df-container {\n",
              "      display:flex;\n",
              "      flex-wrap:wrap;\n",
              "      gap: 12px;\n",
              "    }\n",
              "\n",
              "    .colab-df-convert {\n",
              "      background-color: #E8F0FE;\n",
              "      border: none;\n",
              "      border-radius: 50%;\n",
              "      cursor: pointer;\n",
              "      display: none;\n",
              "      fill: #1967D2;\n",
              "      height: 32px;\n",
              "      padding: 0 0 0 0;\n",
              "      width: 32px;\n",
              "    }\n",
              "\n",
              "    .colab-df-convert:hover {\n",
              "      background-color: #E2EBFA;\n",
              "      box-shadow: 0px 1px 2px rgba(60, 64, 67, 0.3), 0px 1px 3px 1px rgba(60, 64, 67, 0.15);\n",
              "      fill: #174EA6;\n",
              "    }\n",
              "\n",
              "    [theme=dark] .colab-df-convert {\n",
              "      background-color: #3B4455;\n",
              "      fill: #D2E3FC;\n",
              "    }\n",
              "\n",
              "    [theme=dark] .colab-df-convert:hover {\n",
              "      background-color: #434B5C;\n",
              "      box-shadow: 0px 1px 3px 1px rgba(0, 0, 0, 0.15);\n",
              "      filter: drop-shadow(0px 1px 2px rgba(0, 0, 0, 0.3));\n",
              "      fill: #FFFFFF;\n",
              "    }\n",
              "  </style>\n",
              "\n",
              "      <script>\n",
              "        const buttonEl =\n",
              "          document.querySelector('#df-1eacb606-5ed4-4c6f-8336-387d49105733 button.colab-df-convert');\n",
              "        buttonEl.style.display =\n",
              "          google.colab.kernel.accessAllowed ? 'block' : 'none';\n",
              "\n",
              "        async function convertToInteractive(key) {\n",
              "          const element = document.querySelector('#df-1eacb606-5ed4-4c6f-8336-387d49105733');\n",
              "          const dataTable =\n",
              "            await google.colab.kernel.invokeFunction('convertToInteractive',\n",
              "                                                     [key], {});\n",
              "          if (!dataTable) return;\n",
              "\n",
              "          const docLinkHtml = 'Like what you see? Visit the ' +\n",
              "            '<a target=\"_blank\" href=https://colab.research.google.com/notebooks/data_table.ipynb>data table notebook</a>'\n",
              "            + ' to learn more about interactive tables.';\n",
              "          element.innerHTML = '';\n",
              "          dataTable['output_type'] = 'display_data';\n",
              "          await google.colab.output.renderOutput(dataTable, element);\n",
              "          const docLink = document.createElement('div');\n",
              "          docLink.innerHTML = docLinkHtml;\n",
              "          element.appendChild(docLink);\n",
              "        }\n",
              "      </script>\n",
              "    </div>\n",
              "  </div>\n",
              "  "
            ]
          },
          "metadata": {}
        }
      ]
    },
    {
      "cell_type": "code",
      "metadata": {
        "id": "cu_iWEdMGRwT",
        "colab": {
          "base_uri": "https://localhost:8080/",
          "height": 661
        },
        "outputId": "163286f8-fdee-4333-b34d-4bb90a5a6b74"
      },
      "source": [
        "test_path = '/content/test.csv'\n",
        "test_df = pd.read_csv(test_path ,sep = ',',index_col= 0)\n",
        "display(test_df)"
      ],
      "execution_count": 120,
      "outputs": [
        {
          "output_type": "display_data",
          "data": {
            "text/plain": [
              "          id  amount_tsh date_recorded                  funder  gps_height  \\\n",
              "0      21215         0.0    2011-02-25                   Kuamu        1676   \n",
              "1      25893         0.0    2011-04-17                   Kirde           0   \n",
              "2      15713         0.0    2011-03-27                   Water           0   \n",
              "3      17247         0.0    2011-07-14                      Ka           0   \n",
              "4       1248         0.0    2011-07-31            World Vision           0   \n",
              "...      ...         ...           ...                     ...         ...   \n",
              "14845  45291      1000.0    2011-03-10                  Danida        1811   \n",
              "14846  54736         0.0    2011-03-18                Solidame         252   \n",
              "14847  44238         0.0    2012-11-03  Government Of Tanzania           0   \n",
              "14848  13229         0.0    2013-01-18                Tassaf I        1294   \n",
              "14849  70800        30.0    2011-02-23                   Jaica          60   \n",
              "\n",
              "                installer  longitude  latitude               wpt_name  \\\n",
              "0                   Kuamu  35.247289 -8.113243                   none   \n",
              "1                     DWE  36.163435 -5.218454               Zahanati   \n",
              "2                   Gover  36.363337 -7.297600                 Uganda   \n",
              "3                      KA  31.496315 -2.167140                Kakindo   \n",
              "4          KYASHA ENTERPR  31.843905 -1.244841  Shule Ya Msingi Ibosa   \n",
              "...                   ...        ...       ...                    ...   \n",
              "14845               DANID  34.533405 -9.781788                   none   \n",
              "14846            SOLIDAME  36.665856 -8.141162             Kwamadenge   \n",
              "14847  Central government  33.020305 -4.949560   Kwa Mzee Salum Chata   \n",
              "14848              TASSAF  30.588892 -3.837622                 Center   \n",
              "14849               JAICA  39.330407 -7.039634              Kwa Jokoo   \n",
              "\n",
              "       num_private  ... payment_type water_quality quality_group  \\\n",
              "0                0  ...    never pay          soft          good   \n",
              "1                0  ...    never pay          soft          good   \n",
              "2                0  ...    never pay          soft          good   \n",
              "3                0  ...    never pay          soft          good   \n",
              "4                0  ...    never pay          soft          good   \n",
              "...            ...  ...          ...           ...           ...   \n",
              "14845            0  ...     annually          soft          good   \n",
              "14846            0  ...    never pay          soft          good   \n",
              "14847            0  ...    never pay          soft          good   \n",
              "14848            0  ...      unknown          soft          good   \n",
              "14849            0  ...   per bucket          soft          good   \n",
              "\n",
              "           quantity  quantity_group                source  \\\n",
              "0               dry             dry                spring   \n",
              "1            enough          enough           machine dbh   \n",
              "2            enough          enough          shallow well   \n",
              "3            enough          enough          shallow well   \n",
              "4      insufficient    insufficient  rainwater harvesting   \n",
              "...             ...             ...                   ...   \n",
              "14845      seasonal        seasonal                spring   \n",
              "14846  insufficient    insufficient          shallow well   \n",
              "14847           dry             dry                spring   \n",
              "14848        enough          enough                spring   \n",
              "14849        enough          enough           machine dbh   \n",
              "\n",
              "                source_type  source_class              waterpoint_type  \\\n",
              "0                    spring   groundwater           communal standpipe   \n",
              "1                  borehole   groundwater           communal standpipe   \n",
              "2              shallow well   groundwater                    hand pump   \n",
              "3              shallow well   groundwater                    hand pump   \n",
              "4      rainwater harvesting       surface           communal standpipe   \n",
              "...                     ...           ...                          ...   \n",
              "14845                spring   groundwater           communal standpipe   \n",
              "14846          shallow well   groundwater                    hand pump   \n",
              "14847                spring   groundwater  communal standpipe multiple   \n",
              "14848                spring   groundwater  communal standpipe multiple   \n",
              "14849              borehole   groundwater           communal standpipe   \n",
              "\n",
              "      waterpoint_type_group  \n",
              "0        communal standpipe  \n",
              "1        communal standpipe  \n",
              "2                 hand pump  \n",
              "3                 hand pump  \n",
              "4        communal standpipe  \n",
              "...                     ...  \n",
              "14845    communal standpipe  \n",
              "14846             hand pump  \n",
              "14847    communal standpipe  \n",
              "14848    communal standpipe  \n",
              "14849    communal standpipe  \n",
              "\n",
              "[14850 rows x 40 columns]"
            ],
            "text/html": [
              "\n",
              "  <div id=\"df-38680dff-6ddb-4b67-857e-559f0b1a94d8\">\n",
              "    <div class=\"colab-df-container\">\n",
              "      <div>\n",
              "<style scoped>\n",
              "    .dataframe tbody tr th:only-of-type {\n",
              "        vertical-align: middle;\n",
              "    }\n",
              "\n",
              "    .dataframe tbody tr th {\n",
              "        vertical-align: top;\n",
              "    }\n",
              "\n",
              "    .dataframe thead th {\n",
              "        text-align: right;\n",
              "    }\n",
              "</style>\n",
              "<table border=\"1\" class=\"dataframe\">\n",
              "  <thead>\n",
              "    <tr style=\"text-align: right;\">\n",
              "      <th></th>\n",
              "      <th>id</th>\n",
              "      <th>amount_tsh</th>\n",
              "      <th>date_recorded</th>\n",
              "      <th>funder</th>\n",
              "      <th>gps_height</th>\n",
              "      <th>installer</th>\n",
              "      <th>longitude</th>\n",
              "      <th>latitude</th>\n",
              "      <th>wpt_name</th>\n",
              "      <th>num_private</th>\n",
              "      <th>...</th>\n",
              "      <th>payment_type</th>\n",
              "      <th>water_quality</th>\n",
              "      <th>quality_group</th>\n",
              "      <th>quantity</th>\n",
              "      <th>quantity_group</th>\n",
              "      <th>source</th>\n",
              "      <th>source_type</th>\n",
              "      <th>source_class</th>\n",
              "      <th>waterpoint_type</th>\n",
              "      <th>waterpoint_type_group</th>\n",
              "    </tr>\n",
              "  </thead>\n",
              "  <tbody>\n",
              "    <tr>\n",
              "      <th>0</th>\n",
              "      <td>21215</td>\n",
              "      <td>0.0</td>\n",
              "      <td>2011-02-25</td>\n",
              "      <td>Kuamu</td>\n",
              "      <td>1676</td>\n",
              "      <td>Kuamu</td>\n",
              "      <td>35.247289</td>\n",
              "      <td>-8.113243</td>\n",
              "      <td>none</td>\n",
              "      <td>0</td>\n",
              "      <td>...</td>\n",
              "      <td>never pay</td>\n",
              "      <td>soft</td>\n",
              "      <td>good</td>\n",
              "      <td>dry</td>\n",
              "      <td>dry</td>\n",
              "      <td>spring</td>\n",
              "      <td>spring</td>\n",
              "      <td>groundwater</td>\n",
              "      <td>communal standpipe</td>\n",
              "      <td>communal standpipe</td>\n",
              "    </tr>\n",
              "    <tr>\n",
              "      <th>1</th>\n",
              "      <td>25893</td>\n",
              "      <td>0.0</td>\n",
              "      <td>2011-04-17</td>\n",
              "      <td>Kirde</td>\n",
              "      <td>0</td>\n",
              "      <td>DWE</td>\n",
              "      <td>36.163435</td>\n",
              "      <td>-5.218454</td>\n",
              "      <td>Zahanati</td>\n",
              "      <td>0</td>\n",
              "      <td>...</td>\n",
              "      <td>never pay</td>\n",
              "      <td>soft</td>\n",
              "      <td>good</td>\n",
              "      <td>enough</td>\n",
              "      <td>enough</td>\n",
              "      <td>machine dbh</td>\n",
              "      <td>borehole</td>\n",
              "      <td>groundwater</td>\n",
              "      <td>communal standpipe</td>\n",
              "      <td>communal standpipe</td>\n",
              "    </tr>\n",
              "    <tr>\n",
              "      <th>2</th>\n",
              "      <td>15713</td>\n",
              "      <td>0.0</td>\n",
              "      <td>2011-03-27</td>\n",
              "      <td>Water</td>\n",
              "      <td>0</td>\n",
              "      <td>Gover</td>\n",
              "      <td>36.363337</td>\n",
              "      <td>-7.297600</td>\n",
              "      <td>Uganda</td>\n",
              "      <td>0</td>\n",
              "      <td>...</td>\n",
              "      <td>never pay</td>\n",
              "      <td>soft</td>\n",
              "      <td>good</td>\n",
              "      <td>enough</td>\n",
              "      <td>enough</td>\n",
              "      <td>shallow well</td>\n",
              "      <td>shallow well</td>\n",
              "      <td>groundwater</td>\n",
              "      <td>hand pump</td>\n",
              "      <td>hand pump</td>\n",
              "    </tr>\n",
              "    <tr>\n",
              "      <th>3</th>\n",
              "      <td>17247</td>\n",
              "      <td>0.0</td>\n",
              "      <td>2011-07-14</td>\n",
              "      <td>Ka</td>\n",
              "      <td>0</td>\n",
              "      <td>KA</td>\n",
              "      <td>31.496315</td>\n",
              "      <td>-2.167140</td>\n",
              "      <td>Kakindo</td>\n",
              "      <td>0</td>\n",
              "      <td>...</td>\n",
              "      <td>never pay</td>\n",
              "      <td>soft</td>\n",
              "      <td>good</td>\n",
              "      <td>enough</td>\n",
              "      <td>enough</td>\n",
              "      <td>shallow well</td>\n",
              "      <td>shallow well</td>\n",
              "      <td>groundwater</td>\n",
              "      <td>hand pump</td>\n",
              "      <td>hand pump</td>\n",
              "    </tr>\n",
              "    <tr>\n",
              "      <th>4</th>\n",
              "      <td>1248</td>\n",
              "      <td>0.0</td>\n",
              "      <td>2011-07-31</td>\n",
              "      <td>World Vision</td>\n",
              "      <td>0</td>\n",
              "      <td>KYASHA ENTERPR</td>\n",
              "      <td>31.843905</td>\n",
              "      <td>-1.244841</td>\n",
              "      <td>Shule Ya Msingi Ibosa</td>\n",
              "      <td>0</td>\n",
              "      <td>...</td>\n",
              "      <td>never pay</td>\n",
              "      <td>soft</td>\n",
              "      <td>good</td>\n",
              "      <td>insufficient</td>\n",
              "      <td>insufficient</td>\n",
              "      <td>rainwater harvesting</td>\n",
              "      <td>rainwater harvesting</td>\n",
              "      <td>surface</td>\n",
              "      <td>communal standpipe</td>\n",
              "      <td>communal standpipe</td>\n",
              "    </tr>\n",
              "    <tr>\n",
              "      <th>...</th>\n",
              "      <td>...</td>\n",
              "      <td>...</td>\n",
              "      <td>...</td>\n",
              "      <td>...</td>\n",
              "      <td>...</td>\n",
              "      <td>...</td>\n",
              "      <td>...</td>\n",
              "      <td>...</td>\n",
              "      <td>...</td>\n",
              "      <td>...</td>\n",
              "      <td>...</td>\n",
              "      <td>...</td>\n",
              "      <td>...</td>\n",
              "      <td>...</td>\n",
              "      <td>...</td>\n",
              "      <td>...</td>\n",
              "      <td>...</td>\n",
              "      <td>...</td>\n",
              "      <td>...</td>\n",
              "      <td>...</td>\n",
              "      <td>...</td>\n",
              "    </tr>\n",
              "    <tr>\n",
              "      <th>14845</th>\n",
              "      <td>45291</td>\n",
              "      <td>1000.0</td>\n",
              "      <td>2011-03-10</td>\n",
              "      <td>Danida</td>\n",
              "      <td>1811</td>\n",
              "      <td>DANID</td>\n",
              "      <td>34.533405</td>\n",
              "      <td>-9.781788</td>\n",
              "      <td>none</td>\n",
              "      <td>0</td>\n",
              "      <td>...</td>\n",
              "      <td>annually</td>\n",
              "      <td>soft</td>\n",
              "      <td>good</td>\n",
              "      <td>seasonal</td>\n",
              "      <td>seasonal</td>\n",
              "      <td>spring</td>\n",
              "      <td>spring</td>\n",
              "      <td>groundwater</td>\n",
              "      <td>communal standpipe</td>\n",
              "      <td>communal standpipe</td>\n",
              "    </tr>\n",
              "    <tr>\n",
              "      <th>14846</th>\n",
              "      <td>54736</td>\n",
              "      <td>0.0</td>\n",
              "      <td>2011-03-18</td>\n",
              "      <td>Solidame</td>\n",
              "      <td>252</td>\n",
              "      <td>SOLIDAME</td>\n",
              "      <td>36.665856</td>\n",
              "      <td>-8.141162</td>\n",
              "      <td>Kwamadenge</td>\n",
              "      <td>0</td>\n",
              "      <td>...</td>\n",
              "      <td>never pay</td>\n",
              "      <td>soft</td>\n",
              "      <td>good</td>\n",
              "      <td>insufficient</td>\n",
              "      <td>insufficient</td>\n",
              "      <td>shallow well</td>\n",
              "      <td>shallow well</td>\n",
              "      <td>groundwater</td>\n",
              "      <td>hand pump</td>\n",
              "      <td>hand pump</td>\n",
              "    </tr>\n",
              "    <tr>\n",
              "      <th>14847</th>\n",
              "      <td>44238</td>\n",
              "      <td>0.0</td>\n",
              "      <td>2012-11-03</td>\n",
              "      <td>Government Of Tanzania</td>\n",
              "      <td>0</td>\n",
              "      <td>Central government</td>\n",
              "      <td>33.020305</td>\n",
              "      <td>-4.949560</td>\n",
              "      <td>Kwa Mzee Salum Chata</td>\n",
              "      <td>0</td>\n",
              "      <td>...</td>\n",
              "      <td>never pay</td>\n",
              "      <td>soft</td>\n",
              "      <td>good</td>\n",
              "      <td>dry</td>\n",
              "      <td>dry</td>\n",
              "      <td>spring</td>\n",
              "      <td>spring</td>\n",
              "      <td>groundwater</td>\n",
              "      <td>communal standpipe multiple</td>\n",
              "      <td>communal standpipe</td>\n",
              "    </tr>\n",
              "    <tr>\n",
              "      <th>14848</th>\n",
              "      <td>13229</td>\n",
              "      <td>0.0</td>\n",
              "      <td>2013-01-18</td>\n",
              "      <td>Tassaf I</td>\n",
              "      <td>1294</td>\n",
              "      <td>TASSAF</td>\n",
              "      <td>30.588892</td>\n",
              "      <td>-3.837622</td>\n",
              "      <td>Center</td>\n",
              "      <td>0</td>\n",
              "      <td>...</td>\n",
              "      <td>unknown</td>\n",
              "      <td>soft</td>\n",
              "      <td>good</td>\n",
              "      <td>enough</td>\n",
              "      <td>enough</td>\n",
              "      <td>spring</td>\n",
              "      <td>spring</td>\n",
              "      <td>groundwater</td>\n",
              "      <td>communal standpipe multiple</td>\n",
              "      <td>communal standpipe</td>\n",
              "    </tr>\n",
              "    <tr>\n",
              "      <th>14849</th>\n",
              "      <td>70800</td>\n",
              "      <td>30.0</td>\n",
              "      <td>2011-02-23</td>\n",
              "      <td>Jaica</td>\n",
              "      <td>60</td>\n",
              "      <td>JAICA</td>\n",
              "      <td>39.330407</td>\n",
              "      <td>-7.039634</td>\n",
              "      <td>Kwa Jokoo</td>\n",
              "      <td>0</td>\n",
              "      <td>...</td>\n",
              "      <td>per bucket</td>\n",
              "      <td>soft</td>\n",
              "      <td>good</td>\n",
              "      <td>enough</td>\n",
              "      <td>enough</td>\n",
              "      <td>machine dbh</td>\n",
              "      <td>borehole</td>\n",
              "      <td>groundwater</td>\n",
              "      <td>communal standpipe</td>\n",
              "      <td>communal standpipe</td>\n",
              "    </tr>\n",
              "  </tbody>\n",
              "</table>\n",
              "<p>14850 rows × 40 columns</p>\n",
              "</div>\n",
              "      <button class=\"colab-df-convert\" onclick=\"convertToInteractive('df-38680dff-6ddb-4b67-857e-559f0b1a94d8')\"\n",
              "              title=\"Convert this dataframe to an interactive table.\"\n",
              "              style=\"display:none;\">\n",
              "        \n",
              "  <svg xmlns=\"http://www.w3.org/2000/svg\" height=\"24px\"viewBox=\"0 0 24 24\"\n",
              "       width=\"24px\">\n",
              "    <path d=\"M0 0h24v24H0V0z\" fill=\"none\"/>\n",
              "    <path d=\"M18.56 5.44l.94 2.06.94-2.06 2.06-.94-2.06-.94-.94-2.06-.94 2.06-2.06.94zm-11 1L8.5 8.5l.94-2.06 2.06-.94-2.06-.94L8.5 2.5l-.94 2.06-2.06.94zm10 10l.94 2.06.94-2.06 2.06-.94-2.06-.94-.94-2.06-.94 2.06-2.06.94z\"/><path d=\"M17.41 7.96l-1.37-1.37c-.4-.4-.92-.59-1.43-.59-.52 0-1.04.2-1.43.59L10.3 9.45l-7.72 7.72c-.78.78-.78 2.05 0 2.83L4 21.41c.39.39.9.59 1.41.59.51 0 1.02-.2 1.41-.59l7.78-7.78 2.81-2.81c.8-.78.8-2.07 0-2.86zM5.41 20L4 18.59l7.72-7.72 1.47 1.35L5.41 20z\"/>\n",
              "  </svg>\n",
              "      </button>\n",
              "      \n",
              "  <style>\n",
              "    .colab-df-container {\n",
              "      display:flex;\n",
              "      flex-wrap:wrap;\n",
              "      gap: 12px;\n",
              "    }\n",
              "\n",
              "    .colab-df-convert {\n",
              "      background-color: #E8F0FE;\n",
              "      border: none;\n",
              "      border-radius: 50%;\n",
              "      cursor: pointer;\n",
              "      display: none;\n",
              "      fill: #1967D2;\n",
              "      height: 32px;\n",
              "      padding: 0 0 0 0;\n",
              "      width: 32px;\n",
              "    }\n",
              "\n",
              "    .colab-df-convert:hover {\n",
              "      background-color: #E2EBFA;\n",
              "      box-shadow: 0px 1px 2px rgba(60, 64, 67, 0.3), 0px 1px 3px 1px rgba(60, 64, 67, 0.15);\n",
              "      fill: #174EA6;\n",
              "    }\n",
              "\n",
              "    [theme=dark] .colab-df-convert {\n",
              "      background-color: #3B4455;\n",
              "      fill: #D2E3FC;\n",
              "    }\n",
              "\n",
              "    [theme=dark] .colab-df-convert:hover {\n",
              "      background-color: #434B5C;\n",
              "      box-shadow: 0px 1px 3px 1px rgba(0, 0, 0, 0.15);\n",
              "      filter: drop-shadow(0px 1px 2px rgba(0, 0, 0, 0.3));\n",
              "      fill: #FFFFFF;\n",
              "    }\n",
              "  </style>\n",
              "\n",
              "      <script>\n",
              "        const buttonEl =\n",
              "          document.querySelector('#df-38680dff-6ddb-4b67-857e-559f0b1a94d8 button.colab-df-convert');\n",
              "        buttonEl.style.display =\n",
              "          google.colab.kernel.accessAllowed ? 'block' : 'none';\n",
              "\n",
              "        async function convertToInteractive(key) {\n",
              "          const element = document.querySelector('#df-38680dff-6ddb-4b67-857e-559f0b1a94d8');\n",
              "          const dataTable =\n",
              "            await google.colab.kernel.invokeFunction('convertToInteractive',\n",
              "                                                     [key], {});\n",
              "          if (!dataTable) return;\n",
              "\n",
              "          const docLinkHtml = 'Like what you see? Visit the ' +\n",
              "            '<a target=\"_blank\" href=https://colab.research.google.com/notebooks/data_table.ipynb>data table notebook</a>'\n",
              "            + ' to learn more about interactive tables.';\n",
              "          element.innerHTML = '';\n",
              "          dataTable['output_type'] = 'display_data';\n",
              "          await google.colab.output.renderOutput(dataTable, element);\n",
              "          const docLink = document.createElement('div');\n",
              "          docLink.innerHTML = docLinkHtml;\n",
              "          element.appendChild(docLink);\n",
              "        }\n",
              "      </script>\n",
              "    </div>\n",
              "  </div>\n",
              "  "
            ]
          },
          "metadata": {}
        }
      ]
    },
    {
      "cell_type": "markdown",
      "metadata": {
        "id": "I5dRm5d7MNMA"
      },
      "source": [
        "Inspecting Test data set:"
      ]
    },
    {
      "cell_type": "code",
      "metadata": {
        "id": "oa732uUoLJ_6",
        "colab": {
          "base_uri": "https://localhost:8080/"
        },
        "outputId": "e261efa6-74b7-4a06-d1f8-654a4ee80e30"
      },
      "source": [
        "for col in test_df.columns.values :\n",
        "  list_vals = pd.unique(test_df[col])\n",
        "  print(col + ' is of type ' + str(test_df[col].dtypes) + ' ,has ' + str(len(list_vals)) + ' unique values, and ' + str(test_df[col].isnull().sum()) + ' null entries ')\n",
        "  if len(list_vals) < 11: #if the number of uniqe values is less than 10 then print them\n",
        "    list_str = ''\n",
        "    for n_value in range(len(list_vals)):\n",
        "      list_str += str(list_vals[n_value]) + ','\n",
        "    print('These are:',list_str)"
      ],
      "execution_count": 121,
      "outputs": [
        {
          "output_type": "stream",
          "name": "stdout",
          "text": [
            "id is of type int64 ,has 14850 unique values, and 0 null entries \n",
            "amount_tsh is of type float64 ,has 74 unique values, and 0 null entries \n",
            "date_recorded is of type object ,has 326 unique values, and 0 null entries \n",
            "funder is of type object ,has 948 unique values, and 842 null entries \n",
            "gps_height is of type int64 ,has 2128 unique values, and 0 null entries \n",
            "installer is of type object ,has 1085 unique values, and 848 null entries \n",
            "longitude is of type float64 ,has 14390 unique values, and 0 null entries \n",
            "latitude is of type float64 ,has 14390 unique values, and 0 null entries \n",
            "wpt_name is of type object ,has 10708 unique values, and 0 null entries \n",
            "num_private is of type int64 ,has 38 unique values, and 0 null entries \n",
            "basin is of type object ,has 9 unique values, and 0 null entries \n",
            "These are: Rufiji,Wami / Ruvu,Lake Victoria,Lake Tanganyika,Internal,Ruvuma / Southern Coast,Pangani,Lake Nyasa,Lake Rukwa,\n",
            "subvillage is of type object ,has 8449 unique values, and 84 null entries \n",
            "region is of type object ,has 21 unique values, and 0 null entries \n",
            "region_code is of type int64 ,has 26 unique values, and 0 null entries \n",
            "district_code is of type int64 ,has 19 unique values, and 0 null entries \n",
            "lga is of type object ,has 124 unique values, and 0 null entries \n",
            "ward is of type object ,has 1942 unique values, and 0 null entries \n",
            "population is of type int64 ,has 631 unique values, and 0 null entries \n",
            "public_meeting is of type object ,has 3 unique values, and 843 null entries \n",
            "These are: True,False,nan,\n",
            "recorded_by is of type object ,has 1 unique values, and 0 null entries \n",
            "These are: GeoData Consultants Ltd,\n",
            "scheme_management is of type object ,has 12 unique values, and 1045 null entries \n",
            "scheme_name is of type object ,has 1729 unique values, and 7056 null entries \n",
            "permit is of type object ,has 3 unique values, and 720 null entries \n",
            "These are: True,False,nan,\n",
            "construction_year is of type int64 ,has 55 unique values, and 0 null entries \n",
            "extraction_type is of type object ,has 17 unique values, and 0 null entries \n",
            "extraction_type_group is of type object ,has 13 unique values, and 0 null entries \n",
            "extraction_type_class is of type object ,has 7 unique values, and 0 null entries \n",
            "These are: gravity,motorpump,handpump,other,submersible,rope pump,wind-powered,\n",
            "management is of type object ,has 12 unique values, and 0 null entries \n",
            "management_group is of type object ,has 5 unique values, and 0 null entries \n",
            "These are: user-group,commercial,parastatal,other,unknown,\n",
            "payment is of type object ,has 7 unique values, and 0 null entries \n",
            "These are: never pay,pay when scheme fails,pay per bucket,unknown,other,pay monthly,pay annually,\n",
            "payment_type is of type object ,has 7 unique values, and 0 null entries \n",
            "These are: never pay,on failure,per bucket,unknown,other,monthly,annually,\n",
            "water_quality is of type object ,has 8 unique values, and 0 null entries \n",
            "These are: soft,salty,coloured,milky,unknown,salty abandoned,fluoride,fluoride abandoned,\n",
            "quality_group is of type object ,has 6 unique values, and 0 null entries \n",
            "These are: good,salty,colored,milky,unknown,fluoride,\n",
            "quantity is of type object ,has 5 unique values, and 0 null entries \n",
            "These are: dry,enough,insufficient,seasonal,unknown,\n",
            "quantity_group is of type object ,has 5 unique values, and 0 null entries \n",
            "These are: dry,enough,insufficient,seasonal,unknown,\n",
            "source is of type object ,has 10 unique values, and 0 null entries \n",
            "These are: spring,machine dbh,shallow well,rainwater harvesting,hand dtw,river,dam,lake,other,unknown,\n",
            "source_type is of type object ,has 7 unique values, and 0 null entries \n",
            "These are: spring,borehole,shallow well,rainwater harvesting,river/lake,dam,other,\n",
            "source_class is of type object ,has 3 unique values, and 0 null entries \n",
            "These are: groundwater,surface,unknown,\n",
            "waterpoint_type is of type object ,has 7 unique values, and 0 null entries \n",
            "These are: communal standpipe,hand pump,other,communal standpipe multiple,improved spring,cattle trough,dam,\n",
            "waterpoint_type_group is of type object ,has 6 unique values, and 0 null entries \n",
            "These are: communal standpipe,hand pump,other,improved spring,cattle trough,dam,\n"
          ]
        }
      ]
    },
    {
      "cell_type": "markdown",
      "metadata": {
        "id": "GPpDdacON4Ko"
      },
      "source": [
        "Inspecting training data set"
      ]
    },
    {
      "cell_type": "code",
      "metadata": {
        "id": "cO3D8lEaJGR5",
        "colab": {
          "base_uri": "https://localhost:8080/"
        },
        "outputId": "b5250edc-4f99-493e-a27e-adcfcec624b1"
      },
      "source": [
        "print(train_df.dtypes)"
      ],
      "execution_count": 122,
      "outputs": [
        {
          "output_type": "stream",
          "name": "stdout",
          "text": [
            "id                         int64\n",
            "amount_tsh               float64\n",
            "date_recorded             object\n",
            "funder                    object\n",
            "gps_height                 int64\n",
            "installer                 object\n",
            "longitude                float64\n",
            "latitude                 float64\n",
            "wpt_name                  object\n",
            "num_private                int64\n",
            "basin                     object\n",
            "subvillage                object\n",
            "region                    object\n",
            "region_code                int64\n",
            "district_code              int64\n",
            "lga                       object\n",
            "ward                      object\n",
            "population                 int64\n",
            "public_meeting            object\n",
            "recorded_by               object\n",
            "scheme_management         object\n",
            "scheme_name               object\n",
            "permit                    object\n",
            "construction_year          int64\n",
            "extraction_type           object\n",
            "extraction_type_group     object\n",
            "extraction_type_class     object\n",
            "management                object\n",
            "management_group          object\n",
            "payment                   object\n",
            "payment_type              object\n",
            "water_quality             object\n",
            "quality_group             object\n",
            "quantity                  object\n",
            "quantity_group            object\n",
            "source                    object\n",
            "source_type               object\n",
            "source_class              object\n",
            "waterpoint_type           object\n",
            "waterpoint_type_group     object\n",
            "status_group              object\n",
            "dtype: object\n"
          ]
        }
      ]
    },
    {
      "cell_type": "code",
      "metadata": {
        "id": "HEzfSx3VBIjM",
        "colab": {
          "base_uri": "https://localhost:8080/",
          "height": 364
        },
        "outputId": "0ed926f8-5b8b-4f4f-b008-3f6cfaddd20c"
      },
      "source": [
        "# To get an idea about the statistics of numerical features\n",
        "train_df.describe()"
      ],
      "execution_count": 123,
      "outputs": [
        {
          "output_type": "execute_result",
          "data": {
            "text/plain": [
              "                 id     amount_tsh    gps_height     longitude      latitude  \\\n",
              "count  44550.000000   44550.000000  44550.000000  44550.000000  4.455000e+04   \n",
              "mean   37192.623681     307.623224    665.490774     34.084084 -5.721980e+00   \n",
              "std    21399.827198    2402.742799    693.653179      6.555924  2.948828e+00   \n",
              "min        1.000000       0.000000    -90.000000      0.000000 -1.164838e+01   \n",
              "25%    18723.250000       0.000000      0.000000     33.105585 -8.574241e+00   \n",
              "50%    37183.500000       0.000000    363.000000     34.905600 -5.045611e+00   \n",
              "75%    55647.500000      20.000000   1318.000000     37.176859 -3.327795e+00   \n",
              "max    74247.000000  170000.000000   2770.000000     40.345193 -2.000000e-08   \n",
              "\n",
              "        num_private   region_code  district_code    population  \\\n",
              "count  44550.000000  44550.000000   44550.000000  44550.000000   \n",
              "mean       0.521549     15.338563       5.678967    179.112750   \n",
              "std       13.835868     17.672144       9.724205    478.995645   \n",
              "min        0.000000      1.000000       0.000000      0.000000   \n",
              "25%        0.000000      5.000000       2.000000      0.000000   \n",
              "50%        0.000000     12.000000       3.000000     25.000000   \n",
              "75%        0.000000     17.000000       5.000000    210.000000   \n",
              "max     1776.000000     99.000000      80.000000  30500.000000   \n",
              "\n",
              "       construction_year  \n",
              "count       44550.000000  \n",
              "mean         1295.782155  \n",
              "std           953.183961  \n",
              "min             0.000000  \n",
              "25%             0.000000  \n",
              "50%          1985.000000  \n",
              "75%          2004.000000  \n",
              "max          2013.000000  "
            ],
            "text/html": [
              "\n",
              "  <div id=\"df-0434ddf8-f9bb-4fed-8254-e271b3466f00\">\n",
              "    <div class=\"colab-df-container\">\n",
              "      <div>\n",
              "<style scoped>\n",
              "    .dataframe tbody tr th:only-of-type {\n",
              "        vertical-align: middle;\n",
              "    }\n",
              "\n",
              "    .dataframe tbody tr th {\n",
              "        vertical-align: top;\n",
              "    }\n",
              "\n",
              "    .dataframe thead th {\n",
              "        text-align: right;\n",
              "    }\n",
              "</style>\n",
              "<table border=\"1\" class=\"dataframe\">\n",
              "  <thead>\n",
              "    <tr style=\"text-align: right;\">\n",
              "      <th></th>\n",
              "      <th>id</th>\n",
              "      <th>amount_tsh</th>\n",
              "      <th>gps_height</th>\n",
              "      <th>longitude</th>\n",
              "      <th>latitude</th>\n",
              "      <th>num_private</th>\n",
              "      <th>region_code</th>\n",
              "      <th>district_code</th>\n",
              "      <th>population</th>\n",
              "      <th>construction_year</th>\n",
              "    </tr>\n",
              "  </thead>\n",
              "  <tbody>\n",
              "    <tr>\n",
              "      <th>count</th>\n",
              "      <td>44550.000000</td>\n",
              "      <td>44550.000000</td>\n",
              "      <td>44550.000000</td>\n",
              "      <td>44550.000000</td>\n",
              "      <td>4.455000e+04</td>\n",
              "      <td>44550.000000</td>\n",
              "      <td>44550.000000</td>\n",
              "      <td>44550.000000</td>\n",
              "      <td>44550.000000</td>\n",
              "      <td>44550.000000</td>\n",
              "    </tr>\n",
              "    <tr>\n",
              "      <th>mean</th>\n",
              "      <td>37192.623681</td>\n",
              "      <td>307.623224</td>\n",
              "      <td>665.490774</td>\n",
              "      <td>34.084084</td>\n",
              "      <td>-5.721980e+00</td>\n",
              "      <td>0.521549</td>\n",
              "      <td>15.338563</td>\n",
              "      <td>5.678967</td>\n",
              "      <td>179.112750</td>\n",
              "      <td>1295.782155</td>\n",
              "    </tr>\n",
              "    <tr>\n",
              "      <th>std</th>\n",
              "      <td>21399.827198</td>\n",
              "      <td>2402.742799</td>\n",
              "      <td>693.653179</td>\n",
              "      <td>6.555924</td>\n",
              "      <td>2.948828e+00</td>\n",
              "      <td>13.835868</td>\n",
              "      <td>17.672144</td>\n",
              "      <td>9.724205</td>\n",
              "      <td>478.995645</td>\n",
              "      <td>953.183961</td>\n",
              "    </tr>\n",
              "    <tr>\n",
              "      <th>min</th>\n",
              "      <td>1.000000</td>\n",
              "      <td>0.000000</td>\n",
              "      <td>-90.000000</td>\n",
              "      <td>0.000000</td>\n",
              "      <td>-1.164838e+01</td>\n",
              "      <td>0.000000</td>\n",
              "      <td>1.000000</td>\n",
              "      <td>0.000000</td>\n",
              "      <td>0.000000</td>\n",
              "      <td>0.000000</td>\n",
              "    </tr>\n",
              "    <tr>\n",
              "      <th>25%</th>\n",
              "      <td>18723.250000</td>\n",
              "      <td>0.000000</td>\n",
              "      <td>0.000000</td>\n",
              "      <td>33.105585</td>\n",
              "      <td>-8.574241e+00</td>\n",
              "      <td>0.000000</td>\n",
              "      <td>5.000000</td>\n",
              "      <td>2.000000</td>\n",
              "      <td>0.000000</td>\n",
              "      <td>0.000000</td>\n",
              "    </tr>\n",
              "    <tr>\n",
              "      <th>50%</th>\n",
              "      <td>37183.500000</td>\n",
              "      <td>0.000000</td>\n",
              "      <td>363.000000</td>\n",
              "      <td>34.905600</td>\n",
              "      <td>-5.045611e+00</td>\n",
              "      <td>0.000000</td>\n",
              "      <td>12.000000</td>\n",
              "      <td>3.000000</td>\n",
              "      <td>25.000000</td>\n",
              "      <td>1985.000000</td>\n",
              "    </tr>\n",
              "    <tr>\n",
              "      <th>75%</th>\n",
              "      <td>55647.500000</td>\n",
              "      <td>20.000000</td>\n",
              "      <td>1318.000000</td>\n",
              "      <td>37.176859</td>\n",
              "      <td>-3.327795e+00</td>\n",
              "      <td>0.000000</td>\n",
              "      <td>17.000000</td>\n",
              "      <td>5.000000</td>\n",
              "      <td>210.000000</td>\n",
              "      <td>2004.000000</td>\n",
              "    </tr>\n",
              "    <tr>\n",
              "      <th>max</th>\n",
              "      <td>74247.000000</td>\n",
              "      <td>170000.000000</td>\n",
              "      <td>2770.000000</td>\n",
              "      <td>40.345193</td>\n",
              "      <td>-2.000000e-08</td>\n",
              "      <td>1776.000000</td>\n",
              "      <td>99.000000</td>\n",
              "      <td>80.000000</td>\n",
              "      <td>30500.000000</td>\n",
              "      <td>2013.000000</td>\n",
              "    </tr>\n",
              "  </tbody>\n",
              "</table>\n",
              "</div>\n",
              "      <button class=\"colab-df-convert\" onclick=\"convertToInteractive('df-0434ddf8-f9bb-4fed-8254-e271b3466f00')\"\n",
              "              title=\"Convert this dataframe to an interactive table.\"\n",
              "              style=\"display:none;\">\n",
              "        \n",
              "  <svg xmlns=\"http://www.w3.org/2000/svg\" height=\"24px\"viewBox=\"0 0 24 24\"\n",
              "       width=\"24px\">\n",
              "    <path d=\"M0 0h24v24H0V0z\" fill=\"none\"/>\n",
              "    <path d=\"M18.56 5.44l.94 2.06.94-2.06 2.06-.94-2.06-.94-.94-2.06-.94 2.06-2.06.94zm-11 1L8.5 8.5l.94-2.06 2.06-.94-2.06-.94L8.5 2.5l-.94 2.06-2.06.94zm10 10l.94 2.06.94-2.06 2.06-.94-2.06-.94-.94-2.06-.94 2.06-2.06.94z\"/><path d=\"M17.41 7.96l-1.37-1.37c-.4-.4-.92-.59-1.43-.59-.52 0-1.04.2-1.43.59L10.3 9.45l-7.72 7.72c-.78.78-.78 2.05 0 2.83L4 21.41c.39.39.9.59 1.41.59.51 0 1.02-.2 1.41-.59l7.78-7.78 2.81-2.81c.8-.78.8-2.07 0-2.86zM5.41 20L4 18.59l7.72-7.72 1.47 1.35L5.41 20z\"/>\n",
              "  </svg>\n",
              "      </button>\n",
              "      \n",
              "  <style>\n",
              "    .colab-df-container {\n",
              "      display:flex;\n",
              "      flex-wrap:wrap;\n",
              "      gap: 12px;\n",
              "    }\n",
              "\n",
              "    .colab-df-convert {\n",
              "      background-color: #E8F0FE;\n",
              "      border: none;\n",
              "      border-radius: 50%;\n",
              "      cursor: pointer;\n",
              "      display: none;\n",
              "      fill: #1967D2;\n",
              "      height: 32px;\n",
              "      padding: 0 0 0 0;\n",
              "      width: 32px;\n",
              "    }\n",
              "\n",
              "    .colab-df-convert:hover {\n",
              "      background-color: #E2EBFA;\n",
              "      box-shadow: 0px 1px 2px rgba(60, 64, 67, 0.3), 0px 1px 3px 1px rgba(60, 64, 67, 0.15);\n",
              "      fill: #174EA6;\n",
              "    }\n",
              "\n",
              "    [theme=dark] .colab-df-convert {\n",
              "      background-color: #3B4455;\n",
              "      fill: #D2E3FC;\n",
              "    }\n",
              "\n",
              "    [theme=dark] .colab-df-convert:hover {\n",
              "      background-color: #434B5C;\n",
              "      box-shadow: 0px 1px 3px 1px rgba(0, 0, 0, 0.15);\n",
              "      filter: drop-shadow(0px 1px 2px rgba(0, 0, 0, 0.3));\n",
              "      fill: #FFFFFF;\n",
              "    }\n",
              "  </style>\n",
              "\n",
              "      <script>\n",
              "        const buttonEl =\n",
              "          document.querySelector('#df-0434ddf8-f9bb-4fed-8254-e271b3466f00 button.colab-df-convert');\n",
              "        buttonEl.style.display =\n",
              "          google.colab.kernel.accessAllowed ? 'block' : 'none';\n",
              "\n",
              "        async function convertToInteractive(key) {\n",
              "          const element = document.querySelector('#df-0434ddf8-f9bb-4fed-8254-e271b3466f00');\n",
              "          const dataTable =\n",
              "            await google.colab.kernel.invokeFunction('convertToInteractive',\n",
              "                                                     [key], {});\n",
              "          if (!dataTable) return;\n",
              "\n",
              "          const docLinkHtml = 'Like what you see? Visit the ' +\n",
              "            '<a target=\"_blank\" href=https://colab.research.google.com/notebooks/data_table.ipynb>data table notebook</a>'\n",
              "            + ' to learn more about interactive tables.';\n",
              "          element.innerHTML = '';\n",
              "          dataTable['output_type'] = 'display_data';\n",
              "          await google.colab.output.renderOutput(dataTable, element);\n",
              "          const docLink = document.createElement('div');\n",
              "          docLink.innerHTML = docLinkHtml;\n",
              "          element.appendChild(docLink);\n",
              "        }\n",
              "      </script>\n",
              "    </div>\n",
              "  </div>\n",
              "  "
            ]
          },
          "metadata": {},
          "execution_count": 123
        }
      ]
    },
    {
      "cell_type": "markdown",
      "metadata": {
        "id": "Jm14NpUFAktX"
      },
      "source": [
        "To get an idea about the distribution of certain features:"
      ]
    },
    {
      "cell_type": "code",
      "metadata": {
        "id": "crQZzJIZGY0j",
        "colab": {
          "base_uri": "https://localhost:8080/"
        },
        "outputId": "4d8bc233-5f4c-490a-94f7-e66f83ca9da6"
      },
      "source": [
        "train_df.construction_year.value_counts()"
      ],
      "execution_count": 124,
      "outputs": [
        {
          "output_type": "execute_result",
          "data": {
            "text/plain": [
              "0       15641\n",
              "2010     1991\n",
              "2008     1935\n",
              "2009     1928\n",
              "2000     1575\n",
              "2007     1199\n",
              "2006     1115\n",
              "2003      960\n",
              "2011      934\n",
              "2004      838\n",
              "2012      804\n",
              "2002      801\n",
              "1978      780\n",
              "2005      776\n",
              "1995      739\n",
              "1999      721\n",
              "1985      705\n",
              "1998      702\n",
              "1990      691\n",
              "1980      625\n",
              "1996      619\n",
              "1984      580\n",
              "1994      556\n",
              "1982      553\n",
              "1972      541\n",
              "1974      510\n",
              "1997      482\n",
              "1992      474\n",
              "1993      433\n",
              "2001      413\n",
              "1988      386\n",
              "1983      372\n",
              "1975      325\n",
              "1986      325\n",
              "1970      294\n",
              "1976      281\n",
              "1991      238\n",
              "1989      233\n",
              "1987      223\n",
              "1981      181\n",
              "1977      149\n",
              "1979      142\n",
              "1973      138\n",
              "2013      131\n",
              "1971      108\n",
              "1960       75\n",
              "1967       70\n",
              "1968       60\n",
              "1963       58\n",
              "1969       39\n",
              "1964       31\n",
              "1962       28\n",
              "1961       17\n",
              "1966       14\n",
              "1965       11\n",
              "Name: construction_year, dtype: int64"
            ]
          },
          "metadata": {},
          "execution_count": 124
        }
      ]
    },
    {
      "cell_type": "code",
      "metadata": {
        "id": "U8LQkJJyG6dU",
        "colab": {
          "base_uri": "https://localhost:8080/"
        },
        "outputId": "b470e4f6-f103-4a7f-8f1f-7eefccc55b09"
      },
      "source": [
        "print(train_df.date_recorded.value_counts())"
      ],
      "execution_count": 125,
      "outputs": [
        {
          "output_type": "stream",
          "name": "stdout",
          "text": [
            "2011-03-15    423\n",
            "2011-03-17    411\n",
            "2013-02-03    397\n",
            "2011-03-14    391\n",
            "2011-03-16    379\n",
            "             ... \n",
            "2012-01-21      1\n",
            "2011-09-28      1\n",
            "2011-09-16      1\n",
            "2004-04-01      1\n",
            "2011-08-31      1\n",
            "Name: date_recorded, Length: 346, dtype: int64\n"
          ]
        }
      ]
    },
    {
      "cell_type": "code",
      "metadata": {
        "id": "ebQlO0TWItk4",
        "colab": {
          "base_uri": "https://localhost:8080/"
        },
        "outputId": "0ec47843-3a6c-4501-8061-84fb61d0e688"
      },
      "source": [
        "print(train_df.public_meeting.value_counts())"
      ],
      "execution_count": 126,
      "outputs": [
        {
          "output_type": "stream",
          "name": "stdout",
          "text": [
            "True     38212\n",
            "False     3847\n",
            "Name: public_meeting, dtype: int64\n"
          ]
        }
      ]
    },
    {
      "cell_type": "code",
      "metadata": {
        "id": "ldtDCxTuGrCt",
        "colab": {
          "base_uri": "https://localhost:8080/"
        },
        "outputId": "bf96cb56-2c27-4d5d-ac39-e48f78f92cd2"
      },
      "source": [
        "print(train_df.permit.value_counts())"
      ],
      "execution_count": 127,
      "outputs": [
        {
          "output_type": "stream",
          "name": "stdout",
          "text": [
            "True     29057\n",
            "False    13157\n",
            "Name: permit, dtype: int64\n"
          ]
        }
      ]
    },
    {
      "cell_type": "code",
      "metadata": {
        "id": "x88w_UWHpLSs",
        "colab": {
          "base_uri": "https://localhost:8080/"
        },
        "outputId": "2248cc2b-9960-4373-a5ad-d831300cbe86"
      },
      "source": [
        "#to print TYPE of feature,NUMBER of UNIQUE VALUES and NUMBER of NULL ENTRIES\n",
        "\n",
        "for col in train_df.columns.values :\n",
        "  list_vals = pd.unique(train_df[col])\n",
        "  print(col + ' is of type ' + str(train_df[col].dtypes) + ' ,has ' + str(len(list_vals)) + ' unique values, and ' + str(train_df[col].isnull().sum()) + ' null entries ')\n",
        "  if len(list_vals) < 11: #if the number of uniqe values is less than 10 then print them\n",
        "    list_str = ''\n",
        "    for n_value in range(len(list_vals)):\n",
        "      list_str += str(list_vals[n_value]) + ','\n",
        "    print('These are:',list_str)\n"
      ],
      "execution_count": 128,
      "outputs": [
        {
          "output_type": "stream",
          "name": "stdout",
          "text": [
            "id is of type int64 ,has 44550 unique values, and 0 null entries \n",
            "amount_tsh is of type float64 ,has 85 unique values, and 0 null entries \n",
            "date_recorded is of type object ,has 346 unique values, and 0 null entries \n",
            "funder is of type object ,has 1652 unique values, and 2793 null entries \n",
            "gps_height is of type int64 ,has 2396 unique values, and 0 null entries \n",
            "installer is of type object ,has 1855 unique values, and 2807 null entries \n",
            "longitude is of type float64 ,has 43155 unique values, and 0 null entries \n",
            "latitude is of type float64 ,has 43155 unique values, and 0 null entries \n",
            "wpt_name is of type object ,has 28991 unique values, and 0 null entries \n",
            "num_private is of type int64 ,has 59 unique values, and 0 null entries \n",
            "basin is of type object ,has 9 unique values, and 0 null entries \n",
            "These are: Pangani,Lake Nyasa,Rufiji,Lake Tanganyika,Lake Victoria,Wami / Ruvu,Internal,Ruvuma / Southern Coast,Lake Rukwa,\n",
            "subvillage is of type object ,has 16618 unique values, and 287 null entries \n",
            "region is of type object ,has 21 unique values, and 0 null entries \n",
            "region_code is of type int64 ,has 27 unique values, and 0 null entries \n",
            "district_code is of type int64 ,has 20 unique values, and 0 null entries \n",
            "lga is of type object ,has 125 unique values, and 0 null entries \n",
            "ward is of type object ,has 2080 unique values, and 0 null entries \n",
            "population is of type int64 ,has 956 unique values, and 0 null entries \n",
            "public_meeting is of type object ,has 3 unique values, and 2491 null entries \n",
            "These are: True,False,nan,\n",
            "recorded_by is of type object ,has 1 unique values, and 0 null entries \n",
            "These are: GeoData Consultants Ltd,\n",
            "scheme_management is of type object ,has 13 unique values, and 2832 null entries \n",
            "scheme_name is of type object ,has 2507 unique values, and 21110 null entries \n",
            "permit is of type object ,has 3 unique values, and 2336 null entries \n",
            "These are: True,False,nan,\n",
            "construction_year is of type int64 ,has 55 unique values, and 0 null entries \n",
            "extraction_type is of type object ,has 18 unique values, and 0 null entries \n",
            "extraction_type_group is of type object ,has 13 unique values, and 0 null entries \n",
            "extraction_type_class is of type object ,has 7 unique values, and 0 null entries \n",
            "These are: gravity,handpump,motorpump,submersible,other,rope pump,wind-powered,\n",
            "management is of type object ,has 12 unique values, and 0 null entries \n",
            "management_group is of type object ,has 5 unique values, and 0 null entries \n",
            "These are: user-group,commercial,parastatal,unknown,other,\n",
            "payment is of type object ,has 7 unique values, and 0 null entries \n",
            "These are: pay per bucket,never pay,pay annually,pay monthly,unknown,pay when scheme fails,other,\n",
            "payment_type is of type object ,has 7 unique values, and 0 null entries \n",
            "These are: per bucket,never pay,annually,monthly,unknown,on failure,other,\n",
            "water_quality is of type object ,has 8 unique values, and 0 null entries \n",
            "These are: soft,salty abandoned,unknown,salty,fluoride,milky,coloured,fluoride abandoned,\n",
            "quality_group is of type object ,has 6 unique values, and 0 null entries \n",
            "These are: good,salty,unknown,fluoride,milky,colored,\n",
            "quantity is of type object ,has 5 unique values, and 0 null entries \n",
            "These are: enough,insufficient,dry,unknown,seasonal,\n",
            "quantity_group is of type object ,has 5 unique values, and 0 null entries \n",
            "These are: enough,insufficient,dry,unknown,seasonal,\n",
            "source is of type object ,has 10 unique values, and 0 null entries \n",
            "These are: spring,river,shallow well,machine dbh,rainwater harvesting,hand dtw,lake,dam,unknown,other,\n",
            "source_type is of type object ,has 7 unique values, and 0 null entries \n",
            "These are: spring,river/lake,shallow well,borehole,rainwater harvesting,dam,other,\n",
            "source_class is of type object ,has 3 unique values, and 0 null entries \n",
            "These are: groundwater,surface,unknown,\n",
            "waterpoint_type is of type object ,has 7 unique values, and 0 null entries \n",
            "These are: communal standpipe,hand pump,other,communal standpipe multiple,cattle trough,improved spring,dam,\n",
            "waterpoint_type_group is of type object ,has 6 unique values, and 0 null entries \n",
            "These are: communal standpipe,hand pump,other,cattle trough,improved spring,dam,\n",
            "status_group is of type object ,has 3 unique values, and 0 null entries \n",
            "These are: functional,non functional,functional needs repair,\n"
          ]
        }
      ]
    },
    {
      "cell_type": "code",
      "metadata": {
        "id": "iNmL5Zsrt2kt",
        "colab": {
          "base_uri": "https://localhost:8080/"
        },
        "outputId": "e25d1729-3418-4f00-c615-edca3fce57dc"
      },
      "source": [
        "for col in train_df.columns.values :\n",
        "  list_vals = pd.unique(train_df[col])\n",
        "  if (len(list_vals) < 20) & (len(list_vals) > 10): #if the number of uniqe values is less than 10 then print them\n",
        "    list_str = ''\n",
        "    for n_value in range(len(list_vals)):\n",
        "      list_str += str(list_vals[n_value]) + ','\n",
        "    print('Unique values for feature',col,' are: ',len(list_vals),list_str)\n"
      ],
      "execution_count": 129,
      "outputs": [
        {
          "output_type": "stream",
          "name": "stdout",
          "text": [
            "Unique values for feature scheme_management  are:  13 Water Board,Private operator,VWC,Parastatal,Water authority,WUG,nan,Trust,WUA,Company,Other,SWC,None,\n",
            "Unique values for feature extraction_type  are:  18 gravity,nira/tanira,mono,swn 80,submersible,other,afridev,ksb,india mark ii,other - rope pump,cemo,walimi,other - swn 81,climax,india mark iii,other - play pump,windmill,other - mkulima/shinyanga,\n",
            "Unique values for feature extraction_type_group  are:  13 gravity,nira/tanira,mono,swn 80,submersible,other,afridev,india mark ii,rope pump,other motorpump,other handpump,india mark iii,wind-powered,\n",
            "Unique values for feature management  are:  12 water board,private operator,vwc,wug,parastatal,trust,wua,unknown,water authority,other,company,other - school,\n"
          ]
        }
      ]
    },
    {
      "cell_type": "markdown",
      "metadata": {
        "id": "iX2_huOokJZP"
      },
      "source": [
        "**Feature Distributions:**"
      ]
    },
    {
      "cell_type": "code",
      "metadata": {
        "id": "0YUy2rBkyYQh",
        "colab": {
          "base_uri": "https://localhost:8080/"
        },
        "outputId": "1a47f26b-a939-4d3f-9948-ff7b1c3a016d"
      },
      "source": [
        "pd.unique(train_df['funder'])"
      ],
      "execution_count": 130,
      "outputs": [
        {
          "output_type": "execute_result",
          "data": {
            "text/plain": [
              "array(['Germany Republi', 'Cdtf', 'Government Of Tanzania', ..., 'Sema S',\n",
              "       'Mwl.Mwita', 'If'], dtype=object)"
            ]
          },
          "metadata": {},
          "execution_count": 130
        }
      ]
    },
    {
      "cell_type": "code",
      "metadata": {
        "id": "5brWcCtoGh-E",
        "colab": {
          "base_uri": "https://localhost:8080/"
        },
        "outputId": "2a0c3740-ecff-491e-ca25-07439606783b"
      },
      "source": [
        "pd.unique(train_df['funder'])"
      ],
      "execution_count": 131,
      "outputs": [
        {
          "output_type": "execute_result",
          "data": {
            "text/plain": [
              "array(['Germany Republi', 'Cdtf', 'Government Of Tanzania', ..., 'Sema S',\n",
              "       'Mwl.Mwita', 'If'], dtype=object)"
            ]
          },
          "metadata": {},
          "execution_count": 131
        }
      ]
    },
    {
      "cell_type": "code",
      "metadata": {
        "id": "fZ-RHIWHynHI",
        "colab": {
          "base_uri": "https://localhost:8080/"
        },
        "outputId": "3d88f7a7-32a8-4901-9aab-4a3411ca912f"
      },
      "source": [
        "pd.value_counts(train_df['extraction_type'])"
      ],
      "execution_count": 132,
      "outputs": [
        {
          "output_type": "execute_result",
          "data": {
            "text/plain": [
              "gravity                      20127\n",
              "nira/tanira                   6130\n",
              "other                         4768\n",
              "submersible                   3560\n",
              "swn 80                        2771\n",
              "mono                          2164\n",
              "india mark ii                 1768\n",
              "afridev                       1339\n",
              "ksb                           1043\n",
              "other - rope pump              335\n",
              "other - swn 81                 177\n",
              "windmill                        89\n",
              "india mark iii                  77\n",
              "cemo                            70\n",
              "other - play pump               65\n",
              "walimi                          39\n",
              "climax                          26\n",
              "other - mkulima/shinyanga        2\n",
              "Name: extraction_type, dtype: int64"
            ]
          },
          "metadata": {},
          "execution_count": 132
        }
      ]
    },
    {
      "cell_type": "markdown",
      "metadata": {
        "id": "6wsMHJGuVbJR"
      },
      "source": [
        "There are a lot of categorical features in this dataset."
      ]
    },
    {
      "cell_type": "markdown",
      "metadata": {
        "id": "W8xwXPMiUI7M"
      },
      "source": [
        "We observe that the features with null values are :\\\n",
        "1)funder with 2793 null entries\\\n",
        "2)installer with 2807 null entries\\\n",
        "3)subvillage with 287 null entries\\\n",
        "4)publicmeeting with 2491 null entries\\\n",
        "5)scheme_management with 2832 null entries\\\n",
        "6)scheme_name with 21110 null entries\\\n",
        "7)permit with 2336 null entries\n"
      ]
    },
    {
      "cell_type": "markdown",
      "metadata": {
        "id": "HngqKDjjVUrp"
      },
      "source": [
        "1)Data for all the pumps have been collected by Geodata Consulting Ltd,so we can remove that column.\\\n",
        "**Dropping recorded_by** feature.\\\n",
        "2)We shall observe correlation amongst categorical features using Cramers statistics."
      ]
    },
    {
      "cell_type": "markdown",
      "metadata": {
        "id": "n0r4EggzCe0d"
      },
      "source": [
        "https://towardsdatascience.com/the-search-for-categorical-correlation-a1cf7f1888c9"
      ]
    },
    {
      "cell_type": "code",
      "metadata": {
        "id": "AhaYv4oORMcf"
      },
      "source": [
        "#Cramers statistics\n",
        "def cramers_v(x, y):\n",
        "    confusion_matrix = pd.crosstab(x,y)\n",
        "    chi2 = ss.chi2_contingency(confusion_matrix)[0]\n",
        "    n = confusion_matrix.sum().sum()\n",
        "    phi2 = chi2/n\n",
        "    r,k = confusion_matrix.shape\n",
        "    phi2corr = max(0, phi2-((k-1)*(r-1))/(n-1))\n",
        "    rcorr = r-((r-1)**2)/(n-1)\n",
        "    kcorr = k-((k-1)**2)/(n-1)\n",
        "    return np.sqrt(phi2corr/min((kcorr-1),(rcorr-1)))"
      ],
      "execution_count": 133,
      "outputs": []
    },
    {
      "cell_type": "code",
      "metadata": {
        "id": "QRDABOPHR6yO",
        "colab": {
          "base_uri": "https://localhost:8080/"
        },
        "outputId": "5e381cb6-842d-44b8-a309-80d9855200da"
      },
      "source": [
        "print(\"Cramer correlation between waterpoint_type and waterpoint_type_group is \",cramers_v(train_df['waterpoint_type'],train_df['waterpoint_type_group']))\n",
        "print(\"Cramer correlation between scheme_management and management is \",cramers_v(train_df['scheme_management'],train_df['management']))\n",
        "print(\"Cramer correlation between payment_type and payment is \",cramers_v(train_df['payment_type'],train_df['payment']))\n",
        "print(\"Cramer correlation between waterquality and quality_group is \",cramers_v(train_df['water_quality'],train_df['quality_group']))\n",
        "print(\"Cramer correlation between quantity and quantity_group is \",cramers_v(train_df['quantity'],train_df['quantity_group']))\n",
        "print(\"Cramer correlation between source_class and source_type is \",cramers_v(train_df['source_class'],train_df['source_type']))\n",
        "print(\"Cramer correlation between funder and installer is \",cramers_v(train_df['funder'],train_df['installer']))\n",
        "print(\"Cramer correlation between extraction_type and extraction_type_group is \",cramers_v(train_df['extraction_type_group'],train_df['extraction_type']))\n",
        "print(\"Cramer correlation between extraction_type_class and extraction_type is \",cramers_v(train_df['extraction_type_group'],train_df['extraction_type']))\n",
        "print(\"Cramer correlation between management and management_group is \",cramers_v(train_df['management_group'],train_df['management']))\n",
        "print(\"Cramer correlation between region and region_code is \",cramers_v(train_df['region'],train_df['region_code']))\n",
        "print(\"Cramer correlation between status_group and basin is \",cramers_v(train_df['basin'],train_df['status_group']))\n"
      ],
      "execution_count": 134,
      "outputs": [
        {
          "output_type": "stream",
          "name": "stdout",
          "text": [
            "Cramer correlation between waterpoint_type and waterpoint_type_group is  0.9999887750806787\n",
            "Cramer correlation between scheme_management and management is  0.7588127798655045\n",
            "Cramer correlation between payment_type and payment is  1.0\n",
            "Cramer correlation between waterquality and quality_group is  0.9999775500353559\n",
            "Cramer correlation between quantity and quantity_group is  0.9999999999999999\n",
            "Cramer correlation between source_class and source_type is  0.9999551025905579\n",
            "Cramer correlation between funder and installer is  0.7497047078759796\n",
            "Cramer correlation between extraction_type and extraction_type_group is  0.9999438653216356\n",
            "Cramer correlation between extraction_type_class and extraction_type is  0.9999438653216356\n",
            "Cramer correlation between management and management_group is  0.9999214246826309\n",
            "Cramer correlation between region and region_code is  0.9979784860164598\n",
            "Cramer correlation between status_group and basin is  0.12472447872030533\n"
          ]
        }
      ]
    },
    {
      "cell_type": "markdown",
      "metadata": {
        "id": "qKFSSKPgHGev"
      },
      "source": [
        "**amount_tsh**"
      ]
    },
    {
      "cell_type": "code",
      "metadata": {
        "id": "X_GFXzhdHKZv",
        "colab": {
          "base_uri": "https://localhost:8080/"
        },
        "outputId": "68a49307-65fd-40a5-dd5d-466db8ff7e61"
      },
      "source": [
        "##Number of null values for the feature \"amount_tsh\"\n",
        "train_df['amount_tsh'] = train_df['amount_tsh'].replace(0, np.nan)\n",
        "train_df['amount_tsh'].isnull().sum()"
      ],
      "execution_count": 135,
      "outputs": [
        {
          "output_type": "execute_result",
          "data": {
            "text/plain": [
              "31231"
            ]
          },
          "metadata": {},
          "execution_count": 135
        }
      ]
    },
    {
      "cell_type": "markdown",
      "metadata": {
        "id": "nBUQRuryHXoh"
      },
      "source": [
        "With more than half of the values of this feature being zero,we shall **drop amount_tsh**."
      ]
    },
    {
      "cell_type": "markdown",
      "metadata": {
        "id": "eBA6F8Pm7Gh4"
      },
      "source": [
        "**Dropping column \"waterpoint_type_group\"** instead of \"waterpoint_type\" as it has only 6 unique values and probably less information.\\\n",
        "**Dropping column \"quality_group\"** instead of \"water_quality\" based on similar reasoning.\\\n",
        "**Dropping feature quantity** as it is correlated with quantity_group.\\\n",
        "**Dropping \"source_type\" and \"source_class\"** as these features are predictable from \"source\".\\\n",
        "**Dropping \"payment\"** for information redundancy with \"payment_type\".\\\n",
        "**Dropping recorded_by** feature as it is same for all and thereby contains no discriminatory information.\\\n",
        "**Dropping scheme_name** as it does not seem relevant as we already have scheme mangament information.\\\n",
        "**Dropping extraction_type_group and extraction_type_class** and keeping the feature extraction_type as it can provide greater detail.\\\n",
        "**Dropping scheme_management** and keeping management as it has more number of relevant unique features.\\"
      ]
    },
    {
      "cell_type": "markdown",
      "metadata": {
        "id": "h7tGk3caCwqQ"
      },
      "source": [
        "**LABEL FEATURES**"
      ]
    },
    {
      "cell_type": "markdown",
      "metadata": {
        "id": "sqHeN9pU34bs"
      },
      "source": [
        "**Dropping wpt_name** as it has around 28000 unique values,it must be serving a labelling purpose.\\\n",
        "**Dropping id** as it is a label."
      ]
    },
    {
      "cell_type": "markdown",
      "metadata": {
        "id": "1rFsG09JA3Hc"
      },
      "source": [
        "**LOCATION INFORMATION**"
      ]
    },
    {
      "cell_type": "markdown",
      "metadata": {
        "id": "1UtepWJOA7KX"
      },
      "source": [
        "There are 8 features in this dataset that correspond to the location of the water pump.\\\n",
        "Numerical features are latitude,longitude,region_code and district_code.\\\n",
        "The categorical features are sub_village,region,lga and ward.\\\n",
        "We shall only consider the categorical information as it will include the information contained within the numerical features.\\\n",
        "Therefore,**dropping latitude,longitude,region_code and district_code**."
      ]
    },
    {
      "cell_type": "markdown",
      "metadata": {
        "id": "B94fE4thoHQ2"
      },
      "source": [
        "**Population and Construction Year**"
      ]
    },
    {
      "cell_type": "code",
      "metadata": {
        "id": "l52OmyCW8Q4C",
        "colab": {
          "base_uri": "https://localhost:8080/"
        },
        "outputId": "aec87bca-91c1-4409-999d-17127dd2a28c"
      },
      "source": [
        "#Number of null values for the feature \"construction_year\"\n",
        "train_df['construction_year'] = train_df['construction_year'].replace(0, np.nan)\n",
        "train_df['construction_year'].isnull().sum()\n"
      ],
      "execution_count": 136,
      "outputs": [
        {
          "output_type": "execute_result",
          "data": {
            "text/plain": [
              "15641"
            ]
          },
          "metadata": {},
          "execution_count": 136
        }
      ]
    },
    {
      "cell_type": "code",
      "metadata": {
        "id": "kwhU0gDOCzQO",
        "colab": {
          "base_uri": "https://localhost:8080/"
        },
        "outputId": "6cc0b205-6eda-48fa-e0c8-ebae3eb2697b"
      },
      "source": [
        "#Number of null values for the feature \"population\"\n",
        "train_df['population'] = train_df['population'].replace(0, np.nan)\n",
        "train_df['population'].isnull().sum()"
      ],
      "execution_count": 137,
      "outputs": [
        {
          "output_type": "execute_result",
          "data": {
            "text/plain": [
              "16150"
            ]
          },
          "metadata": {},
          "execution_count": 137
        }
      ]
    },
    {
      "cell_type": "markdown",
      "metadata": {
        "id": "IqqCAvTqAIyp"
      },
      "source": [
        "Both these features have around 30% of its values as zero which is not meaningful.\\\n",
        "Yet another observation is that these null values are appearing together for both these features.\\\n",
        "We shall **drop population and construction_year** features."
      ]
    },
    {
      "cell_type": "markdown",
      "metadata": {
        "id": "LLr5uhneRRa4"
      },
      "source": [
        "Histogram for num_private feature reveals the skewed nature of the distribution.\\\n",
        "**Dropping num_private** for base model."
      ]
    },
    {
      "cell_type": "code",
      "metadata": {
        "id": "RgYh54raFmIY",
        "colab": {
          "base_uri": "https://localhost:8080/",
          "height": 280
        },
        "outputId": "52988f69-502b-49b2-b3fd-3a1676ff758f"
      },
      "source": [
        "    plt.hist(train_df['num_private'])\n",
        "    plt.xlabel('num_private')\n",
        "    plt. show()"
      ],
      "execution_count": 138,
      "outputs": [
        {
          "output_type": "display_data",
          "data": {
            "text/plain": [
              "<Figure size 432x288 with 1 Axes>"
            ],
            "image/png": "[encoded data removed]"
          },
          "metadata": {
            "needs_background": "light"
          }
        }
      ]
    },
    {
      "cell_type": "markdown",
      "metadata": {
        "id": "UDnTSkBaR1iF"
      },
      "source": [
        "**BASE MODEL CONSIDERATIONS :**"
      ]
    },
    {
      "cell_type": "markdown",
      "metadata": {
        "id": "xZiSGSeGeShK"
      },
      "source": [
        "The proposed approach is to go with **tree based model** which will be suitable for the large number of categorical variables that are present in the dataset."
      ]
    },
    {
      "cell_type": "markdown",
      "metadata": {
        "id": "9QChd6qtR5_m"
      },
      "source": [
        "date_recorded feature only varies within the range of 2011 - 2013,except for 4 instances of  the year 2004.\\\n",
        "**Removing date_recorded** for the base model."
      ]
    },
    {
      "cell_type": "code",
      "metadata": {
        "id": "rjDwoRghWT5Q",
        "colab": {
          "base_uri": "https://localhost:8080/",
          "height": 282
        },
        "outputId": "aceba4a3-f878-4569-b35f-c3a2e4d216cf"
      },
      "source": [
        "    plt.hist(train_df['gps_height'])\n",
        "    plt.xlabel('gps_height')\n",
        "    plt. show()"
      ],
      "execution_count": 139,
      "outputs": [
        {
          "output_type": "display_data",
          "data": {
            "text/plain": [
              "<Figure size 432x288 with 1 Axes>"
            ],
            "image/png": "[encoded data removed]"
          },
          "metadata": {
            "needs_background": "light"
          }
        }
      ]
    },
    {
      "cell_type": "markdown",
      "metadata": {
        "id": "56EJAQqwZqYs"
      },
      "source": [
        "**Removing** **gps_height** for the base model."
      ]
    },
    {
      "cell_type": "code",
      "metadata": {
        "id": "5U9mk9ij69fT"
      },
      "source": [
        "train_df = train_df.dropna(axis=0, subset=['permit'])\n",
        "train_df = train_df.dropna(axis=0, subset=['public_meeting'])"
      ],
      "execution_count": 140,
      "outputs": []
    },
    {
      "cell_type": "markdown",
      "metadata": {
        "id": "ZdFTcXGaNWqB"
      },
      "source": [
        "Both features **permit** and public_meeting have skewed distribution and also there is significant number of missing values in the test data.\\\n",
        "Thereby,**dropping permit and public_meeting**."
      ]
    },
    {
      "cell_type": "markdown",
      "metadata": {
        "id": "AXGavnHwb7yg"
      },
      "source": [
        "Removing **subvillage** for base model."
      ]
    },
    {
      "cell_type": "code",
      "metadata": {
        "id": "a_dxStigiyHm"
      },
      "source": [
        "train_set1 = train_df.drop(['installer','subvillage','permit','public_meeting','id','gps_height','date_recorded','num_private','population','construction_year','amount_tsh','latitude','longitude','region_code','district_code','funder','wpt_name','scheme_management','management_group','extraction_type_group','extraction_type_class','recorded_by','scheme_name','payment','source_class','quality_group','source_type','quantity','waterpoint_type_group'],axis = 1)"
      ],
      "execution_count": 141,
      "outputs": []
    },
    {
      "cell_type": "code",
      "source": [
        "train_set1"
      ],
      "metadata": {
        "colab": {
          "base_uri": "https://localhost:8080/",
          "height": 661
        },
        "id": "7z0tuKra0c4d",
        "outputId": "0ae02684-fb9b-4ad4-e587-52929d9086dc"
      },
      "execution_count": 142,
      "outputs": [
        {
          "output_type": "execute_result",
          "data": {
            "text/plain": [
              "                 basin       region           lga               ward  \\\n",
              "0              Pangani  Kilimanjaro           Hai  Machame Kaskazini   \n",
              "1           Lake Nyasa       Iringa        Ludewa              Luana   \n",
              "2              Pangani       Arusha  Arusha Rural           Kimnyaki   \n",
              "3               Rufiji        Mbeya   Mbeya Rural             Inyala   \n",
              "4              Pangani  Kilimanjaro        Mwanga        Shinghatini   \n",
              "...                ...          ...           ...                ...   \n",
              "44543           Rufiji     Morogoro     Kilombero            Ifakara   \n",
              "44545  Lake Tanganyika    Shinyanga        Kahama             Segese   \n",
              "44546    Lake Victoria       Kagera         Chato            Katende   \n",
              "44548          Pangani  Kilimanjaro          Same               Suji   \n",
              "44549  Lake Tanganyika       Tabora         Nzega             Karitu   \n",
              "\n",
              "      extraction_type        management payment_type water_quality  \\\n",
              "0             gravity       water board   per bucket          soft   \n",
              "1             gravity  private operator    never pay          soft   \n",
              "2             gravity               vwc    never pay          soft   \n",
              "3             gravity               wug     annually          soft   \n",
              "4             gravity               vwc      monthly          soft   \n",
              "...               ...               ...          ...           ...   \n",
              "44543     submersible               vwc    never pay          soft   \n",
              "44545     nira/tanira               wug      unknown         milky   \n",
              "44546         afridev               wua      monthly          soft   \n",
              "44548         gravity               vwc      monthly          soft   \n",
              "44549     nira/tanira               vwc   on failure          soft   \n",
              "\n",
              "      quantity_group        source     waterpoint_type    status_group  \n",
              "0             enough        spring  communal standpipe      functional  \n",
              "1             enough        spring  communal standpipe      functional  \n",
              "2       insufficient        spring  communal standpipe  non functional  \n",
              "3       insufficient         river  communal standpipe      functional  \n",
              "4       insufficient        spring  communal standpipe      functional  \n",
              "...              ...           ...                 ...             ...  \n",
              "44543   insufficient   machine dbh  communal standpipe  non functional  \n",
              "44545         enough  shallow well           hand pump      functional  \n",
              "44546         enough      hand dtw           hand pump  non functional  \n",
              "44548   insufficient        spring  communal standpipe      functional  \n",
              "44549         enough  shallow well           hand pump      functional  \n",
              "\n",
              "[39934 rows x 12 columns]"
            ],
            "text/html": [
              "\n",
              "  <div id=\"df-68561703-94b3-460a-84b3-9dc335a77951\">\n",
              "    <div class=\"colab-df-container\">\n",
              "      <div>\n",
              "<style scoped>\n",
              "    .dataframe tbody tr th:only-of-type {\n",
              "        vertical-align: middle;\n",
              "    }\n",
              "\n",
              "    .dataframe tbody tr th {\n",
              "        vertical-align: top;\n",
              "    }\n",
              "\n",
              "    .dataframe thead th {\n",
              "        text-align: right;\n",
              "    }\n",
              "</style>\n",
              "<table border=\"1\" class=\"dataframe\">\n",
              "  <thead>\n",
              "    <tr style=\"text-align: right;\">\n",
              "      <th></th>\n",
              "      <th>basin</th>\n",
              "      <th>region</th>\n",
              "      <th>lga</th>\n",
              "      <th>ward</th>\n",
              "      <th>extraction_type</th>\n",
              "      <th>management</th>\n",
              "      <th>payment_type</th>\n",
              "      <th>water_quality</th>\n",
              "      <th>quantity_group</th>\n",
              "      <th>source</th>\n",
              "      <th>waterpoint_type</th>\n",
              "      <th>status_group</th>\n",
              "    </tr>\n",
              "  </thead>\n",
              "  <tbody>\n",
              "    <tr>\n",
              "      <th>0</th>\n",
              "      <td>Pangani</td>\n",
              "      <td>Kilimanjaro</td>\n",
              "      <td>Hai</td>\n",
              "      <td>Machame Kaskazini</td>\n",
              "      <td>gravity</td>\n",
              "      <td>water board</td>\n",
              "      <td>per bucket</td>\n",
              "      <td>soft</td>\n",
              "      <td>enough</td>\n",
              "      <td>spring</td>\n",
              "      <td>communal standpipe</td>\n",
              "      <td>functional</td>\n",
              "    </tr>\n",
              "    <tr>\n",
              "      <th>1</th>\n",
              "      <td>Lake Nyasa</td>\n",
              "      <td>Iringa</td>\n",
              "      <td>Ludewa</td>\n",
              "      <td>Luana</td>\n",
              "      <td>gravity</td>\n",
              "      <td>private operator</td>\n",
              "      <td>never pay</td>\n",
              "      <td>soft</td>\n",
              "      <td>enough</td>\n",
              "      <td>spring</td>\n",
              "      <td>communal standpipe</td>\n",
              "      <td>functional</td>\n",
              "    </tr>\n",
              "    <tr>\n",
              "      <th>2</th>\n",
              "      <td>Pangani</td>\n",
              "      <td>Arusha</td>\n",
              "      <td>Arusha Rural</td>\n",
              "      <td>Kimnyaki</td>\n",
              "      <td>gravity</td>\n",
              "      <td>vwc</td>\n",
              "      <td>never pay</td>\n",
              "      <td>soft</td>\n",
              "      <td>insufficient</td>\n",
              "      <td>spring</td>\n",
              "      <td>communal standpipe</td>\n",
              "      <td>non functional</td>\n",
              "    </tr>\n",
              "    <tr>\n",
              "      <th>3</th>\n",
              "      <td>Rufiji</td>\n",
              "      <td>Mbeya</td>\n",
              "      <td>Mbeya Rural</td>\n",
              "      <td>Inyala</td>\n",
              "      <td>gravity</td>\n",
              "      <td>wug</td>\n",
              "      <td>annually</td>\n",
              "      <td>soft</td>\n",
              "      <td>insufficient</td>\n",
              "      <td>river</td>\n",
              "      <td>communal standpipe</td>\n",
              "      <td>functional</td>\n",
              "    </tr>\n",
              "    <tr>\n",
              "      <th>4</th>\n",
              "      <td>Pangani</td>\n",
              "      <td>Kilimanjaro</td>\n",
              "      <td>Mwanga</td>\n",
              "      <td>Shinghatini</td>\n",
              "      <td>gravity</td>\n",
              "      <td>vwc</td>\n",
              "      <td>monthly</td>\n",
              "      <td>soft</td>\n",
              "      <td>insufficient</td>\n",
              "      <td>spring</td>\n",
              "      <td>communal standpipe</td>\n",
              "      <td>functional</td>\n",
              "    </tr>\n",
              "    <tr>\n",
              "      <th>...</th>\n",
              "      <td>...</td>\n",
              "      <td>...</td>\n",
              "      <td>...</td>\n",
              "      <td>...</td>\n",
              "      <td>...</td>\n",
              "      <td>...</td>\n",
              "      <td>...</td>\n",
              "      <td>...</td>\n",
              "      <td>...</td>\n",
              "      <td>...</td>\n",
              "      <td>...</td>\n",
              "      <td>...</td>\n",
              "    </tr>\n",
              "    <tr>\n",
              "      <th>44543</th>\n",
              "      <td>Rufiji</td>\n",
              "      <td>Morogoro</td>\n",
              "      <td>Kilombero</td>\n",
              "      <td>Ifakara</td>\n",
              "      <td>submersible</td>\n",
              "      <td>vwc</td>\n",
              "      <td>never pay</td>\n",
              "      <td>soft</td>\n",
              "      <td>insufficient</td>\n",
              "      <td>machine dbh</td>\n",
              "      <td>communal standpipe</td>\n",
              "      <td>non functional</td>\n",
              "    </tr>\n",
              "    <tr>\n",
              "      <th>44545</th>\n",
              "      <td>Lake Tanganyika</td>\n",
              "      <td>Shinyanga</td>\n",
              "      <td>Kahama</td>\n",
              "      <td>Segese</td>\n",
              "      <td>nira/tanira</td>\n",
              "      <td>wug</td>\n",
              "      <td>unknown</td>\n",
              "      <td>milky</td>\n",
              "      <td>enough</td>\n",
              "      <td>shallow well</td>\n",
              "      <td>hand pump</td>\n",
              "      <td>functional</td>\n",
              "    </tr>\n",
              "    <tr>\n",
              "      <th>44546</th>\n",
              "      <td>Lake Victoria</td>\n",
              "      <td>Kagera</td>\n",
              "      <td>Chato</td>\n",
              "      <td>Katende</td>\n",
              "      <td>afridev</td>\n",
              "      <td>wua</td>\n",
              "      <td>monthly</td>\n",
              "      <td>soft</td>\n",
              "      <td>enough</td>\n",
              "      <td>hand dtw</td>\n",
              "      <td>hand pump</td>\n",
              "      <td>non functional</td>\n",
              "    </tr>\n",
              "    <tr>\n",
              "      <th>44548</th>\n",
              "      <td>Pangani</td>\n",
              "      <td>Kilimanjaro</td>\n",
              "      <td>Same</td>\n",
              "      <td>Suji</td>\n",
              "      <td>gravity</td>\n",
              "      <td>vwc</td>\n",
              "      <td>monthly</td>\n",
              "      <td>soft</td>\n",
              "      <td>insufficient</td>\n",
              "      <td>spring</td>\n",
              "      <td>communal standpipe</td>\n",
              "      <td>functional</td>\n",
              "    </tr>\n",
              "    <tr>\n",
              "      <th>44549</th>\n",
              "      <td>Lake Tanganyika</td>\n",
              "      <td>Tabora</td>\n",
              "      <td>Nzega</td>\n",
              "      <td>Karitu</td>\n",
              "      <td>nira/tanira</td>\n",
              "      <td>vwc</td>\n",
              "      <td>on failure</td>\n",
              "      <td>soft</td>\n",
              "      <td>enough</td>\n",
              "      <td>shallow well</td>\n",
              "      <td>hand pump</td>\n",
              "      <td>functional</td>\n",
              "    </tr>\n",
              "  </tbody>\n",
              "</table>\n",
              "<p>39934 rows × 12 columns</p>\n",
              "</div>\n",
              "      <button class=\"colab-df-convert\" onclick=\"convertToInteractive('df-68561703-94b3-460a-84b3-9dc335a77951')\"\n",
              "              title=\"Convert this dataframe to an interactive table.\"\n",
              "              style=\"display:none;\">\n",
              "        \n",
              "  <svg xmlns=\"http://www.w3.org/2000/svg\" height=\"24px\"viewBox=\"0 0 24 24\"\n",
              "       width=\"24px\">\n",
              "    <path d=\"M0 0h24v24H0V0z\" fill=\"none\"/>\n",
              "    <path d=\"M18.56 5.44l.94 2.06.94-2.06 2.06-.94-2.06-.94-.94-2.06-.94 2.06-2.06.94zm-11 1L8.5 8.5l.94-2.06 2.06-.94-2.06-.94L8.5 2.5l-.94 2.06-2.06.94zm10 10l.94 2.06.94-2.06 2.06-.94-2.06-.94-.94-2.06-.94 2.06-2.06.94z\"/><path d=\"M17.41 7.96l-1.37-1.37c-.4-.4-.92-.59-1.43-.59-.52 0-1.04.2-1.43.59L10.3 9.45l-7.72 7.72c-.78.78-.78 2.05 0 2.83L4 21.41c.39.39.9.59 1.41.59.51 0 1.02-.2 1.41-.59l7.78-7.78 2.81-2.81c.8-.78.8-2.07 0-2.86zM5.41 20L4 18.59l7.72-7.72 1.47 1.35L5.41 20z\"/>\n",
              "  </svg>\n",
              "      </button>\n",
              "      \n",
              "  <style>\n",
              "    .colab-df-container {\n",
              "      display:flex;\n",
              "      flex-wrap:wrap;\n",
              "      gap: 12px;\n",
              "    }\n",
              "\n",
              "    .colab-df-convert {\n",
              "      background-color: #E8F0FE;\n",
              "      border: none;\n",
              "      border-radius: 50%;\n",
              "      cursor: pointer;\n",
              "      display: none;\n",
              "      fill: #1967D2;\n",
              "      height: 32px;\n",
              "      padding: 0 0 0 0;\n",
              "      width: 32px;\n",
              "    }\n",
              "\n",
              "    .colab-df-convert:hover {\n",
              "      background-color: #E2EBFA;\n",
              "      box-shadow: 0px 1px 2px rgba(60, 64, 67, 0.3), 0px 1px 3px 1px rgba(60, 64, 67, 0.15);\n",
              "      fill: #174EA6;\n",
              "    }\n",
              "\n",
              "    [theme=dark] .colab-df-convert {\n",
              "      background-color: #3B4455;\n",
              "      fill: #D2E3FC;\n",
              "    }\n",
              "\n",
              "    [theme=dark] .colab-df-convert:hover {\n",
              "      background-color: #434B5C;\n",
              "      box-shadow: 0px 1px 3px 1px rgba(0, 0, 0, 0.15);\n",
              "      filter: drop-shadow(0px 1px 2px rgba(0, 0, 0, 0.3));\n",
              "      fill: #FFFFFF;\n",
              "    }\n",
              "  </style>\n",
              "\n",
              "      <script>\n",
              "        const buttonEl =\n",
              "          document.querySelector('#df-68561703-94b3-460a-84b3-9dc335a77951 button.colab-df-convert');\n",
              "        buttonEl.style.display =\n",
              "          google.colab.kernel.accessAllowed ? 'block' : 'none';\n",
              "\n",
              "        async function convertToInteractive(key) {\n",
              "          const element = document.querySelector('#df-68561703-94b3-460a-84b3-9dc335a77951');\n",
              "          const dataTable =\n",
              "            await google.colab.kernel.invokeFunction('convertToInteractive',\n",
              "                                                     [key], {});\n",
              "          if (!dataTable) return;\n",
              "\n",
              "          const docLinkHtml = 'Like what you see? Visit the ' +\n",
              "            '<a target=\"_blank\" href=https://colab.research.google.com/notebooks/data_table.ipynb>data table notebook</a>'\n",
              "            + ' to learn more about interactive tables.';\n",
              "          element.innerHTML = '';\n",
              "          dataTable['output_type'] = 'display_data';\n",
              "          await google.colab.output.renderOutput(dataTable, element);\n",
              "          const docLink = document.createElement('div');\n",
              "          docLink.innerHTML = docLinkHtml;\n",
              "          element.appendChild(docLink);\n",
              "        }\n",
              "      </script>\n",
              "    </div>\n",
              "  </div>\n",
              "  "
            ]
          },
          "metadata": {},
          "execution_count": 142
        }
      ]
    },
    {
      "cell_type": "code",
      "metadata": {
        "id": "p3tDBA8AGpPb"
      },
      "source": [
        "test_set1 = test_df.drop(['installer','subvillage','permit','public_meeting','id','gps_height','date_recorded','num_private','population','construction_year','amount_tsh','latitude','longitude','region_code','district_code','funder','wpt_name','scheme_management','management_group','extraction_type_group','extraction_type_class','recorded_by','scheme_name','payment','source_class','quality_group','source_type','quantity','waterpoint_type_group'],axis = 1)"
      ],
      "execution_count": 143,
      "outputs": []
    },
    {
      "cell_type": "markdown",
      "metadata": {
        "id": "wYn-5XQturuI"
      },
      "source": [
        "**Dealing with Missing Values :**"
      ]
    },
    {
      "cell_type": "code",
      "metadata": {
        "id": "v8BpD2GMZ-Dx",
        "colab": {
          "base_uri": "https://localhost:8080/"
        },
        "outputId": "d8d3e176-6536-4254-9a54-899bc86fe109"
      },
      "source": [
        "#to print TYPE of feature,NUMBER of UNIQUE VALUES and NUMBER of NULL ENTRIES\n",
        "\n",
        "for col in train_set1.columns.values :\n",
        "  list_vals = pd.unique(train_df[col])\n",
        "  print(col + ' is of type ' + str(train_set1[col].dtypes) + ' ,has ' + str(len(list_vals)) + ' unique values, and ' + str(train_set1[col].isnull().sum()) + ' null entries ')\n",
        "  if len(list_vals) < 11: #if the number of uniqe values is less than 10 then print them\n",
        "    list_str = ''\n",
        "    for n_value in range(len(list_vals)):\n",
        "      list_str += str(list_vals[n_value]) + ','\n",
        "    print('These are:',list_str)"
      ],
      "execution_count": 144,
      "outputs": [
        {
          "output_type": "stream",
          "name": "stdout",
          "text": [
            "basin is of type object ,has 9 unique values, and 0 null entries \n",
            "These are: Pangani,Lake Nyasa,Rufiji,Lake Tanganyika,Lake Victoria,Wami / Ruvu,Internal,Ruvuma / Southern Coast,Lake Rukwa,\n",
            "region is of type object ,has 21 unique values, and 0 null entries \n",
            "lga is of type object ,has 122 unique values, and 0 null entries \n",
            "ward is of type object ,has 1964 unique values, and 0 null entries \n",
            "extraction_type is of type object ,has 18 unique values, and 0 null entries \n",
            "management is of type object ,has 12 unique values, and 0 null entries \n",
            "payment_type is of type object ,has 7 unique values, and 0 null entries \n",
            "These are: per bucket,never pay,annually,monthly,unknown,on failure,other,\n",
            "water_quality is of type object ,has 8 unique values, and 0 null entries \n",
            "These are: soft,salty abandoned,unknown,salty,fluoride,milky,coloured,fluoride abandoned,\n",
            "quantity_group is of type object ,has 5 unique values, and 0 null entries \n",
            "These are: enough,insufficient,dry,seasonal,unknown,\n",
            "source is of type object ,has 10 unique values, and 0 null entries \n",
            "These are: spring,river,shallow well,machine dbh,rainwater harvesting,hand dtw,lake,dam,other,unknown,\n",
            "waterpoint_type is of type object ,has 7 unique values, and 0 null entries \n",
            "These are: communal standpipe,hand pump,other,communal standpipe multiple,improved spring,cattle trough,dam,\n",
            "status_group is of type object ,has 3 unique values, and 0 null entries \n",
            "These are: functional,non functional,functional needs repair,\n"
          ]
        }
      ]
    },
    {
      "cell_type": "code",
      "metadata": {
        "id": "8_D9nXkSZa3O",
        "colab": {
          "base_uri": "https://localhost:8080/",
          "height": 661
        },
        "outputId": "aecdfc70-9d32-47c0-b8a4-e59506ec431a"
      },
      "source": [
        "test_set1"
      ],
      "execution_count": 145,
      "outputs": [
        {
          "output_type": "execute_result",
          "data": {
            "text/plain": [
              "                 basin    region           lga        ward extraction_type  \\\n",
              "0               Rufiji    Iringa  Iringa Rural        Wasa         gravity   \n",
              "1          Wami / Ruvu    Dodoma        Kondoa    Chandama            mono   \n",
              "2               Rufiji    Dodoma       Mpwapwa       Ipera     nira/tanira   \n",
              "3        Lake Victoria    Kagera        Muleba  Kyebitembe           other   \n",
              "4        Lake Victoria    Kagera  Bukoba Rural     Nyakato         gravity   \n",
              "...                ...       ...           ...         ...             ...   \n",
              "14845       Lake Nyasa    Iringa        Ludewa    Mlangali         gravity   \n",
              "14846           Rufiji  Morogoro     Kilombero      Lumemo     nira/tanira   \n",
              "14847  Lake Tanganyika    Tabora          Uyui      Magiri           other   \n",
              "14848  Lake Tanganyika    Kigoma       Kibondo   Rugongowe         gravity   \n",
              "14849      Wami / Ruvu     Pwani      Mkuranga     Vikindu     submersible   \n",
              "\n",
              "      management payment_type water_quality quantity_group  \\\n",
              "0            vwc    never pay          soft            dry   \n",
              "1            vwc    never pay          soft         enough   \n",
              "2            vwc    never pay          soft         enough   \n",
              "3            vwc    never pay          soft         enough   \n",
              "4            vwc    never pay          soft   insufficient   \n",
              "...          ...          ...           ...            ...   \n",
              "14845        vwc     annually          soft       seasonal   \n",
              "14846        vwc    never pay          soft   insufficient   \n",
              "14847        vwc    never pay          soft            dry   \n",
              "14848        vwc      unknown          soft         enough   \n",
              "14849        vwc   per bucket          soft         enough   \n",
              "\n",
              "                     source              waterpoint_type  \n",
              "0                    spring           communal standpipe  \n",
              "1               machine dbh           communal standpipe  \n",
              "2              shallow well                    hand pump  \n",
              "3              shallow well                    hand pump  \n",
              "4      rainwater harvesting           communal standpipe  \n",
              "...                     ...                          ...  \n",
              "14845                spring           communal standpipe  \n",
              "14846          shallow well                    hand pump  \n",
              "14847                spring  communal standpipe multiple  \n",
              "14848                spring  communal standpipe multiple  \n",
              "14849           machine dbh           communal standpipe  \n",
              "\n",
              "[14850 rows x 11 columns]"
            ],
            "text/html": [
              "\n",
              "  <div id=\"df-7e4db5d2-75ae-4f26-8976-ab4a146f5ef5\">\n",
              "    <div class=\"colab-df-container\">\n",
              "      <div>\n",
              "<style scoped>\n",
              "    .dataframe tbody tr th:only-of-type {\n",
              "        vertical-align: middle;\n",
              "    }\n",
              "\n",
              "    .dataframe tbody tr th {\n",
              "        vertical-align: top;\n",
              "    }\n",
              "\n",
              "    .dataframe thead th {\n",
              "        text-align: right;\n",
              "    }\n",
              "</style>\n",
              "<table border=\"1\" class=\"dataframe\">\n",
              "  <thead>\n",
              "    <tr style=\"text-align: right;\">\n",
              "      <th></th>\n",
              "      <th>basin</th>\n",
              "      <th>region</th>\n",
              "      <th>lga</th>\n",
              "      <th>ward</th>\n",
              "      <th>extraction_type</th>\n",
              "      <th>management</th>\n",
              "      <th>payment_type</th>\n",
              "      <th>water_quality</th>\n",
              "      <th>quantity_group</th>\n",
              "      <th>source</th>\n",
              "      <th>waterpoint_type</th>\n",
              "    </tr>\n",
              "  </thead>\n",
              "  <tbody>\n",
              "    <tr>\n",
              "      <th>0</th>\n",
              "      <td>Rufiji</td>\n",
              "      <td>Iringa</td>\n",
              "      <td>Iringa Rural</td>\n",
              "      <td>Wasa</td>\n",
              "      <td>gravity</td>\n",
              "      <td>vwc</td>\n",
              "      <td>never pay</td>\n",
              "      <td>soft</td>\n",
              "      <td>dry</td>\n",
              "      <td>spring</td>\n",
              "      <td>communal standpipe</td>\n",
              "    </tr>\n",
              "    <tr>\n",
              "      <th>1</th>\n",
              "      <td>Wami / Ruvu</td>\n",
              "      <td>Dodoma</td>\n",
              "      <td>Kondoa</td>\n",
              "      <td>Chandama</td>\n",
              "      <td>mono</td>\n",
              "      <td>vwc</td>\n",
              "      <td>never pay</td>\n",
              "      <td>soft</td>\n",
              "      <td>enough</td>\n",
              "      <td>machine dbh</td>\n",
              "      <td>communal standpipe</td>\n",
              "    </tr>\n",
              "    <tr>\n",
              "      <th>2</th>\n",
              "      <td>Rufiji</td>\n",
              "      <td>Dodoma</td>\n",
              "      <td>Mpwapwa</td>\n",
              "      <td>Ipera</td>\n",
              "      <td>nira/tanira</td>\n",
              "      <td>vwc</td>\n",
              "      <td>never pay</td>\n",
              "      <td>soft</td>\n",
              "      <td>enough</td>\n",
              "      <td>shallow well</td>\n",
              "      <td>hand pump</td>\n",
              "    </tr>\n",
              "    <tr>\n",
              "      <th>3</th>\n",
              "      <td>Lake Victoria</td>\n",
              "      <td>Kagera</td>\n",
              "      <td>Muleba</td>\n",
              "      <td>Kyebitembe</td>\n",
              "      <td>other</td>\n",
              "      <td>vwc</td>\n",
              "      <td>never pay</td>\n",
              "      <td>soft</td>\n",
              "      <td>enough</td>\n",
              "      <td>shallow well</td>\n",
              "      <td>hand pump</td>\n",
              "    </tr>\n",
              "    <tr>\n",
              "      <th>4</th>\n",
              "      <td>Lake Victoria</td>\n",
              "      <td>Kagera</td>\n",
              "      <td>Bukoba Rural</td>\n",
              "      <td>Nyakato</td>\n",
              "      <td>gravity</td>\n",
              "      <td>vwc</td>\n",
              "      <td>never pay</td>\n",
              "      <td>soft</td>\n",
              "      <td>insufficient</td>\n",
              "      <td>rainwater harvesting</td>\n",
              "      <td>communal standpipe</td>\n",
              "    </tr>\n",
              "    <tr>\n",
              "      <th>...</th>\n",
              "      <td>...</td>\n",
              "      <td>...</td>\n",
              "      <td>...</td>\n",
              "      <td>...</td>\n",
              "      <td>...</td>\n",
              "      <td>...</td>\n",
              "      <td>...</td>\n",
              "      <td>...</td>\n",
              "      <td>...</td>\n",
              "      <td>...</td>\n",
              "      <td>...</td>\n",
              "    </tr>\n",
              "    <tr>\n",
              "      <th>14845</th>\n",
              "      <td>Lake Nyasa</td>\n",
              "      <td>Iringa</td>\n",
              "      <td>Ludewa</td>\n",
              "      <td>Mlangali</td>\n",
              "      <td>gravity</td>\n",
              "      <td>vwc</td>\n",
              "      <td>annually</td>\n",
              "      <td>soft</td>\n",
              "      <td>seasonal</td>\n",
              "      <td>spring</td>\n",
              "      <td>communal standpipe</td>\n",
              "    </tr>\n",
              "    <tr>\n",
              "      <th>14846</th>\n",
              "      <td>Rufiji</td>\n",
              "      <td>Morogoro</td>\n",
              "      <td>Kilombero</td>\n",
              "      <td>Lumemo</td>\n",
              "      <td>nira/tanira</td>\n",
              "      <td>vwc</td>\n",
              "      <td>never pay</td>\n",
              "      <td>soft</td>\n",
              "      <td>insufficient</td>\n",
              "      <td>shallow well</td>\n",
              "      <td>hand pump</td>\n",
              "    </tr>\n",
              "    <tr>\n",
              "      <th>14847</th>\n",
              "      <td>Lake Tanganyika</td>\n",
              "      <td>Tabora</td>\n",
              "      <td>Uyui</td>\n",
              "      <td>Magiri</td>\n",
              "      <td>other</td>\n",
              "      <td>vwc</td>\n",
              "      <td>never pay</td>\n",
              "      <td>soft</td>\n",
              "      <td>dry</td>\n",
              "      <td>spring</td>\n",
              "      <td>communal standpipe multiple</td>\n",
              "    </tr>\n",
              "    <tr>\n",
              "      <th>14848</th>\n",
              "      <td>Lake Tanganyika</td>\n",
              "      <td>Kigoma</td>\n",
              "      <td>Kibondo</td>\n",
              "      <td>Rugongowe</td>\n",
              "      <td>gravity</td>\n",
              "      <td>vwc</td>\n",
              "      <td>unknown</td>\n",
              "      <td>soft</td>\n",
              "      <td>enough</td>\n",
              "      <td>spring</td>\n",
              "      <td>communal standpipe multiple</td>\n",
              "    </tr>\n",
              "    <tr>\n",
              "      <th>14849</th>\n",
              "      <td>Wami / Ruvu</td>\n",
              "      <td>Pwani</td>\n",
              "      <td>Mkuranga</td>\n",
              "      <td>Vikindu</td>\n",
              "      <td>submersible</td>\n",
              "      <td>vwc</td>\n",
              "      <td>per bucket</td>\n",
              "      <td>soft</td>\n",
              "      <td>enough</td>\n",
              "      <td>machine dbh</td>\n",
              "      <td>communal standpipe</td>\n",
              "    </tr>\n",
              "  </tbody>\n",
              "</table>\n",
              "<p>14850 rows × 11 columns</p>\n",
              "</div>\n",
              "      <button class=\"colab-df-convert\" onclick=\"convertToInteractive('df-7e4db5d2-75ae-4f26-8976-ab4a146f5ef5')\"\n",
              "              title=\"Convert this dataframe to an interactive table.\"\n",
              "              style=\"display:none;\">\n",
              "        \n",
              "  <svg xmlns=\"http://www.w3.org/2000/svg\" height=\"24px\"viewBox=\"0 0 24 24\"\n",
              "       width=\"24px\">\n",
              "    <path d=\"M0 0h24v24H0V0z\" fill=\"none\"/>\n",
              "    <path d=\"M18.56 5.44l.94 2.06.94-2.06 2.06-.94-2.06-.94-.94-2.06-.94 2.06-2.06.94zm-11 1L8.5 8.5l.94-2.06 2.06-.94-2.06-.94L8.5 2.5l-.94 2.06-2.06.94zm10 10l.94 2.06.94-2.06 2.06-.94-2.06-.94-.94-2.06-.94 2.06-2.06.94z\"/><path d=\"M17.41 7.96l-1.37-1.37c-.4-.4-.92-.59-1.43-.59-.52 0-1.04.2-1.43.59L10.3 9.45l-7.72 7.72c-.78.78-.78 2.05 0 2.83L4 21.41c.39.39.9.59 1.41.59.51 0 1.02-.2 1.41-.59l7.78-7.78 2.81-2.81c.8-.78.8-2.07 0-2.86zM5.41 20L4 18.59l7.72-7.72 1.47 1.35L5.41 20z\"/>\n",
              "  </svg>\n",
              "      </button>\n",
              "      \n",
              "  <style>\n",
              "    .colab-df-container {\n",
              "      display:flex;\n",
              "      flex-wrap:wrap;\n",
              "      gap: 12px;\n",
              "    }\n",
              "\n",
              "    .colab-df-convert {\n",
              "      background-color: #E8F0FE;\n",
              "      border: none;\n",
              "      border-radius: 50%;\n",
              "      cursor: pointer;\n",
              "      display: none;\n",
              "      fill: #1967D2;\n",
              "      height: 32px;\n",
              "      padding: 0 0 0 0;\n",
              "      width: 32px;\n",
              "    }\n",
              "\n",
              "    .colab-df-convert:hover {\n",
              "      background-color: #E2EBFA;\n",
              "      box-shadow: 0px 1px 2px rgba(60, 64, 67, 0.3), 0px 1px 3px 1px rgba(60, 64, 67, 0.15);\n",
              "      fill: #174EA6;\n",
              "    }\n",
              "\n",
              "    [theme=dark] .colab-df-convert {\n",
              "      background-color: #3B4455;\n",
              "      fill: #D2E3FC;\n",
              "    }\n",
              "\n",
              "    [theme=dark] .colab-df-convert:hover {\n",
              "      background-color: #434B5C;\n",
              "      box-shadow: 0px 1px 3px 1px rgba(0, 0, 0, 0.15);\n",
              "      filter: drop-shadow(0px 1px 2px rgba(0, 0, 0, 0.3));\n",
              "      fill: #FFFFFF;\n",
              "    }\n",
              "  </style>\n",
              "\n",
              "      <script>\n",
              "        const buttonEl =\n",
              "          document.querySelector('#df-7e4db5d2-75ae-4f26-8976-ab4a146f5ef5 button.colab-df-convert');\n",
              "        buttonEl.style.display =\n",
              "          google.colab.kernel.accessAllowed ? 'block' : 'none';\n",
              "\n",
              "        async function convertToInteractive(key) {\n",
              "          const element = document.querySelector('#df-7e4db5d2-75ae-4f26-8976-ab4a146f5ef5');\n",
              "          const dataTable =\n",
              "            await google.colab.kernel.invokeFunction('convertToInteractive',\n",
              "                                                     [key], {});\n",
              "          if (!dataTable) return;\n",
              "\n",
              "          const docLinkHtml = 'Like what you see? Visit the ' +\n",
              "            '<a target=\"_blank\" href=https://colab.research.google.com/notebooks/data_table.ipynb>data table notebook</a>'\n",
              "            + ' to learn more about interactive tables.';\n",
              "          element.innerHTML = '';\n",
              "          dataTable['output_type'] = 'display_data';\n",
              "          await google.colab.output.renderOutput(dataTable, element);\n",
              "          const docLink = document.createElement('div');\n",
              "          docLink.innerHTML = docLinkHtml;\n",
              "          element.appendChild(docLink);\n",
              "        }\n",
              "      </script>\n",
              "    </div>\n",
              "  </div>\n",
              "  "
            ]
          },
          "metadata": {},
          "execution_count": 145
        }
      ]
    },
    {
      "cell_type": "code",
      "metadata": {
        "id": "gBCnLqmDf9On",
        "colab": {
          "base_uri": "https://localhost:8080/"
        },
        "outputId": "a1d98417-a2df-4ff6-848b-86a9ef1287d7"
      },
      "source": [
        "for col in test_set1.columns.values :\n",
        "  list_vals = pd.unique(test_df[col])\n",
        "  print(col + ' is of type ' + str(test_set1[col].dtypes) + ' ,has ' + str(len(list_vals)) + ' unique values, and ' + str(test_set1[col].isnull().sum()) + ' null entries ')\n",
        "  if len(list_vals) < 11: #if the number of uniqe values is less than 10 then print them\n",
        "    list_str = ''\n",
        "    for n_value in range(len(list_vals)):\n",
        "      list_str += str(list_vals[n_value]) + ','\n",
        "    print('These are:',list_str)"
      ],
      "execution_count": 146,
      "outputs": [
        {
          "output_type": "stream",
          "name": "stdout",
          "text": [
            "basin is of type object ,has 9 unique values, and 0 null entries \n",
            "These are: Rufiji,Wami / Ruvu,Lake Victoria,Lake Tanganyika,Internal,Ruvuma / Southern Coast,Pangani,Lake Nyasa,Lake Rukwa,\n",
            "region is of type object ,has 21 unique values, and 0 null entries \n",
            "lga is of type object ,has 124 unique values, and 0 null entries \n",
            "ward is of type object ,has 1942 unique values, and 0 null entries \n",
            "extraction_type is of type object ,has 17 unique values, and 0 null entries \n",
            "management is of type object ,has 12 unique values, and 0 null entries \n",
            "payment_type is of type object ,has 7 unique values, and 0 null entries \n",
            "These are: never pay,on failure,per bucket,unknown,other,monthly,annually,\n",
            "water_quality is of type object ,has 8 unique values, and 0 null entries \n",
            "These are: soft,salty,coloured,milky,unknown,salty abandoned,fluoride,fluoride abandoned,\n",
            "quantity_group is of type object ,has 5 unique values, and 0 null entries \n",
            "These are: dry,enough,insufficient,seasonal,unknown,\n",
            "source is of type object ,has 10 unique values, and 0 null entries \n",
            "These are: spring,machine dbh,shallow well,rainwater harvesting,hand dtw,river,dam,lake,other,unknown,\n",
            "waterpoint_type is of type object ,has 7 unique values, and 0 null entries \n",
            "These are: communal standpipe,hand pump,other,communal standpipe multiple,improved spring,cattle trough,dam,\n"
          ]
        }
      ]
    },
    {
      "cell_type": "markdown",
      "metadata": {
        "id": "QiT1QbdD_XeQ"
      },
      "source": [
        "**CATBOOST**"
      ]
    },
    {
      "cell_type": "code",
      "metadata": {
        "id": "6OYqhnUD_a5i",
        "colab": {
          "base_uri": "https://localhost:8080/",
          "height": 661
        },
        "outputId": "c77fadff-d13f-4a96-e0d8-324378894c28"
      },
      "source": [
        "train_set1"
      ],
      "execution_count": 147,
      "outputs": [
        {
          "output_type": "execute_result",
          "data": {
            "text/plain": [
              "                 basin       region           lga               ward  \\\n",
              "0              Pangani  Kilimanjaro           Hai  Machame Kaskazini   \n",
              "1           Lake Nyasa       Iringa        Ludewa              Luana   \n",
              "2              Pangani       Arusha  Arusha Rural           Kimnyaki   \n",
              "3               Rufiji        Mbeya   Mbeya Rural             Inyala   \n",
              "4              Pangani  Kilimanjaro        Mwanga        Shinghatini   \n",
              "...                ...          ...           ...                ...   \n",
              "44543           Rufiji     Morogoro     Kilombero            Ifakara   \n",
              "44545  Lake Tanganyika    Shinyanga        Kahama             Segese   \n",
              "44546    Lake Victoria       Kagera         Chato            Katende   \n",
              "44548          Pangani  Kilimanjaro          Same               Suji   \n",
              "44549  Lake Tanganyika       Tabora         Nzega             Karitu   \n",
              "\n",
              "      extraction_type        management payment_type water_quality  \\\n",
              "0             gravity       water board   per bucket          soft   \n",
              "1             gravity  private operator    never pay          soft   \n",
              "2             gravity               vwc    never pay          soft   \n",
              "3             gravity               wug     annually          soft   \n",
              "4             gravity               vwc      monthly          soft   \n",
              "...               ...               ...          ...           ...   \n",
              "44543     submersible               vwc    never pay          soft   \n",
              "44545     nira/tanira               wug      unknown         milky   \n",
              "44546         afridev               wua      monthly          soft   \n",
              "44548         gravity               vwc      monthly          soft   \n",
              "44549     nira/tanira               vwc   on failure          soft   \n",
              "\n",
              "      quantity_group        source     waterpoint_type    status_group  \n",
              "0             enough        spring  communal standpipe      functional  \n",
              "1             enough        spring  communal standpipe      functional  \n",
              "2       insufficient        spring  communal standpipe  non functional  \n",
              "3       insufficient         river  communal standpipe      functional  \n",
              "4       insufficient        spring  communal standpipe      functional  \n",
              "...              ...           ...                 ...             ...  \n",
              "44543   insufficient   machine dbh  communal standpipe  non functional  \n",
              "44545         enough  shallow well           hand pump      functional  \n",
              "44546         enough      hand dtw           hand pump  non functional  \n",
              "44548   insufficient        spring  communal standpipe      functional  \n",
              "44549         enough  shallow well           hand pump      functional  \n",
              "\n",
              "[39934 rows x 12 columns]"
            ],
            "text/html": [
              "\n",
              "  <div id=\"df-68fc5558-856a-41d3-a3c7-609cfcb15ad8\">\n",
              "    <div class=\"colab-df-container\">\n",
              "      <div>\n",
              "<style scoped>\n",
              "    .dataframe tbody tr th:only-of-type {\n",
              "        vertical-align: middle;\n",
              "    }\n",
              "\n",
              "    .dataframe tbody tr th {\n",
              "        vertical-align: top;\n",
              "    }\n",
              "\n",
              "    .dataframe thead th {\n",
              "        text-align: right;\n",
              "    }\n",
              "</style>\n",
              "<table border=\"1\" class=\"dataframe\">\n",
              "  <thead>\n",
              "    <tr style=\"text-align: right;\">\n",
              "      <th></th>\n",
              "      <th>basin</th>\n",
              "      <th>region</th>\n",
              "      <th>lga</th>\n",
              "      <th>ward</th>\n",
              "      <th>extraction_type</th>\n",
              "      <th>management</th>\n",
              "      <th>payment_type</th>\n",
              "      <th>water_quality</th>\n",
              "      <th>quantity_group</th>\n",
              "      <th>source</th>\n",
              "      <th>waterpoint_type</th>\n",
              "      <th>status_group</th>\n",
              "    </tr>\n",
              "  </thead>\n",
              "  <tbody>\n",
              "    <tr>\n",
              "      <th>0</th>\n",
              "      <td>Pangani</td>\n",
              "      <td>Kilimanjaro</td>\n",
              "      <td>Hai</td>\n",
              "      <td>Machame Kaskazini</td>\n",
              "      <td>gravity</td>\n",
              "      <td>water board</td>\n",
              "      <td>per bucket</td>\n",
              "      <td>soft</td>\n",
              "      <td>enough</td>\n",
              "      <td>spring</td>\n",
              "      <td>communal standpipe</td>\n",
              "      <td>functional</td>\n",
              "    </tr>\n",
              "    <tr>\n",
              "      <th>1</th>\n",
              "      <td>Lake Nyasa</td>\n",
              "      <td>Iringa</td>\n",
              "      <td>Ludewa</td>\n",
              "      <td>Luana</td>\n",
              "      <td>gravity</td>\n",
              "      <td>private operator</td>\n",
              "      <td>never pay</td>\n",
              "      <td>soft</td>\n",
              "      <td>enough</td>\n",
              "      <td>spring</td>\n",
              "      <td>communal standpipe</td>\n",
              "      <td>functional</td>\n",
              "    </tr>\n",
              "    <tr>\n",
              "      <th>2</th>\n",
              "      <td>Pangani</td>\n",
              "      <td>Arusha</td>\n",
              "      <td>Arusha Rural</td>\n",
              "      <td>Kimnyaki</td>\n",
              "      <td>gravity</td>\n",
              "      <td>vwc</td>\n",
              "      <td>never pay</td>\n",
              "      <td>soft</td>\n",
              "      <td>insufficient</td>\n",
              "      <td>spring</td>\n",
              "      <td>communal standpipe</td>\n",
              "      <td>non functional</td>\n",
              "    </tr>\n",
              "    <tr>\n",
              "      <th>3</th>\n",
              "      <td>Rufiji</td>\n",
              "      <td>Mbeya</td>\n",
              "      <td>Mbeya Rural</td>\n",
              "      <td>Inyala</td>\n",
              "      <td>gravity</td>\n",
              "      <td>wug</td>\n",
              "      <td>annually</td>\n",
              "      <td>soft</td>\n",
              "      <td>insufficient</td>\n",
              "      <td>river</td>\n",
              "      <td>communal standpipe</td>\n",
              "      <td>functional</td>\n",
              "    </tr>\n",
              "    <tr>\n",
              "      <th>4</th>\n",
              "      <td>Pangani</td>\n",
              "      <td>Kilimanjaro</td>\n",
              "      <td>Mwanga</td>\n",
              "      <td>Shinghatini</td>\n",
              "      <td>gravity</td>\n",
              "      <td>vwc</td>\n",
              "      <td>monthly</td>\n",
              "      <td>soft</td>\n",
              "      <td>insufficient</td>\n",
              "      <td>spring</td>\n",
              "      <td>communal standpipe</td>\n",
              "      <td>functional</td>\n",
              "    </tr>\n",
              "    <tr>\n",
              "      <th>...</th>\n",
              "      <td>...</td>\n",
              "      <td>...</td>\n",
              "      <td>...</td>\n",
              "      <td>...</td>\n",
              "      <td>...</td>\n",
              "      <td>...</td>\n",
              "      <td>...</td>\n",
              "      <td>...</td>\n",
              "      <td>...</td>\n",
              "      <td>...</td>\n",
              "      <td>...</td>\n",
              "      <td>...</td>\n",
              "    </tr>\n",
              "    <tr>\n",
              "      <th>44543</th>\n",
              "      <td>Rufiji</td>\n",
              "      <td>Morogoro</td>\n",
              "      <td>Kilombero</td>\n",
              "      <td>Ifakara</td>\n",
              "      <td>submersible</td>\n",
              "      <td>vwc</td>\n",
              "      <td>never pay</td>\n",
              "      <td>soft</td>\n",
              "      <td>insufficient</td>\n",
              "      <td>machine dbh</td>\n",
              "      <td>communal standpipe</td>\n",
              "      <td>non functional</td>\n",
              "    </tr>\n",
              "    <tr>\n",
              "      <th>44545</th>\n",
              "      <td>Lake Tanganyika</td>\n",
              "      <td>Shinyanga</td>\n",
              "      <td>Kahama</td>\n",
              "      <td>Segese</td>\n",
              "      <td>nira/tanira</td>\n",
              "      <td>wug</td>\n",
              "      <td>unknown</td>\n",
              "      <td>milky</td>\n",
              "      <td>enough</td>\n",
              "      <td>shallow well</td>\n",
              "      <td>hand pump</td>\n",
              "      <td>functional</td>\n",
              "    </tr>\n",
              "    <tr>\n",
              "      <th>44546</th>\n",
              "      <td>Lake Victoria</td>\n",
              "      <td>Kagera</td>\n",
              "      <td>Chato</td>\n",
              "      <td>Katende</td>\n",
              "      <td>afridev</td>\n",
              "      <td>wua</td>\n",
              "      <td>monthly</td>\n",
              "      <td>soft</td>\n",
              "      <td>enough</td>\n",
              "      <td>hand dtw</td>\n",
              "      <td>hand pump</td>\n",
              "      <td>non functional</td>\n",
              "    </tr>\n",
              "    <tr>\n",
              "      <th>44548</th>\n",
              "      <td>Pangani</td>\n",
              "      <td>Kilimanjaro</td>\n",
              "      <td>Same</td>\n",
              "      <td>Suji</td>\n",
              "      <td>gravity</td>\n",
              "      <td>vwc</td>\n",
              "      <td>monthly</td>\n",
              "      <td>soft</td>\n",
              "      <td>insufficient</td>\n",
              "      <td>spring</td>\n",
              "      <td>communal standpipe</td>\n",
              "      <td>functional</td>\n",
              "    </tr>\n",
              "    <tr>\n",
              "      <th>44549</th>\n",
              "      <td>Lake Tanganyika</td>\n",
              "      <td>Tabora</td>\n",
              "      <td>Nzega</td>\n",
              "      <td>Karitu</td>\n",
              "      <td>nira/tanira</td>\n",
              "      <td>vwc</td>\n",
              "      <td>on failure</td>\n",
              "      <td>soft</td>\n",
              "      <td>enough</td>\n",
              "      <td>shallow well</td>\n",
              "      <td>hand pump</td>\n",
              "      <td>functional</td>\n",
              "    </tr>\n",
              "  </tbody>\n",
              "</table>\n",
              "<p>39934 rows × 12 columns</p>\n",
              "</div>\n",
              "      <button class=\"colab-df-convert\" onclick=\"convertToInteractive('df-68fc5558-856a-41d3-a3c7-609cfcb15ad8')\"\n",
              "              title=\"Convert this dataframe to an interactive table.\"\n",
              "              style=\"display:none;\">\n",
              "        \n",
              "  <svg xmlns=\"http://www.w3.org/2000/svg\" height=\"24px\"viewBox=\"0 0 24 24\"\n",
              "       width=\"24px\">\n",
              "    <path d=\"M0 0h24v24H0V0z\" fill=\"none\"/>\n",
              "    <path d=\"M18.56 5.44l.94 2.06.94-2.06 2.06-.94-2.06-.94-.94-2.06-.94 2.06-2.06.94zm-11 1L8.5 8.5l.94-2.06 2.06-.94-2.06-.94L8.5 2.5l-.94 2.06-2.06.94zm10 10l.94 2.06.94-2.06 2.06-.94-2.06-.94-.94-2.06-.94 2.06-2.06.94z\"/><path d=\"M17.41 7.96l-1.37-1.37c-.4-.4-.92-.59-1.43-.59-.52 0-1.04.2-1.43.59L10.3 9.45l-7.72 7.72c-.78.78-.78 2.05 0 2.83L4 21.41c.39.39.9.59 1.41.59.51 0 1.02-.2 1.41-.59l7.78-7.78 2.81-2.81c.8-.78.8-2.07 0-2.86zM5.41 20L4 18.59l7.72-7.72 1.47 1.35L5.41 20z\"/>\n",
              "  </svg>\n",
              "      </button>\n",
              "      \n",
              "  <style>\n",
              "    .colab-df-container {\n",
              "      display:flex;\n",
              "      flex-wrap:wrap;\n",
              "      gap: 12px;\n",
              "    }\n",
              "\n",
              "    .colab-df-convert {\n",
              "      background-color: #E8F0FE;\n",
              "      border: none;\n",
              "      border-radius: 50%;\n",
              "      cursor: pointer;\n",
              "      display: none;\n",
              "      fill: #1967D2;\n",
              "      height: 32px;\n",
              "      padding: 0 0 0 0;\n",
              "      width: 32px;\n",
              "    }\n",
              "\n",
              "    .colab-df-convert:hover {\n",
              "      background-color: #E2EBFA;\n",
              "      box-shadow: 0px 1px 2px rgba(60, 64, 67, 0.3), 0px 1px 3px 1px rgba(60, 64, 67, 0.15);\n",
              "      fill: #174EA6;\n",
              "    }\n",
              "\n",
              "    [theme=dark] .colab-df-convert {\n",
              "      background-color: #3B4455;\n",
              "      fill: #D2E3FC;\n",
              "    }\n",
              "\n",
              "    [theme=dark] .colab-df-convert:hover {\n",
              "      background-color: #434B5C;\n",
              "      box-shadow: 0px 1px 3px 1px rgba(0, 0, 0, 0.15);\n",
              "      filter: drop-shadow(0px 1px 2px rgba(0, 0, 0, 0.3));\n",
              "      fill: #FFFFFF;\n",
              "    }\n",
              "  </style>\n",
              "\n",
              "      <script>\n",
              "        const buttonEl =\n",
              "          document.querySelector('#df-68fc5558-856a-41d3-a3c7-609cfcb15ad8 button.colab-df-convert');\n",
              "        buttonEl.style.display =\n",
              "          google.colab.kernel.accessAllowed ? 'block' : 'none';\n",
              "\n",
              "        async function convertToInteractive(key) {\n",
              "          const element = document.querySelector('#df-68fc5558-856a-41d3-a3c7-609cfcb15ad8');\n",
              "          const dataTable =\n",
              "            await google.colab.kernel.invokeFunction('convertToInteractive',\n",
              "                                                     [key], {});\n",
              "          if (!dataTable) return;\n",
              "\n",
              "          const docLinkHtml = 'Like what you see? Visit the ' +\n",
              "            '<a target=\"_blank\" href=https://colab.research.google.com/notebooks/data_table.ipynb>data table notebook</a>'\n",
              "            + ' to learn more about interactive tables.';\n",
              "          element.innerHTML = '';\n",
              "          dataTable['output_type'] = 'display_data';\n",
              "          await google.colab.output.renderOutput(dataTable, element);\n",
              "          const docLink = document.createElement('div');\n",
              "          docLink.innerHTML = docLinkHtml;\n",
              "          element.appendChild(docLink);\n",
              "        }\n",
              "      </script>\n",
              "    </div>\n",
              "  </div>\n",
              "  "
            ]
          },
          "metadata": {},
          "execution_count": 147
        }
      ]
    },
    {
      "cell_type": "code",
      "metadata": {
        "id": "8JUffqBVbQ0U",
        "colab": {
          "base_uri": "https://localhost:8080/"
        },
        "outputId": "ae2d4b6e-2479-4f6f-feea-c11cc53336ec"
      },
      "source": [
        "pip install catboost\n"
      ],
      "execution_count": 148,
      "outputs": [
        {
          "output_type": "stream",
          "name": "stdout",
          "text": [
            "Looking in indexes: https://pypi.org/simple, https://us-python.pkg.dev/colab-wheels/public/simple/\n",
            "Requirement already satisfied: catboost in /usr/local/lib/python3.7/dist-packages (1.0.6)\n",
            "Requirement already satisfied: six in /usr/local/lib/python3.7/dist-packages (from catboost) (1.15.0)\n",
            "Requirement already satisfied: pandas>=0.24.0 in /usr/local/lib/python3.7/dist-packages (from catboost) (1.3.5)\n",
            "Requirement already satisfied: plotly in /usr/local/lib/python3.7/dist-packages (from catboost) (5.5.0)\n",
            "Requirement already satisfied: graphviz in /usr/local/lib/python3.7/dist-packages (from catboost) (0.10.1)\n",
            "Requirement already satisfied: matplotlib in /usr/local/lib/python3.7/dist-packages (from catboost) (3.2.2)\n",
            "Requirement already satisfied: numpy>=1.16.0 in /usr/local/lib/python3.7/dist-packages (from catboost) (1.21.6)\n",
            "Requirement already satisfied: scipy in /usr/local/lib/python3.7/dist-packages (from catboost) (1.7.3)\n",
            "Requirement already satisfied: pytz>=2017.3 in /usr/local/lib/python3.7/dist-packages (from pandas>=0.24.0->catboost) (2022.2.1)\n",
            "Requirement already satisfied: python-dateutil>=2.7.3 in /usr/local/lib/python3.7/dist-packages (from pandas>=0.24.0->catboost) (2.8.2)\n",
            "Requirement already satisfied: pyparsing!=2.0.4,!=2.1.2,!=2.1.6,>=2.0.1 in /usr/local/lib/python3.7/dist-packages (from matplotlib->catboost) (3.0.9)\n",
            "Requirement already satisfied: kiwisolver>=1.0.1 in /usr/local/lib/python3.7/dist-packages (from matplotlib->catboost) (1.4.4)\n",
            "Requirement already satisfied: cycler>=0.10 in /usr/local/lib/python3.7/dist-packages (from matplotlib->catboost) (0.11.0)\n",
            "Requirement already satisfied: typing-extensions in /usr/local/lib/python3.7/dist-packages (from kiwisolver>=1.0.1->matplotlib->catboost) (4.1.1)\n",
            "Requirement already satisfied: tenacity>=6.2.0 in /usr/local/lib/python3.7/dist-packages (from plotly->catboost) (8.0.1)\n"
          ]
        }
      ]
    },
    {
      "cell_type": "code",
      "metadata": {
        "id": "Q4so18rpcVo8"
      },
      "source": [
        "from catboost import CatBoostClassifier"
      ],
      "execution_count": 149,
      "outputs": []
    },
    {
      "cell_type": "code",
      "metadata": {
        "id": "SKZ_oAs2cn3a"
      },
      "source": [
        "X = train_set1.drop(['status_group'], axis=1)\n",
        "y = train_set1.status_group"
      ],
      "execution_count": 150,
      "outputs": []
    },
    {
      "cell_type": "code",
      "metadata": {
        "id": "KpI2L-jldEj8"
      },
      "source": [
        "from sklearn.model_selection import train_test_split\n",
        "X_train, X_validation, y_train, y_validation = train_test_split(X, y, train_size=0.7, random_state=1234)"
      ],
      "execution_count": 151,
      "outputs": []
    },
    {
      "cell_type": "code",
      "metadata": {
        "id": "6XpbPJX4dafA",
        "colab": {
          "base_uri": "https://localhost:8080/"
        },
        "outputId": "3226b2f2-ed2c-4a1f-8ac5-53a8aa7d168a"
      },
      "source": [
        "categorical_features_indices = np.where(X.dtypes != np.float)[0]"
      ],
      "execution_count": 152,
      "outputs": [
        {
          "output_type": "stream",
          "name": "stderr",
          "text": [
            "/usr/local/lib/python3.7/dist-packages/ipykernel_launcher.py:1: DeprecationWarning: `np.float` is a deprecated alias for the builtin `float`. To silence this warning, use `float` by itself. Doing this will not modify any behavior and is safe. If you specifically wanted the numpy scalar type, use `np.float64` here.\n",
            "Deprecated in NumPy 1.20; for more details and guidance: https://numpy.org/devdocs/release/1.20.0-notes.html#deprecations\n",
            "  \"\"\"Entry point for launching an IPython kernel.\n"
          ]
        }
      ]
    },
    {
      "cell_type": "markdown",
      "metadata": {
        "id": "7cGpg73_e22E"
      },
      "source": [
        "Hyperparamenter depth of the tree was kept at 12 so that all the features could be included in the classification.\\\n",
        "Evaluation metric has been set to Accuracy.\\\n",
        "Loss function is multiclass loss function.\\\n",
        "Number of iterations are kept at 50 so as to get rough idea of teh model performance."
      ]
    },
    {
      "cell_type": "code",
      "metadata": {
        "id": "PWfp0VAide2q",
        "colab": {
          "base_uri": "https://localhost:8080/",
          "height": 989,
          "referenced_widgets": [
            "5f0e2d0fec2a4eff83cbdbd5bb6222ff"
          ]
        },
        "outputId": "263c58d7-5fb7-4a53-ac76-b3cff7c5fb00"
      },
      "source": [
        "#importing library and building model\n",
        "model=CatBoostClassifier(iterations=50, depth=13, learning_rate=0.1,eval_metric='Accuracy', loss_function='MultiClass')\n",
        "model.fit(X_train, y_train,cat_features=categorical_features_indices,eval_set=(X_validation, y_validation),plot=True)"
      ],
      "execution_count": 153,
      "outputs": [
        {
          "output_type": "display_data",
          "data": {
            "text/plain": [
              "MetricVisualizer(layout=Layout(align_self='stretch', height='500px'))"
            ],
            "application/vnd.jupyter.widget-view+json": {
              "version_major": 2,
              "version_minor": 0,
              "model_id": "5f0e2d0fec2a4eff83cbdbd5bb6222ff"
            }
          },
          "metadata": {}
        },
        {
          "output_type": "stream",
          "name": "stdout",
          "text": [
            "0:\tlearn: 0.7349837\ttest: 0.7233119\tbest: 0.7233119 (0)\ttotal: 700ms\tremaining: 34.3s\n",
            "1:\tlearn: 0.7396702\ttest: 0.7299057\tbest: 0.7299057 (1)\ttotal: 1.45s\tremaining: 34.8s\n",
            "2:\tlearn: 0.7390978\ttest: 0.7289041\tbest: 0.7299057 (1)\ttotal: 2.03s\tremaining: 31.8s\n",
            "3:\tlearn: 0.7407076\ttest: 0.7274852\tbest: 0.7299057 (1)\ttotal: 2.6s\tremaining: 29.9s\n",
            "4:\tlearn: 0.7419597\ttest: 0.7320758\tbest: 0.7320758 (4)\ttotal: 3.31s\tremaining: 29.8s\n",
            "5:\tlearn: 0.7412442\ttest: 0.7334112\tbest: 0.7334112 (5)\ttotal: 4.88s\tremaining: 35.8s\n",
            "6:\tlearn: 0.7437484\ttest: 0.7323262\tbest: 0.7334112 (5)\ttotal: 6.61s\tremaining: 40.6s\n",
            "7:\tlearn: 0.7470754\ttest: 0.7363325\tbest: 0.7363325 (7)\ttotal: 7.7s\tremaining: 40.4s\n",
            "8:\tlearn: 0.7506171\ttest: 0.7391704\tbest: 0.7391704 (8)\ttotal: 9.37s\tremaining: 42.7s\n",
            "9:\tlearn: 0.7530855\ttest: 0.7409231\tbest: 0.7409231 (9)\ttotal: 10.5s\tremaining: 42.2s\n",
            "10:\tlearn: 0.7562695\ttest: 0.7417578\tbest: 0.7417578 (10)\ttotal: 11.5s\tremaining: 40.9s\n",
            "11:\tlearn: 0.7583801\ttest: 0.7438444\tbest: 0.7438444 (11)\ttotal: 12.5s\tremaining: 39.7s\n",
            "12:\tlearn: 0.7626015\ttest: 0.7476004\tbest: 0.7476004 (12)\ttotal: 13.8s\tremaining: 39.2s\n",
            "13:\tlearn: 0.7652846\ttest: 0.7501043\tbest: 0.7501043 (13)\ttotal: 15s\tremaining: 38.6s\n",
            "14:\tlearn: 0.7665367\ttest: 0.7507721\tbest: 0.7507721 (14)\ttotal: 16s\tremaining: 37.3s\n",
            "15:\tlearn: 0.7686116\ttest: 0.7501043\tbest: 0.7507721 (14)\ttotal: 17s\tremaining: 36.1s\n",
            "16:\tlearn: 0.7685043\ttest: 0.7495201\tbest: 0.7507721 (14)\ttotal: 18s\tremaining: 34.9s\n",
            "17:\tlearn: 0.7698995\ttest: 0.7518571\tbest: 0.7518571 (17)\ttotal: 19s\tremaining: 33.8s\n",
            "18:\tlearn: 0.7702214\ttest: 0.7521910\tbest: 0.7521910 (18)\ttotal: 20.1s\tremaining: 32.7s\n",
            "19:\tlearn: 0.7710085\ttest: 0.7517736\tbest: 0.7521910 (18)\ttotal: 21.2s\tremaining: 31.7s\n",
            "20:\tlearn: 0.7716882\ttest: 0.7526083\tbest: 0.7526083 (20)\ttotal: 22.2s\tremaining: 30.6s\n",
            "21:\tlearn: 0.7729045\ttest: 0.7513563\tbest: 0.7526083 (20)\ttotal: 23.2s\tremaining: 29.6s\n",
            "22:\tlearn: 0.7737631\ttest: 0.7539437\tbest: 0.7539437 (22)\ttotal: 24.4s\tremaining: 28.7s\n",
            "23:\tlearn: 0.7740851\ttest: 0.7537768\tbest: 0.7539437 (22)\ttotal: 25.8s\tremaining: 27.9s\n",
            "24:\tlearn: 0.7744070\ttest: 0.7538603\tbest: 0.7539437 (22)\ttotal: 27.1s\tremaining: 27.1s\n",
            "25:\tlearn: 0.7751941\ttest: 0.7538603\tbest: 0.7539437 (22)\ttotal: 28.6s\tremaining: 26.4s\n",
            "26:\tlearn: 0.7759453\ttest: 0.7544445\tbest: 0.7544445 (26)\ttotal: 29.8s\tremaining: 25.4s\n",
            "27:\tlearn: 0.7765893\ttest: 0.7540272\tbest: 0.7544445 (26)\ttotal: 30.8s\tremaining: 24.2s\n",
            "28:\tlearn: 0.7794512\ttest: 0.7553627\tbest: 0.7553627 (28)\ttotal: 32.3s\tremaining: 23.4s\n",
            "29:\tlearn: 0.7809180\ttest: 0.7563642\tbest: 0.7563642 (29)\ttotal: 34.5s\tremaining: 23s\n",
            "30:\tlearn: 0.7817766\ttest: 0.7576997\tbest: 0.7576997 (30)\ttotal: 35.7s\tremaining: 21.9s\n",
            "31:\tlearn: 0.7831718\ttest: 0.7590351\tbest: 0.7590351 (31)\ttotal: 37s\tremaining: 20.8s\n",
            "32:\tlearn: 0.7843881\ttest: 0.7594525\tbest: 0.7594525 (32)\ttotal: 38.2s\tremaining: 19.7s\n",
            "33:\tlearn: 0.7851393\ttest: 0.7602871\tbest: 0.7602871 (33)\ttotal: 39.5s\tremaining: 18.6s\n",
            "34:\tlearn: 0.7871069\ttest: 0.7610383\tbest: 0.7610383 (34)\ttotal: 40.6s\tremaining: 17.4s\n",
            "35:\tlearn: 0.7884306\ttest: 0.7631249\tbest: 0.7631249 (35)\ttotal: 41.7s\tremaining: 16.2s\n",
            "36:\tlearn: 0.7898258\ttest: 0.7642100\tbest: 0.7642100 (36)\ttotal: 42.8s\tremaining: 15.1s\n",
            "37:\tlearn: 0.7915072\ttest: 0.7645439\tbest: 0.7645439 (37)\ttotal: 43.7s\tremaining: 13.8s\n",
            "38:\tlearn: 0.7920438\ttest: 0.7638761\tbest: 0.7645439 (37)\ttotal: 44.2s\tremaining: 12.5s\n",
            "39:\tlearn: 0.7938325\ttest: 0.7645439\tbest: 0.7645439 (37)\ttotal: 44.8s\tremaining: 11.2s\n",
            "40:\tlearn: 0.7942976\ttest: 0.7649612\tbest: 0.7649612 (40)\ttotal: 45.3s\tremaining: 9.95s\n",
            "41:\tlearn: 0.7950488\ttest: 0.7658793\tbest: 0.7658793 (41)\ttotal: 45.9s\tremaining: 8.73s\n",
            "42:\tlearn: 0.7955497\ttest: 0.7658793\tbest: 0.7658793 (41)\ttotal: 46.4s\tremaining: 7.55s\n",
            "43:\tlearn: 0.7966945\ttest: 0.7664636\tbest: 0.7664636 (43)\ttotal: 47s\tremaining: 6.41s\n",
            "44:\tlearn: 0.7965514\ttest: 0.7667140\tbest: 0.7667140 (44)\ttotal: 47.5s\tremaining: 5.28s\n",
            "45:\tlearn: 0.7973026\ttest: 0.7671313\tbest: 0.7671313 (45)\ttotal: 48.1s\tremaining: 4.18s\n",
            "46:\tlearn: 0.7984474\ttest: 0.7677155\tbest: 0.7677155 (46)\ttotal: 48.7s\tremaining: 3.11s\n",
            "47:\tlearn: 0.7996637\ttest: 0.7672982\tbest: 0.7677155 (46)\ttotal: 49.2s\tremaining: 2.05s\n",
            "48:\tlearn: 0.8000572\ttest: 0.7674652\tbest: 0.7677155 (46)\ttotal: 49.8s\tremaining: 1.02s\n",
            "49:\tlearn: 0.8010947\ttest: 0.7677155\tbest: 0.7677155 (46)\ttotal: 50.4s\tremaining: 0us\n",
            "\n",
            "bestTest = 0.7677155496\n",
            "bestIteration = 46\n",
            "\n",
            "Shrink model to first 47 iterations.\n"
          ]
        },
        {
          "output_type": "execute_result",
          "data": {
            "text/plain": [
              "<catboost.core.CatBoostClassifier at 0x7fc284f02610>"
            ]
          },
          "metadata": {},
          "execution_count": 153
        }
      ]
    },
    {
      "cell_type": "markdown",
      "metadata": {
        "id": "yn-XUxAA8Y5R"
      },
      "source": [
        "**Feature Importance**"
      ]
    },
    {
      "cell_type": "code",
      "metadata": {
        "id": "u2vQGKssz0Mr",
        "colab": {
          "base_uri": "https://localhost:8080/",
          "height": 394
        },
        "outputId": "a1570e86-d79c-4a44-84a9-319eb42433d0"
      },
      "source": [
        "model.get_feature_importance(prettified = True)"
      ],
      "execution_count": 154,
      "outputs": [
        {
          "output_type": "execute_result",
          "data": {
            "text/plain": [
              "         Feature Id  Importances\n",
              "0    quantity_group    18.447876\n",
              "1               lga    11.285418\n",
              "2      payment_type    10.613311\n",
              "3            source    10.104462\n",
              "4             basin     9.795654\n",
              "5            region     8.997436\n",
              "6              ward     7.683383\n",
              "7   waterpoint_type     7.666762\n",
              "8   extraction_type     7.439351\n",
              "9        management     7.196728\n",
              "10    water_quality     0.769617"
            ],
            "text/html": [
              "\n",
              "  <div id=\"df-d9d309f4-8c05-475a-8da3-8c08dc032f9e\">\n",
              "    <div class=\"colab-df-container\">\n",
              "      <div>\n",
              "<style scoped>\n",
              "    .dataframe tbody tr th:only-of-type {\n",
              "        vertical-align: middle;\n",
              "    }\n",
              "\n",
              "    .dataframe tbody tr th {\n",
              "        vertical-align: top;\n",
              "    }\n",
              "\n",
              "    .dataframe thead th {\n",
              "        text-align: right;\n",
              "    }\n",
              "</style>\n",
              "<table border=\"1\" class=\"dataframe\">\n",
              "  <thead>\n",
              "    <tr style=\"text-align: right;\">\n",
              "      <th></th>\n",
              "      <th>Feature Id</th>\n",
              "      <th>Importances</th>\n",
              "    </tr>\n",
              "  </thead>\n",
              "  <tbody>\n",
              "    <tr>\n",
              "      <th>0</th>\n",
              "      <td>quantity_group</td>\n",
              "      <td>18.447876</td>\n",
              "    </tr>\n",
              "    <tr>\n",
              "      <th>1</th>\n",
              "      <td>lga</td>\n",
              "      <td>11.285418</td>\n",
              "    </tr>\n",
              "    <tr>\n",
              "      <th>2</th>\n",
              "      <td>payment_type</td>\n",
              "      <td>10.613311</td>\n",
              "    </tr>\n",
              "    <tr>\n",
              "      <th>3</th>\n",
              "      <td>source</td>\n",
              "      <td>10.104462</td>\n",
              "    </tr>\n",
              "    <tr>\n",
              "      <th>4</th>\n",
              "      <td>basin</td>\n",
              "      <td>9.795654</td>\n",
              "    </tr>\n",
              "    <tr>\n",
              "      <th>5</th>\n",
              "      <td>region</td>\n",
              "      <td>8.997436</td>\n",
              "    </tr>\n",
              "    <tr>\n",
              "      <th>6</th>\n",
              "      <td>ward</td>\n",
              "      <td>7.683383</td>\n",
              "    </tr>\n",
              "    <tr>\n",
              "      <th>7</th>\n",
              "      <td>waterpoint_type</td>\n",
              "      <td>7.666762</td>\n",
              "    </tr>\n",
              "    <tr>\n",
              "      <th>8</th>\n",
              "      <td>extraction_type</td>\n",
              "      <td>7.439351</td>\n",
              "    </tr>\n",
              "    <tr>\n",
              "      <th>9</th>\n",
              "      <td>management</td>\n",
              "      <td>7.196728</td>\n",
              "    </tr>\n",
              "    <tr>\n",
              "      <th>10</th>\n",
              "      <td>water_quality</td>\n",
              "      <td>0.769617</td>\n",
              "    </tr>\n",
              "  </tbody>\n",
              "</table>\n",
              "</div>\n",
              "      <button class=\"colab-df-convert\" onclick=\"convertToInteractive('df-d9d309f4-8c05-475a-8da3-8c08dc032f9e')\"\n",
              "              title=\"Convert this dataframe to an interactive table.\"\n",
              "              style=\"display:none;\">\n",
              "        \n",
              "  <svg xmlns=\"http://www.w3.org/2000/svg\" height=\"24px\"viewBox=\"0 0 24 24\"\n",
              "       width=\"24px\">\n",
              "    <path d=\"M0 0h24v24H0V0z\" fill=\"none\"/>\n",
              "    <path d=\"M18.56 5.44l.94 2.06.94-2.06 2.06-.94-2.06-.94-.94-2.06-.94 2.06-2.06.94zm-11 1L8.5 8.5l.94-2.06 2.06-.94-2.06-.94L8.5 2.5l-.94 2.06-2.06.94zm10 10l.94 2.06.94-2.06 2.06-.94-2.06-.94-.94-2.06-.94 2.06-2.06.94z\"/><path d=\"M17.41 7.96l-1.37-1.37c-.4-.4-.92-.59-1.43-.59-.52 0-1.04.2-1.43.59L10.3 9.45l-7.72 7.72c-.78.78-.78 2.05 0 2.83L4 21.41c.39.39.9.59 1.41.59.51 0 1.02-.2 1.41-.59l7.78-7.78 2.81-2.81c.8-.78.8-2.07 0-2.86zM5.41 20L4 18.59l7.72-7.72 1.47 1.35L5.41 20z\"/>\n",
              "  </svg>\n",
              "      </button>\n",
              "      \n",
              "  <style>\n",
              "    .colab-df-container {\n",
              "      display:flex;\n",
              "      flex-wrap:wrap;\n",
              "      gap: 12px;\n",
              "    }\n",
              "\n",
              "    .colab-df-convert {\n",
              "      background-color: #E8F0FE;\n",
              "      border: none;\n",
              "      border-radius: 50%;\n",
              "      cursor: pointer;\n",
              "      display: none;\n",
              "      fill: #1967D2;\n",
              "      height: 32px;\n",
              "      padding: 0 0 0 0;\n",
              "      width: 32px;\n",
              "    }\n",
              "\n",
              "    .colab-df-convert:hover {\n",
              "      background-color: #E2EBFA;\n",
              "      box-shadow: 0px 1px 2px rgba(60, 64, 67, 0.3), 0px 1px 3px 1px rgba(60, 64, 67, 0.15);\n",
              "      fill: #174EA6;\n",
              "    }\n",
              "\n",
              "    [theme=dark] .colab-df-convert {\n",
              "      background-color: #3B4455;\n",
              "      fill: #D2E3FC;\n",
              "    }\n",
              "\n",
              "    [theme=dark] .colab-df-convert:hover {\n",
              "      background-color: #434B5C;\n",
              "      box-shadow: 0px 1px 3px 1px rgba(0, 0, 0, 0.15);\n",
              "      filter: drop-shadow(0px 1px 2px rgba(0, 0, 0, 0.3));\n",
              "      fill: #FFFFFF;\n",
              "    }\n",
              "  </style>\n",
              "\n",
              "      <script>\n",
              "        const buttonEl =\n",
              "          document.querySelector('#df-d9d309f4-8c05-475a-8da3-8c08dc032f9e button.colab-df-convert');\n",
              "        buttonEl.style.display =\n",
              "          google.colab.kernel.accessAllowed ? 'block' : 'none';\n",
              "\n",
              "        async function convertToInteractive(key) {\n",
              "          const element = document.querySelector('#df-d9d309f4-8c05-475a-8da3-8c08dc032f9e');\n",
              "          const dataTable =\n",
              "            await google.colab.kernel.invokeFunction('convertToInteractive',\n",
              "                                                     [key], {});\n",
              "          if (!dataTable) return;\n",
              "\n",
              "          const docLinkHtml = 'Like what you see? Visit the ' +\n",
              "            '<a target=\"_blank\" href=https://colab.research.google.com/notebooks/data_table.ipynb>data table notebook</a>'\n",
              "            + ' to learn more about interactive tables.';\n",
              "          element.innerHTML = '';\n",
              "          dataTable['output_type'] = 'display_data';\n",
              "          await google.colab.output.renderOutput(dataTable, element);\n",
              "          const docLink = document.createElement('div');\n",
              "          docLink.innerHTML = docLinkHtml;\n",
              "          element.appendChild(docLink);\n",
              "        }\n",
              "      </script>\n",
              "    </div>\n",
              "  </div>\n",
              "  "
            ]
          },
          "metadata": {},
          "execution_count": 154
        }
      ]
    },
    {
      "cell_type": "code",
      "metadata": {
        "id": "CmLOuSyYeT-R"
      },
      "source": [
        "DF = pd.DataFrame(model.predict(test_set1), columns = ['status_group'])"
      ],
      "execution_count": 155,
      "outputs": []
    },
    {
      "cell_type": "code",
      "source": [
        "DF.insert(loc=0, column = 'id', value=test_df['id'])\n",
        "\n",
        "# DF['id'] = test_df['id']\n",
        "\n",
        "# columns_titles = [\"B\",\"A\"]\n",
        "# df=df.reindex(columns=columns_titles)"
      ],
      "metadata": {
        "id": "G9R4FYdhU4z2"
      },
      "execution_count": 156,
      "outputs": []
    },
    {
      "cell_type": "code",
      "source": [
        "DF"
      ],
      "metadata": {
        "colab": {
          "base_uri": "https://localhost:8080/",
          "height": 424
        },
        "id": "bNfj5lsGXcYk",
        "outputId": "1cda0a72-b7a9-4915-9960-1ac8d44eaa3a"
      },
      "execution_count": 157,
      "outputs": [
        {
          "output_type": "execute_result",
          "data": {
            "text/plain": [
              "          id    status_group\n",
              "0      21215  non functional\n",
              "1      25893  non functional\n",
              "2      15713      functional\n",
              "3      17247  non functional\n",
              "4       1248      functional\n",
              "...      ...             ...\n",
              "14845  45291      functional\n",
              "14846  54736      functional\n",
              "14847  44238  non functional\n",
              "14848  13229      functional\n",
              "14849  70800      functional\n",
              "\n",
              "[14850 rows x 2 columns]"
            ],
            "text/html": [
              "\n",
              "  <div id=\"df-fd35eb50-d245-4d01-a66f-f6b9e3bf20ab\">\n",
              "    <div class=\"colab-df-container\">\n",
              "      <div>\n",
              "<style scoped>\n",
              "    .dataframe tbody tr th:only-of-type {\n",
              "        vertical-align: middle;\n",
              "    }\n",
              "\n",
              "    .dataframe tbody tr th {\n",
              "        vertical-align: top;\n",
              "    }\n",
              "\n",
              "    .dataframe thead th {\n",
              "        text-align: right;\n",
              "    }\n",
              "</style>\n",
              "<table border=\"1\" class=\"dataframe\">\n",
              "  <thead>\n",
              "    <tr style=\"text-align: right;\">\n",
              "      <th></th>\n",
              "      <th>id</th>\n",
              "      <th>status_group</th>\n",
              "    </tr>\n",
              "  </thead>\n",
              "  <tbody>\n",
              "    <tr>\n",
              "      <th>0</th>\n",
              "      <td>21215</td>\n",
              "      <td>non functional</td>\n",
              "    </tr>\n",
              "    <tr>\n",
              "      <th>1</th>\n",
              "      <td>25893</td>\n",
              "      <td>non functional</td>\n",
              "    </tr>\n",
              "    <tr>\n",
              "      <th>2</th>\n",
              "      <td>15713</td>\n",
              "      <td>functional</td>\n",
              "    </tr>\n",
              "    <tr>\n",
              "      <th>3</th>\n",
              "      <td>17247</td>\n",
              "      <td>non functional</td>\n",
              "    </tr>\n",
              "    <tr>\n",
              "      <th>4</th>\n",
              "      <td>1248</td>\n",
              "      <td>functional</td>\n",
              "    </tr>\n",
              "    <tr>\n",
              "      <th>...</th>\n",
              "      <td>...</td>\n",
              "      <td>...</td>\n",
              "    </tr>\n",
              "    <tr>\n",
              "      <th>14845</th>\n",
              "      <td>45291</td>\n",
              "      <td>functional</td>\n",
              "    </tr>\n",
              "    <tr>\n",
              "      <th>14846</th>\n",
              "      <td>54736</td>\n",
              "      <td>functional</td>\n",
              "    </tr>\n",
              "    <tr>\n",
              "      <th>14847</th>\n",
              "      <td>44238</td>\n",
              "      <td>non functional</td>\n",
              "    </tr>\n",
              "    <tr>\n",
              "      <th>14848</th>\n",
              "      <td>13229</td>\n",
              "      <td>functional</td>\n",
              "    </tr>\n",
              "    <tr>\n",
              "      <th>14849</th>\n",
              "      <td>70800</td>\n",
              "      <td>functional</td>\n",
              "    </tr>\n",
              "  </tbody>\n",
              "</table>\n",
              "<p>14850 rows × 2 columns</p>\n",
              "</div>\n",
              "      <button class=\"colab-df-convert\" onclick=\"convertToInteractive('df-fd35eb50-d245-4d01-a66f-f6b9e3bf20ab')\"\n",
              "              title=\"Convert this dataframe to an interactive table.\"\n",
              "              style=\"display:none;\">\n",
              "        \n",
              "  <svg xmlns=\"http://www.w3.org/2000/svg\" height=\"24px\"viewBox=\"0 0 24 24\"\n",
              "       width=\"24px\">\n",
              "    <path d=\"M0 0h24v24H0V0z\" fill=\"none\"/>\n",
              "    <path d=\"M18.56 5.44l.94 2.06.94-2.06 2.06-.94-2.06-.94-.94-2.06-.94 2.06-2.06.94zm-11 1L8.5 8.5l.94-2.06 2.06-.94-2.06-.94L8.5 2.5l-.94 2.06-2.06.94zm10 10l.94 2.06.94-2.06 2.06-.94-2.06-.94-.94-2.06-.94 2.06-2.06.94z\"/><path d=\"M17.41 7.96l-1.37-1.37c-.4-.4-.92-.59-1.43-.59-.52 0-1.04.2-1.43.59L10.3 9.45l-7.72 7.72c-.78.78-.78 2.05 0 2.83L4 21.41c.39.39.9.59 1.41.59.51 0 1.02-.2 1.41-.59l7.78-7.78 2.81-2.81c.8-.78.8-2.07 0-2.86zM5.41 20L4 18.59l7.72-7.72 1.47 1.35L5.41 20z\"/>\n",
              "  </svg>\n",
              "      </button>\n",
              "      \n",
              "  <style>\n",
              "    .colab-df-container {\n",
              "      display:flex;\n",
              "      flex-wrap:wrap;\n",
              "      gap: 12px;\n",
              "    }\n",
              "\n",
              "    .colab-df-convert {\n",
              "      background-color: #E8F0FE;\n",
              "      border: none;\n",
              "      border-radius: 50%;\n",
              "      cursor: pointer;\n",
              "      display: none;\n",
              "      fill: #1967D2;\n",
              "      height: 32px;\n",
              "      padding: 0 0 0 0;\n",
              "      width: 32px;\n",
              "    }\n",
              "\n",
              "    .colab-df-convert:hover {\n",
              "      background-color: #E2EBFA;\n",
              "      box-shadow: 0px 1px 2px rgba(60, 64, 67, 0.3), 0px 1px 3px 1px rgba(60, 64, 67, 0.15);\n",
              "      fill: #174EA6;\n",
              "    }\n",
              "\n",
              "    [theme=dark] .colab-df-convert {\n",
              "      background-color: #3B4455;\n",
              "      fill: #D2E3FC;\n",
              "    }\n",
              "\n",
              "    [theme=dark] .colab-df-convert:hover {\n",
              "      background-color: #434B5C;\n",
              "      box-shadow: 0px 1px 3px 1px rgba(0, 0, 0, 0.15);\n",
              "      filter: drop-shadow(0px 1px 2px rgba(0, 0, 0, 0.3));\n",
              "      fill: #FFFFFF;\n",
              "    }\n",
              "  </style>\n",
              "\n",
              "      <script>\n",
              "        const buttonEl =\n",
              "          document.querySelector('#df-fd35eb50-d245-4d01-a66f-f6b9e3bf20ab button.colab-df-convert');\n",
              "        buttonEl.style.display =\n",
              "          google.colab.kernel.accessAllowed ? 'block' : 'none';\n",
              "\n",
              "        async function convertToInteractive(key) {\n",
              "          const element = document.querySelector('#df-fd35eb50-d245-4d01-a66f-f6b9e3bf20ab');\n",
              "          const dataTable =\n",
              "            await google.colab.kernel.invokeFunction('convertToInteractive',\n",
              "                                                     [key], {});\n",
              "          if (!dataTable) return;\n",
              "\n",
              "          const docLinkHtml = 'Like what you see? Visit the ' +\n",
              "            '<a target=\"_blank\" href=https://colab.research.google.com/notebooks/data_table.ipynb>data table notebook</a>'\n",
              "            + ' to learn more about interactive tables.';\n",
              "          element.innerHTML = '';\n",
              "          dataTable['output_type'] = 'display_data';\n",
              "          await google.colab.output.renderOutput(dataTable, element);\n",
              "          const docLink = document.createElement('div');\n",
              "          docLink.innerHTML = docLinkHtml;\n",
              "          element.appendChild(docLink);\n",
              "        }\n",
              "      </script>\n",
              "    </div>\n",
              "  </div>\n",
              "  "
            ]
          },
          "metadata": {},
          "execution_count": 157
        }
      ]
    },
    {
      "cell_type": "code",
      "metadata": {
        "id": "hAPOlG-PfjP3"
      },
      "source": [
        "DF.to_csv(\"prediction_catboost.csv\", index=False)"
      ],
      "execution_count": 158,
      "outputs": []
    },
    {
      "cell_type": "code",
      "source": [
        ""
      ],
      "metadata": {
        "id": "L7rSPBj3OTqN"
      },
      "execution_count": 158,
      "outputs": []
    },
    {
      "cell_type": "code",
      "source": [
        ""
      ],
      "metadata": {
        "id": "6MlFj33kzffs"
      },
      "execution_count": 158,
      "outputs": []
    },
    {
      "cell_type": "code",
      "source": [
        "features = train_set1.columns.tolist()\n",
        "features.remove('status_group')\n",
        "features"
      ],
      "metadata": {
        "colab": {
          "base_uri": "https://localhost:8080/"
        },
        "id": "ZkFQKl12OTn_",
        "outputId": "4631f7b4-50dd-4d21-ce93-fdb697f0d4f0"
      },
      "execution_count": 159,
      "outputs": [
        {
          "output_type": "execute_result",
          "data": {
            "text/plain": [
              "['basin',\n",
              " 'region',\n",
              " 'lga',\n",
              " 'ward',\n",
              " 'extraction_type',\n",
              " 'management',\n",
              " 'payment_type',\n",
              " 'water_quality',\n",
              " 'quantity_group',\n",
              " 'source',\n",
              " 'waterpoint_type']"
            ]
          },
          "metadata": {},
          "execution_count": 159
        }
      ]
    },
    {
      "cell_type": "code",
      "source": [
        "from sklearn.preprocessing import OrdinalEncoder, LabelEncoder"
      ],
      "metadata": {
        "id": "nm6aiL4a-ZeY"
      },
      "execution_count": 160,
      "outputs": []
    },
    {
      "cell_type": "code",
      "source": [
        "type(train_set1.drop('status_group', axis=1))"
      ],
      "metadata": {
        "colab": {
          "base_uri": "https://localhost:8080/"
        },
        "id": "l1DARYCpdktW",
        "outputId": "667a4e66-1a34-4921-9587-36f5a340b67f"
      },
      "execution_count": 161,
      "outputs": [
        {
          "output_type": "execute_result",
          "data": {
            "text/plain": [
              "pandas.core.frame.DataFrame"
            ]
          },
          "metadata": {},
          "execution_count": 161
        }
      ]
    },
    {
      "cell_type": "code",
      "source": [
        "X_encoder = OrdinalEncoder()\n",
        "X_encoder.fit(train_set1.drop('status_group', axis=1).append(test_set1))\n",
        "train_X_encoded = X_encoder.transform(train_set1.drop('status_group', axis=1))"
      ],
      "metadata": {
        "id": "xX5cEFbw0xnM"
      },
      "execution_count": 162,
      "outputs": []
    },
    {
      "cell_type": "code",
      "source": [
        "train_set1.drop('status_group', axis=1).append(test_set1)"
      ],
      "metadata": {
        "colab": {
          "base_uri": "https://localhost:8080/",
          "height": 661
        },
        "id": "O5zDKUdjjuTt",
        "outputId": "f754abad-9217-4185-c2a4-b606016039d9"
      },
      "execution_count": 163,
      "outputs": [
        {
          "output_type": "execute_result",
          "data": {
            "text/plain": [
              "                 basin       region           lga               ward  \\\n",
              "0              Pangani  Kilimanjaro           Hai  Machame Kaskazini   \n",
              "1           Lake Nyasa       Iringa        Ludewa              Luana   \n",
              "2              Pangani       Arusha  Arusha Rural           Kimnyaki   \n",
              "3               Rufiji        Mbeya   Mbeya Rural             Inyala   \n",
              "4              Pangani  Kilimanjaro        Mwanga        Shinghatini   \n",
              "...                ...          ...           ...                ...   \n",
              "14845       Lake Nyasa       Iringa        Ludewa           Mlangali   \n",
              "14846           Rufiji     Morogoro     Kilombero             Lumemo   \n",
              "14847  Lake Tanganyika       Tabora          Uyui             Magiri   \n",
              "14848  Lake Tanganyika       Kigoma       Kibondo          Rugongowe   \n",
              "14849      Wami / Ruvu        Pwani      Mkuranga            Vikindu   \n",
              "\n",
              "      extraction_type        management payment_type water_quality  \\\n",
              "0             gravity       water board   per bucket          soft   \n",
              "1             gravity  private operator    never pay          soft   \n",
              "2             gravity               vwc    never pay          soft   \n",
              "3             gravity               wug     annually          soft   \n",
              "4             gravity               vwc      monthly          soft   \n",
              "...               ...               ...          ...           ...   \n",
              "14845         gravity               vwc     annually          soft   \n",
              "14846     nira/tanira               vwc    never pay          soft   \n",
              "14847           other               vwc    never pay          soft   \n",
              "14848         gravity               vwc      unknown          soft   \n",
              "14849     submersible               vwc   per bucket          soft   \n",
              "\n",
              "      quantity_group        source              waterpoint_type  \n",
              "0             enough        spring           communal standpipe  \n",
              "1             enough        spring           communal standpipe  \n",
              "2       insufficient        spring           communal standpipe  \n",
              "3       insufficient         river           communal standpipe  \n",
              "4       insufficient        spring           communal standpipe  \n",
              "...              ...           ...                          ...  \n",
              "14845       seasonal        spring           communal standpipe  \n",
              "14846   insufficient  shallow well                    hand pump  \n",
              "14847            dry        spring  communal standpipe multiple  \n",
              "14848         enough        spring  communal standpipe multiple  \n",
              "14849         enough   machine dbh           communal standpipe  \n",
              "\n",
              "[54784 rows x 11 columns]"
            ],
            "text/html": [
              "\n",
              "  <div id=\"df-49a1db78-c02b-4aef-8a0b-cf5d4329932a\">\n",
              "    <div class=\"colab-df-container\">\n",
              "      <div>\n",
              "<style scoped>\n",
              "    .dataframe tbody tr th:only-of-type {\n",
              "        vertical-align: middle;\n",
              "    }\n",
              "\n",
              "    .dataframe tbody tr th {\n",
              "        vertical-align: top;\n",
              "    }\n",
              "\n",
              "    .dataframe thead th {\n",
              "        text-align: right;\n",
              "    }\n",
              "</style>\n",
              "<table border=\"1\" class=\"dataframe\">\n",
              "  <thead>\n",
              "    <tr style=\"text-align: right;\">\n",
              "      <th></th>\n",
              "      <th>basin</th>\n",
              "      <th>region</th>\n",
              "      <th>lga</th>\n",
              "      <th>ward</th>\n",
              "      <th>extraction_type</th>\n",
              "      <th>management</th>\n",
              "      <th>payment_type</th>\n",
              "      <th>water_quality</th>\n",
              "      <th>quantity_group</th>\n",
              "      <th>source</th>\n",
              "      <th>waterpoint_type</th>\n",
              "    </tr>\n",
              "  </thead>\n",
              "  <tbody>\n",
              "    <tr>\n",
              "      <th>0</th>\n",
              "      <td>Pangani</td>\n",
              "      <td>Kilimanjaro</td>\n",
              "      <td>Hai</td>\n",
              "      <td>Machame Kaskazini</td>\n",
              "      <td>gravity</td>\n",
              "      <td>water board</td>\n",
              "      <td>per bucket</td>\n",
              "      <td>soft</td>\n",
              "      <td>enough</td>\n",
              "      <td>spring</td>\n",
              "      <td>communal standpipe</td>\n",
              "    </tr>\n",
              "    <tr>\n",
              "      <th>1</th>\n",
              "      <td>Lake Nyasa</td>\n",
              "      <td>Iringa</td>\n",
              "      <td>Ludewa</td>\n",
              "      <td>Luana</td>\n",
              "      <td>gravity</td>\n",
              "      <td>private operator</td>\n",
              "      <td>never pay</td>\n",
              "      <td>soft</td>\n",
              "      <td>enough</td>\n",
              "      <td>spring</td>\n",
              "      <td>communal standpipe</td>\n",
              "    </tr>\n",
              "    <tr>\n",
              "      <th>2</th>\n",
              "      <td>Pangani</td>\n",
              "      <td>Arusha</td>\n",
              "      <td>Arusha Rural</td>\n",
              "      <td>Kimnyaki</td>\n",
              "      <td>gravity</td>\n",
              "      <td>vwc</td>\n",
              "      <td>never pay</td>\n",
              "      <td>soft</td>\n",
              "      <td>insufficient</td>\n",
              "      <td>spring</td>\n",
              "      <td>communal standpipe</td>\n",
              "    </tr>\n",
              "    <tr>\n",
              "      <th>3</th>\n",
              "      <td>Rufiji</td>\n",
              "      <td>Mbeya</td>\n",
              "      <td>Mbeya Rural</td>\n",
              "      <td>Inyala</td>\n",
              "      <td>gravity</td>\n",
              "      <td>wug</td>\n",
              "      <td>annually</td>\n",
              "      <td>soft</td>\n",
              "      <td>insufficient</td>\n",
              "      <td>river</td>\n",
              "      <td>communal standpipe</td>\n",
              "    </tr>\n",
              "    <tr>\n",
              "      <th>4</th>\n",
              "      <td>Pangani</td>\n",
              "      <td>Kilimanjaro</td>\n",
              "      <td>Mwanga</td>\n",
              "      <td>Shinghatini</td>\n",
              "      <td>gravity</td>\n",
              "      <td>vwc</td>\n",
              "      <td>monthly</td>\n",
              "      <td>soft</td>\n",
              "      <td>insufficient</td>\n",
              "      <td>spring</td>\n",
              "      <td>communal standpipe</td>\n",
              "    </tr>\n",
              "    <tr>\n",
              "      <th>...</th>\n",
              "      <td>...</td>\n",
              "      <td>...</td>\n",
              "      <td>...</td>\n",
              "      <td>...</td>\n",
              "      <td>...</td>\n",
              "      <td>...</td>\n",
              "      <td>...</td>\n",
              "      <td>...</td>\n",
              "      <td>...</td>\n",
              "      <td>...</td>\n",
              "      <td>...</td>\n",
              "    </tr>\n",
              "    <tr>\n",
              "      <th>14845</th>\n",
              "      <td>Lake Nyasa</td>\n",
              "      <td>Iringa</td>\n",
              "      <td>Ludewa</td>\n",
              "      <td>Mlangali</td>\n",
              "      <td>gravity</td>\n",
              "      <td>vwc</td>\n",
              "      <td>annually</td>\n",
              "      <td>soft</td>\n",
              "      <td>seasonal</td>\n",
              "      <td>spring</td>\n",
              "      <td>communal standpipe</td>\n",
              "    </tr>\n",
              "    <tr>\n",
              "      <th>14846</th>\n",
              "      <td>Rufiji</td>\n",
              "      <td>Morogoro</td>\n",
              "      <td>Kilombero</td>\n",
              "      <td>Lumemo</td>\n",
              "      <td>nira/tanira</td>\n",
              "      <td>vwc</td>\n",
              "      <td>never pay</td>\n",
              "      <td>soft</td>\n",
              "      <td>insufficient</td>\n",
              "      <td>shallow well</td>\n",
              "      <td>hand pump</td>\n",
              "    </tr>\n",
              "    <tr>\n",
              "      <th>14847</th>\n",
              "      <td>Lake Tanganyika</td>\n",
              "      <td>Tabora</td>\n",
              "      <td>Uyui</td>\n",
              "      <td>Magiri</td>\n",
              "      <td>other</td>\n",
              "      <td>vwc</td>\n",
              "      <td>never pay</td>\n",
              "      <td>soft</td>\n",
              "      <td>dry</td>\n",
              "      <td>spring</td>\n",
              "      <td>communal standpipe multiple</td>\n",
              "    </tr>\n",
              "    <tr>\n",
              "      <th>14848</th>\n",
              "      <td>Lake Tanganyika</td>\n",
              "      <td>Kigoma</td>\n",
              "      <td>Kibondo</td>\n",
              "      <td>Rugongowe</td>\n",
              "      <td>gravity</td>\n",
              "      <td>vwc</td>\n",
              "      <td>unknown</td>\n",
              "      <td>soft</td>\n",
              "      <td>enough</td>\n",
              "      <td>spring</td>\n",
              "      <td>communal standpipe multiple</td>\n",
              "    </tr>\n",
              "    <tr>\n",
              "      <th>14849</th>\n",
              "      <td>Wami / Ruvu</td>\n",
              "      <td>Pwani</td>\n",
              "      <td>Mkuranga</td>\n",
              "      <td>Vikindu</td>\n",
              "      <td>submersible</td>\n",
              "      <td>vwc</td>\n",
              "      <td>per bucket</td>\n",
              "      <td>soft</td>\n",
              "      <td>enough</td>\n",
              "      <td>machine dbh</td>\n",
              "      <td>communal standpipe</td>\n",
              "    </tr>\n",
              "  </tbody>\n",
              "</table>\n",
              "<p>54784 rows × 11 columns</p>\n",
              "</div>\n",
              "      <button class=\"colab-df-convert\" onclick=\"convertToInteractive('df-49a1db78-c02b-4aef-8a0b-cf5d4329932a')\"\n",
              "              title=\"Convert this dataframe to an interactive table.\"\n",
              "              style=\"display:none;\">\n",
              "        \n",
              "  <svg xmlns=\"http://www.w3.org/2000/svg\" height=\"24px\"viewBox=\"0 0 24 24\"\n",
              "       width=\"24px\">\n",
              "    <path d=\"M0 0h24v24H0V0z\" fill=\"none\"/>\n",
              "    <path d=\"M18.56 5.44l.94 2.06.94-2.06 2.06-.94-2.06-.94-.94-2.06-.94 2.06-2.06.94zm-11 1L8.5 8.5l.94-2.06 2.06-.94-2.06-.94L8.5 2.5l-.94 2.06-2.06.94zm10 10l.94 2.06.94-2.06 2.06-.94-2.06-.94-.94-2.06-.94 2.06-2.06.94z\"/><path d=\"M17.41 7.96l-1.37-1.37c-.4-.4-.92-.59-1.43-.59-.52 0-1.04.2-1.43.59L10.3 9.45l-7.72 7.72c-.78.78-.78 2.05 0 2.83L4 21.41c.39.39.9.59 1.41.59.51 0 1.02-.2 1.41-.59l7.78-7.78 2.81-2.81c.8-.78.8-2.07 0-2.86zM5.41 20L4 18.59l7.72-7.72 1.47 1.35L5.41 20z\"/>\n",
              "  </svg>\n",
              "      </button>\n",
              "      \n",
              "  <style>\n",
              "    .colab-df-container {\n",
              "      display:flex;\n",
              "      flex-wrap:wrap;\n",
              "      gap: 12px;\n",
              "    }\n",
              "\n",
              "    .colab-df-convert {\n",
              "      background-color: #E8F0FE;\n",
              "      border: none;\n",
              "      border-radius: 50%;\n",
              "      cursor: pointer;\n",
              "      display: none;\n",
              "      fill: #1967D2;\n",
              "      height: 32px;\n",
              "      padding: 0 0 0 0;\n",
              "      width: 32px;\n",
              "    }\n",
              "\n",
              "    .colab-df-convert:hover {\n",
              "      background-color: #E2EBFA;\n",
              "      box-shadow: 0px 1px 2px rgba(60, 64, 67, 0.3), 0px 1px 3px 1px rgba(60, 64, 67, 0.15);\n",
              "      fill: #174EA6;\n",
              "    }\n",
              "\n",
              "    [theme=dark] .colab-df-convert {\n",
              "      background-color: #3B4455;\n",
              "      fill: #D2E3FC;\n",
              "    }\n",
              "\n",
              "    [theme=dark] .colab-df-convert:hover {\n",
              "      background-color: #434B5C;\n",
              "      box-shadow: 0px 1px 3px 1px rgba(0, 0, 0, 0.15);\n",
              "      filter: drop-shadow(0px 1px 2px rgba(0, 0, 0, 0.3));\n",
              "      fill: #FFFFFF;\n",
              "    }\n",
              "  </style>\n",
              "\n",
              "      <script>\n",
              "        const buttonEl =\n",
              "          document.querySelector('#df-49a1db78-c02b-4aef-8a0b-cf5d4329932a button.colab-df-convert');\n",
              "        buttonEl.style.display =\n",
              "          google.colab.kernel.accessAllowed ? 'block' : 'none';\n",
              "\n",
              "        async function convertToInteractive(key) {\n",
              "          const element = document.querySelector('#df-49a1db78-c02b-4aef-8a0b-cf5d4329932a');\n",
              "          const dataTable =\n",
              "            await google.colab.kernel.invokeFunction('convertToInteractive',\n",
              "                                                     [key], {});\n",
              "          if (!dataTable) return;\n",
              "\n",
              "          const docLinkHtml = 'Like what you see? Visit the ' +\n",
              "            '<a target=\"_blank\" href=https://colab.research.google.com/notebooks/data_table.ipynb>data table notebook</a>'\n",
              "            + ' to learn more about interactive tables.';\n",
              "          element.innerHTML = '';\n",
              "          dataTable['output_type'] = 'display_data';\n",
              "          await google.colab.output.renderOutput(dataTable, element);\n",
              "          const docLink = document.createElement('div');\n",
              "          docLink.innerHTML = docLinkHtml;\n",
              "          element.appendChild(docLink);\n",
              "        }\n",
              "      </script>\n",
              "    </div>\n",
              "  </div>\n",
              "  "
            ]
          },
          "metadata": {},
          "execution_count": 163
        }
      ]
    },
    {
      "cell_type": "code",
      "source": [
        "train_X_encoded"
      ],
      "metadata": {
        "id": "PphARmqw0xef",
        "colab": {
          "base_uri": "https://localhost:8080/"
        },
        "outputId": "ada404fb-c14c-431b-d32a-0a016e0ad8e9"
      },
      "execution_count": 164,
      "outputs": [
        {
          "output_type": "execute_result",
          "data": {
            "text/plain": [
              "array([[  5.,   6.,  16., ...,   1.,   8.,   1.],\n",
              "       [  1.,   3.,  51., ...,   1.,   8.,   1.],\n",
              "       [  5.,   0.,   0., ...,   2.,   8.,   1.],\n",
              "       ...,\n",
              "       [  4.,   4.,  12., ...,   1.,   1.,   4.],\n",
              "       [  5.,   6., 101., ...,   2.,   8.,   1.],\n",
              "       [  3.,  19.,  94., ...,   1.,   7.,   4.]])"
            ]
          },
          "metadata": {},
          "execution_count": 164
        }
      ]
    },
    {
      "cell_type": "code",
      "source": [
        "y_encoder = LabelEncoder()\n",
        "train_y_encoded = y_encoder.fit_transform(train_set1['status_group'])"
      ],
      "metadata": {
        "id": "8tT8ym_ROTiV"
      },
      "execution_count": 165,
      "outputs": []
    },
    {
      "cell_type": "code",
      "source": [
        "from sklearn.naive_bayes import CategoricalNB\n",
        "\n",
        "cnb = CategoricalNB()\n",
        "cnb.fit(train_X_encoded, train_y_encoded)"
      ],
      "metadata": {
        "colab": {
          "base_uri": "https://localhost:8080/"
        },
        "id": "gqwEv0OHOTfn",
        "outputId": "827c2997-5e5e-4f77-9eb3-22b27749d85f"
      },
      "execution_count": 166,
      "outputs": [
        {
          "output_type": "execute_result",
          "data": {
            "text/plain": [
              "CategoricalNB()"
            ]
          },
          "metadata": {},
          "execution_count": 166
        }
      ]
    },
    {
      "cell_type": "code",
      "source": [
        "from sklearn.metrics import accuracy_score\n",
        "\n",
        "#Training accuracy\n",
        "y_train_pred_cnb = cnb.predict(train_X_encoded)\n",
        "accuracy_score(train_y_encoded, y_train_pred_cnb)"
      ],
      "metadata": {
        "colab": {
          "base_uri": "https://localhost:8080/"
        },
        "id": "fILUzJG8YTeO",
        "outputId": "316de4df-4e31-463d-e0d8-084ab7682325"
      },
      "execution_count": 167,
      "outputs": [
        {
          "output_type": "execute_result",
          "data": {
            "text/plain": [
              "0.6980267441278108"
            ]
          },
          "metadata": {},
          "execution_count": 167
        }
      ]
    },
    {
      "cell_type": "code",
      "source": [
        "test_X_encoded = X_encoder.transform(test_set1)\n",
        "y_test_pred_cnb = cnb.predict(test_X_encoded)"
      ],
      "metadata": {
        "id": "lLfIGZ2ncD7e"
      },
      "execution_count": 168,
      "outputs": []
    },
    {
      "cell_type": "code",
      "source": [
        "PF = pd.DataFrame(y_encoder.inverse_transform(y_test_pred_cnb), columns = ['status_group'])\n",
        "PF.insert(loc=0, column = 'id', value=test_df['id'])\n",
        "PF.to_csv(\"prediction_cnb.csv\", index=False)\n"
      ],
      "metadata": {
        "id": "GvK_UwfLZTaB"
      },
      "execution_count": 169,
      "outputs": []
    },
    {
      "cell_type": "code",
      "source": [
        ""
      ],
      "metadata": {
        "id": "d_3-JVT0lBLb"
      },
      "execution_count": 169,
      "outputs": []
    },
    {
      "cell_type": "code",
      "source": [
        ""
      ],
      "metadata": {
        "id": "CDPEx9Aszc3j"
      },
      "execution_count": 169,
      "outputs": []
    },
    {
      "cell_type": "code",
      "metadata": {
        "colab": {
          "base_uri": "https://localhost:8080/"
        },
        "id": "0zMDOEG5lBLd",
        "outputId": "bd118289-d5e0-4929-ba5e-dc02501f4070"
      },
      "source": [
        "from sklearn.ensemble import RandomForestClassifier\n",
        "\n",
        "clf = RandomForestClassifier(max_depth=2, random_state=0)\n",
        "clf.fit(train_X_encoded, train_y_encoded)"
      ],
      "execution_count": 170,
      "outputs": [
        {
          "output_type": "execute_result",
          "data": {
            "text/plain": [
              "RandomForestClassifier(max_depth=2, random_state=0)"
            ]
          },
          "metadata": {},
          "execution_count": 170
        }
      ]
    },
    {
      "cell_type": "code",
      "source": [
        "#Training accuracy\n",
        "y_train_pred_cnb = clf.predict(train_X_encoded)\n",
        "accuracy_score(train_y_encoded, y_train_pred_cnb)"
      ],
      "metadata": {
        "colab": {
          "base_uri": "https://localhost:8080/"
        },
        "id": "YLBvpJx7yBgi",
        "outputId": "90d716e2-60f2-49d7-aab7-c48f6207b84c"
      },
      "execution_count": 171,
      "outputs": [
        {
          "output_type": "execute_result",
          "data": {
            "text/plain": [
              "0.6952471578103872"
            ]
          },
          "metadata": {},
          "execution_count": 171
        }
      ]
    },
    {
      "cell_type": "code",
      "source": [
        "y_test_pred_cnb = clf.predict(test_X_encoded)"
      ],
      "metadata": {
        "id": "1mSFzVulzQJZ"
      },
      "execution_count": 172,
      "outputs": []
    },
    {
      "cell_type": "code",
      "source": [
        "RF = pd.DataFrame(y_encoder.inverse_transform(y_test_pred_cnb), columns = ['status_group'])\n",
        "RF.insert(loc=0, column = 'id', value=test_df['id'])\n",
        "RF.to_csv(\"prediction_rf.csv\", index=False)\n"
      ],
      "metadata": {
        "id": "pXEq4dt1zQJb"
      },
      "execution_count": 173,
      "outputs": []
    },
    {
      "cell_type": "code",
      "source": [
        ""
      ],
      "metadata": {
        "id": "XtQXt4T5yBbp"
      },
      "execution_count": 173,
      "outputs": []
    }
  ]
}